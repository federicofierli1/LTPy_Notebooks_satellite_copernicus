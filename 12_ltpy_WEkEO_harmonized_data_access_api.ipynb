{
 "cells": [
  {
   "cell_type": "markdown",
   "metadata": {},
   "source": [
    "<img src='./img/EU-Copernicus-EUM_3Logos.png' alt='Logo EU Copernicus EUMETSAT' align='right' width='50%'></img>"
   ]
  },
  {
   "cell_type": "markdown",
   "metadata": {},
   "source": [
    "<br>"
   ]
  },
  {
   "cell_type": "markdown",
   "metadata": {},
   "source": [
    "<a href=\"./11_ltpy_atmospheric_composition_overview.ipynb\"><< 11 - Atmospheric Composition Data - Overview</a><span style=\"float:right;\"><a href=\"./211_ltpy_AC_SAF_GOME-2_L2_load_browse.ipynb\">211 - AC SAF GOME-2 Level 2 Load and Browse>></a></span>"
   ]
  },
  {
   "cell_type": "markdown",
   "metadata": {},
   "source": [
    "# 1.1 WEkEO Harmonized Data Access (HDA) API"
   ]
  },
  {
   "cell_type": "markdown",
   "metadata": {},
   "source": [
    "[WEkEO](https://www.wekeo.eu/) is the EU Copernicus DIAS (Data and Information Access Service) reference service for environmental data, virtual processing environments and skilled user support.\n",
    "\n",
    "WEkEO offers access to a variety of data, including different parameters sensored from Sentinel-1, Sentinel-2 and Sentinel-3. It further offers access to climate reanalysis and seasonal forecast data.\n",
    "\n",
    "The [Harmonised Data Access (HDA) API](https://www.wekeo.eu/documentation/using_jupyter_notebooks), a REST interface, allows users to subset and download datasets from WEkEO.\n",
    "\n",
    "This notebook is a step-by-step guide on how to search for and download data from WEkEO using the `HDA API`.\n",
    "Follow the following steps:\n",
    "\n",
    " - [1. Search for datasets on WEkEO](#wekeo_search)\n",
    " - [2. Get the dataset's Collection ID](#wekeo_collection_id)\n",
    " - [3. Get your WEkEO API key](#wekeo_api_key)\n",
    " - [4. Initialise the WEkEO Harmonised Data Access request](#wekeo_hda_request)\n",
    " - [5. Load data descriptor file and request data](#wekeo_json)\n",
    " - [6. Download requested data](#wekeo_download)\n",
    " - [7. Unzip downloaded .zip archives](#wekeo_unzip)"
   ]
  },
  {
   "cell_type": "markdown",
   "metadata": {},
   "source": [
    "#### Load required libraries"
   ]
  },
  {
   "cell_type": "code",
   "execution_count": null,
   "metadata": {},
   "outputs": [],
   "source": [
    "import os\n",
    "import sys\n",
    "import json\n",
    "import xarray as xr\n",
    "import numpy as np\n",
    "from zipfile import ZipFile\n",
    "import matplotlib.pyplot as plt\n",
    "\n",
    "import glob\n",
    "import matplotlib\n",
    "from matplotlib import gridspec\n",
    "import cartopy.crs as ccrs\n",
    "import cartopy.feature as cfeature\n",
    "import matplotlib.ticker as mticker\n",
    "from IPython.core.display import display, HTML\n",
    "import warnings\n",
    "warnings.filterwarnings('ignore')"
   ]
  },
  {
   "cell_type": "markdown",
   "metadata": {},
   "source": [
    "#### Load helper functions"
   ]
  },
  {
   "cell_type": "code",
   "execution_count": null,
   "metadata": {},
   "outputs": [],
   "source": [
    "from ipynb.fs.full.ltpy_hda_api_functions import init, get_access_token, accept_TandC, launch_query, check_job_status, get_results_list, get_download_links, download_data"
   ]
  },
  {
   "cell_type": "markdown",
   "metadata": {},
   "source": [
    "<hr>"
   ]
  },
  {
   "cell_type": "markdown",
   "metadata": {},
   "source": [
    "### <a id='wekeo_search'></a>1. Search for datasets on WEkEO"
   ]
  },
  {
   "cell_type": "markdown",
   "metadata": {},
   "source": [
    "Under [WEkEO DATA](https://www.wekeo.eu/dataset-navigator/start), you can search all datasets available on WEkEO. As an exmaple: 29 results are returned as a list or the search term `sentinel 3 level 1`. You can click on the dataset you are interested in and you will be guided to a product description.\n",
    "\n",
    "<br>\n",
    "\n",
    "<div style='text-align:center;'>\n",
    "<figure><img src='./img/wekeo_data_search.png' width='80%' />\n",
    "    <figcaption><i>WEkEO interface to search for datasets</i></figcaption>\n",
    "</figure>\n",
    "</div>"
   ]
  },
  {
   "cell_type": "markdown",
   "metadata": {},
   "source": [
    "### <a id='wekeo_collection_id'></a>2. Get the Collection ID "
   ]
  },
  {
   "cell_type": "markdown",
   "metadata": {},
   "source": [
    "At the end of the data description, you get additional information to the dataset, including the `Collection ID`. You need the `Collection ID` to request data from the Harmonised Data Access API. \n",
    "\n",
    "For `OLCI Level 1B Full Resolution - Sentinel-3` data for example, the collection ID is `EO:EUM:DAT:SENTINEL-3:OL_1_EFR___`.\n",
    "\n",
    "<br>\n",
    "\n",
    "<div style='text-align:center;'>\n",
    "<figure><img src='./img/wekeo_collection_id.png' width='50%' />\n",
    "    <figcaption><i>Additional dataset information on WEkEO</i></figcaption>\n",
    "</figure>\n",
    "</div>\n",
    "\n",
    "\n",
    "Let's store the Collection ID as a variable to be used later."
   ]
  },
  {
   "cell_type": "code",
   "execution_count": null,
   "metadata": {},
   "outputs": [],
   "source": [
    "collection_id = \"EO:EUM:DAT:SENTINEL-3:OL_1_EFR___\""
   ]
  },
  {
   "cell_type": "markdown",
   "metadata": {},
   "source": [
    "### <a id='wekeo_api_key'></a>3. Get the WEkEO API key"
   ]
  },
  {
   "cell_type": "markdown",
   "metadata": {},
   "source": [
    "In order to interact with WEkEO's Harmonised Data Access API, each user gets assigned an `API key` and `API token`. You will need the API key in order to download data in a programmatic way.\n",
    "\n",
    "Under [https://www.wekeo.eu/api-keys](https://www.wekeo.eu/api-keys), you can retrieve your WEkEO user credentials. At the bottom of the interface, you can click on `Show hidden keys` and your `API key` is shown. <br> \n",
    "NOTE: you have to be logged in with your user account.\n",
    "\n",
    "<br>\n",
    "<div style='text-align:center;'>\n",
    "<figure><img src='./img/wekeo_api_key.png' width='50%' />\n",
    "    <figcaption><i>WEkEO API key interface</i></figcaption>\n",
    "</figure>\n",
    "</div>\n",
    "\n",
    "<br>\n",
    "\n",
    "You can copy paste the `API key` in the first grey box after `-H \"Authorization: Basic ...` and store it as a variable called `api_key`.\n"
   ]
  },
  {
   "cell_type": "code",
   "execution_count": null,
   "metadata": {},
   "outputs": [],
   "source": [
    "api_key = 'REPLACE_WITH_YOUR_API_KEY'"
   ]
  },
  {
   "cell_type": "markdown",
   "metadata": {},
   "source": [
    "In addition, you can also store the path to the folder, where you want to save the files after download."
   ]
  },
  {
   "cell_type": "code",
   "execution_count": null,
   "metadata": {},
   "outputs": [],
   "source": [
    "download_dir_path = './eodata/sentinel3/olci/'\n",
    "verbose = False"
   ]
  },
  {
   "cell_type": "markdown",
   "metadata": {},
   "source": [
    "### <a id='wekeo_hda_request'></a>4. Initialise the Harmonised Data Access API request"
   ]
  },
  {
   "cell_type": "markdown",
   "metadata": {},
   "source": [
    "In order to initialise an API request, you have to initialise a dictionary that contains information on `dataset_id`, `api_key`, `download_directory_path` and whether you wish the request to be `verbose`.\n",
    "\n",
    "The notebook [ltpy_hda_api_functions.ipynb](./ltpy_hda_api_functions.ipynb) offers a set of helper functions.\n",
    "\n",
    "Once initialised, you can request an access token with the function `get_access_token`. You might need to accept the Terms&Conditions, which you can do with the function `accept_TandC`."
   ]
  },
  {
   "cell_type": "code",
   "execution_count": null,
   "metadata": {
    "scrolled": true
   },
   "outputs": [],
   "source": [
    "HAPI_dict = init(collection_id, api_key, download_dir_path, verbose=verbose)\n",
    "\n",
    "HAPI_dict = get_access_token(HAPI_dict)\n",
    "HAPI_dict = accept_TandC(HAPI_dict)"
   ]
  },
  {
   "cell_type": "markdown",
   "metadata": {},
   "source": [
    "### <a id='wekeo_json'></a>5. Load data descriptor file and request data"
   ]
  },
  {
   "cell_type": "markdown",
   "metadata": {},
   "source": [
    "The Harmonised Data Access API can read your data request from a `JSON` file. In this JSON-based file, you can describe the dataset you are interested in downloading. The file is in principle a dictionary. Following keys can be defined:\n",
    "- `datasetID`: the dataset's collection ID\n",
    "- `stringChoiceValues`: type of dataset, e.g. 'Non Time Critical'\n",
    "- `dataRangeSelectValues`: time period you would like to retrieve data\n",
    "- `boundingBoxValues`: optional to define a subset of a global field\n",
    "\n",
    "See an example of a `data descriptor` file [here](./olci_data_descriptor.json)\n",
    "\n",
    "You can load the `JSON` file with `json.load()`. The function `launch_query` will launch your data request."
   ]
  },
  {
   "cell_type": "code",
   "execution_count": null,
   "metadata": {
    "scrolled": false
   },
   "outputs": [],
   "source": [
    "# load the query\n",
    "with open('./olci_data_descriptor.json', 'r') as f:\n",
    "    query = json.load(f)\n",
    "\n",
    "# launch job\n",
    "HAPI_dict = launch_query(HAPI_dict, query)\n"
   ]
  },
  {
   "cell_type": "markdown",
   "metadata": {},
   "source": [
    "### <a id='wekeo_download'></a>6. Download requested data"
   ]
  },
  {
   "cell_type": "markdown",
   "metadata": {},
   "source": [
    "The functions `check_job_status`, `get_results_list` and `get_download_links` help you to monitor the retrieval request.\n",
    "\n",
    "As a final step, you can use the function `download_data` to initialize the data download. "
   ]
  },
  {
   "cell_type": "code",
   "execution_count": null,
   "metadata": {},
   "outputs": [],
   "source": [
    "# wait for jobs to complete\n",
    "check_job_status(HAPI_dict)\n",
    "\n",
    "# check results\n",
    "HAPI_dict = get_results_list(HAPI_dict)\n",
    "HAPI_dict = get_download_links(HAPI_dict)\n",
    "\n",
    "# download data\n",
    "HAPI_dict = download_data(HAPI_dict, skip_existing=True)"
   ]
  },
  {
   "cell_type": "markdown",
   "metadata": {},
   "source": [
    "### <a id='wekeo_unzip'></a>7. Unzip the downloaded data archives"
   ]
  },
  {
   "cell_type": "markdown",
   "metadata": {},
   "source": [
    "Sentinel-3 data are disseminated in `.zip archives`. Thus, a final step is to unzip the downloaded .zip archives. The result is a folder that ends with .SEN3 and which contains the Sentinel3 data files in `NetCDF` format."
   ]
  },
  {
   "cell_type": "code",
   "execution_count": null,
   "metadata": {},
   "outputs": [],
   "source": [
    "def unzip_downloads():\n",
    "    file_list = glob.glob('*.zip')\n",
    "    print(file_list)\n",
    "    for filename in file_list:\n",
    "        print(filename)\n",
    "        print('Unzipping file')\n",
    "        with ZipFile(filename, 'r') as zipObj:\n",
    "            zipObj.extractall(os.path.dirname(filename))"
   ]
  },
  {
   "cell_type": "code",
   "execution_count": null,
   "metadata": {},
   "outputs": [],
   "source": [
    "unzip_downloads()"
   ]
  },
  {
   "cell_type": "markdown",
   "metadata": {},
   "source": [
    "<br>"
   ]
  },
  {
   "cell_type": "markdown",
   "metadata": {},
   "source": [
    "<a href=\"./11_ltpy_atmospheric_composition_overview.ipynb\"><< 11 - Atmospheric Composition Data - Overview</a><span style=\"float:right;\"><a href=\"./211_ltpy_AC_SAF_GOME-2_L2_load_browse.ipynb\">211 - AC SAF GOME-2 Level 2 Load and Browse>></a></span>"
   ]
  },
  {
   "cell_type": "markdown",
   "metadata": {},
   "source": [
    "<hr>"
   ]
  },
  {
   "cell_type": "markdown",
   "metadata": {},
   "source": [
    "<p style=\"text-align:left;\">This project is licensed under the <a href=\"./LICENSE\">MIT License</a> <span style=\"float:right;\"><a href=\"https://gitlab.eumetsat.int/eumetlab/atmosphere/atmosphere\">View on GitLab</a> | <a href=\"https://training.eumetsat.int/\">EUMETSAT Training</a> | <a href=mailto:training@eumetsat.int>Contact</a></span></p>"
   ]
  }
 ],
 "metadata": {
  "kernelspec": {
   "display_name": "Python 3",
   "language": "python",
   "name": "python3"
  },
  "language_info": {
   "codemirror_mode": {
    "name": "ipython",
    "version": 3
   },
   "file_extension": ".py",
   "mimetype": "text/x-python",
   "name": "python",
   "nbconvert_exporter": "python",
   "pygments_lexer": "ipython3",
   "version": "3.7.3"
  }
 },
 "nbformat": 4,
 "nbformat_minor": 2
}
