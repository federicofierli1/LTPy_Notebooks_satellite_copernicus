{
 "cells": [
  {
   "cell_type": "markdown",
   "metadata": {},
   "source": [
    "<img src='./img/EU-Copernicus-EUM_3Logos.png' alt='Logo EU Copernicus EUMETSAT' align='right' width='50%'></img>\n",
    "<br>"
   ]
  },
  {
   "cell_type": "markdown",
   "metadata": {},
   "source": [
    "<br>"
   ]
  },
  {
   "cell_type": "markdown",
   "metadata": {},
   "source": [
    "## Example `ECMWF Web API` requests for CAMS data"
   ]
  },
  {
   "cell_type": "markdown",
   "metadata": {},
   "source": [
    "CAMS data can be retrieved via the [ECMWF Public Dataset web interface](https://apps.ecmwf.int/datasets/). You can browse, select and download data there.\n",
    "The web interface give you the option to retrieve the `ECMWF Web API request` for the dataset you have selected.\n",
    "\n",
    "Below, you see examples of `ECMWF WebAPI retrieve requests` for different CAMS data types."
   ]
  },
  {
   "cell_type": "code",
   "execution_count": 1,
   "metadata": {},
   "outputs": [],
   "source": [
    "#!/usr/bin/env python\n",
    "from ecmwfapi import ECMWFDataServer\n",
    "server = ECMWFDataServer(url=\"https://api.ecmwf.int/v1\", key=\"6fa88ae2cf8c30e6b688fd565a95b05c\", email=\"julia.wagemann@ecmwf.int\")"
   ]
  },
  {
   "cell_type": "markdown",
   "metadata": {},
   "source": [
    "### CAMS Global Reanalysis"
   ]
  },
  {
   "cell_type": "markdown",
   "metadata": {},
   "source": [
    "Example `retrieve request` for a parameter of CAMS Global Reanalysis data:\n",
    "- **Parameter:** `Carbon Aerosol Optical Depth at 550 nm`\n",
    "- **Time period:** 1 December 2018\n",
    "- **Format:** NetCDF"
   ]
  },
  {
   "cell_type": "code",
   "execution_count": null,
   "metadata": {},
   "outputs": [],
   "source": [
    "# Retrieve data in NetCDF format\n",
    "server.retrieve({\n",
    "    \"class\": \"mc\",\n",
    "    \"dataset\": \"cams_reanalysis\",\n",
    "    \"date\": \"2018-12-01\",\n",
    "    \"expver\": \"eac4\",\n",
    "    \"levtype\": \"sfc\",\n",
    "    \"param\": \"211.210\",\n",
    "    \"stream\": \"oper\",\n",
    "    \"time\": \"00:00:00\",\n",
    "    \"type\": \"an\",\n",
    "    \"format\": \"netcdf\",\n",
    "    \"grid\": \"0.4/0.4\",\n",
    "    \"area\": \"90/-180/-90/180\",\n",
    "    \"target\": \"cams_ra_test.nc\",\n",
    "})"
   ]
  },
  {
   "cell_type": "markdown",
   "metadata": {},
   "source": [
    "<hr>"
   ]
  },
  {
   "cell_type": "markdown",
   "metadata": {},
   "source": [
    "### CAMS Global Analyses and Forecasts"
   ]
  },
  {
   "cell_type": "markdown",
   "metadata": {},
   "source": [
    "Example `retrieve request` for a parameter of CAMS Global Forecast data:\n",
    "- **Parameter:** `Total Aerosol Optical Depth at 550 nm`\n",
    "- **Time period:** 1 October 2019\n",
    "- **Forecast step:** 24 / 48 hours\n",
    "- **Format:** NetCDF"
   ]
  },
  {
   "cell_type": "code",
   "execution_count": null,
   "metadata": {},
   "outputs": [],
   "source": [
    "server.retrieve({\n",
    "    \"class\": \"mc\",\n",
    "    \"dataset\": \"cams_nrealtime\",\n",
    "    \"date\": \"2019-10-01/to/2019-10-01\",\n",
    "    \"expver\": \"0001\",\n",
    "    \"levtype\": \"sfc\",\n",
    "    \"param\": \"207.210\",\n",
    "    \"step\": \"24/48\",\n",
    "    \"stream\": \"oper\",\n",
    "    \"time\": \"00:00:00\",\n",
    "    \"type\": \"fc\",\n",
    "    \"format\": \"netcdf\",\n",
    "    \"grid\": \"0.4/0.4\",\n",
    "    \"area\": \"90/-180/-90/180\",\n",
    "    \"target\": \"cams_fc_test.nc\"\n",
    "})"
   ]
  },
  {
   "cell_type": "markdown",
   "metadata": {},
   "source": [
    "<hr>"
   ]
  },
  {
   "cell_type": "markdown",
   "metadata": {},
   "source": [
    "### CAMS Global Fire Assimilation System (GFAS)"
   ]
  },
  {
   "cell_type": "markdown",
   "metadata": {},
   "source": [
    "Example `retrieve request` for a GFAS data parameter:\n",
    "- **Parameter:** `Wildfire radiative power`\n",
    "- **Time period:** 22 to 24 October 2019\n",
    "- **Format:** NetCDF"
   ]
  },
  {
   "cell_type": "code",
   "execution_count": 4,
   "metadata": {},
   "outputs": [
    {
     "name": "stdout",
     "output_type": "stream",
     "text": [
      "2019-11-27 17:15:58 ECMWF API python library 1.5.0\n",
      "2019-11-27 17:15:58 ECMWF API at https://api.ecmwf.int/v1\n",
      "2019-11-27 17:15:58 Welcome Julia Wagemann\n",
      "2019-11-27 17:15:58 In case of problems, please check https://confluence.ecmwf.int/display/WEBAPI/Web+API+FAQ or contact servicedesk@ecmwf.int\n",
      "2019-11-27 17:15:59 Request submitted\n",
      "2019-11-27 17:15:59 Request id: 5ddea13fc8ca1975ab35a531\n",
      "2019-11-27 17:15:59 Request is submitted\n",
      "2019-11-27 17:16:01 Request is queued\n",
      "Calling 'nice mars /tmp/a3/2e/tmp-_marsSo59VF.req'\n",
      "mars - WARN -\n",
      "mars - WARN - From 29 January 2019 10AM (UTC) MARS uses the interpolation\n",
      "mars - WARN - provided by the MIR library. For more details, see\n",
      "mars - WARN - https://confluence.ecmwf.int/display/UDOC/MARS+interpolation+with+MIR\n",
      "mars - WARN -\n",
      "PPDIR is /var/tmp/ppdir/x86_64\n",
      "mars - INFO   - 20191127.161629 - Welcome to MARS\n",
      "mars - INFO   - 20191127.161629 - MARS Client build stamp: 20190607111047\n",
      "mars - INFO   - 20191127.161629 - MARS Client version: 6.25.3\n",
      "mars - INFO   - 20191127.161629 - MIR version: 1.2.5\n",
      "mars - INFO   - 20191127.161629 - Using ecCodes version 2.12.6\n",
      "mars - INFO   - 20191127.161629 - Using odb_api version: 0.15.10 (file format version: 0.5)\n",
      "mars - INFO   - 20191127.161629 - Maximum retrieval size is 30.00 G\n",
      "retrieve,stream=gfas,area=90/-180/-90/180,levtype=sfc,param=99.210,padding=0,step=0-24,grid=0.1/0.1,expver=0001,time=00:00:00,date=2019-07-23/to/2019-07-29,type=ga,class=mcmars - INFO   - 20191127.161629 - Automatic split by date is on\n",
      "\n",
      "mars - INFO   - 20191127.161629 - Processing request 1\n",
      "\n",
      "RETRIEVE,\n",
      "    CLASS      = MC,\n",
      "    TYPE       = GA,\n",
      "    STREAM     = GFAS,\n",
      "    EXPVER     = 0001,\n",
      "    REPRES     = SH,\n",
      "    LEVTYPE    = SFC,\n",
      "    PARAM      = 99.210,\n",
      "    TIME       = 0000,\n",
      "    STEP       = 0-24,\n",
      "    DOMAIN     = G,\n",
      "    RESOL      = AUTO,\n",
      "    AREA       = 90/-180/-90/180,\n",
      "    GRID       = 0.1/0.1,\n",
      "    PADDING    = 0,\n",
      "    DATE       = 20190723/20190724/20190725/20190726/20190727/20190728/20190729\n",
      "\n",
      "mars - INFO   - 20191127.161629 - Web API request id: 5ddea13fc8ca1975ab35a531\n",
      "mars - INFO   - 20191127.161629 - Requesting 7 fields\n",
      "mars - INFO   - 20191127.161629 - Calling mars on 'marser', callback on 59493\n",
      "mars - INFO   - 20191127.161630 - Server task is 257 [marser]\n",
      "mars - INFO   - 20191127.161630 - Request cost: 7 fields, 173.035 Mbytes online, nodes: mvr06 [marser]\n",
      "mars - INFO   - 20191127.161630 - Transfering 181440756 bytes\n",
      "mars - INFO   - 20191127.161632 - Cache file /data/ec_coeff/mir/cropping/9/da6dfba4cd7e5caf742c0869f9a926f8.area does not exist\n",
      "mars - INFO   - 20191127.161632 - Creating cache file /data/ec_coeff/mir/cropping/9/da6dfba4cd7e5caf742c0869f9a926f8.area\n",
      "mars - INFO   - 20191127.161632 - CacheManager creating file /data/ec_coeff/mir/cropping/9/da6dfba4cd7e5caf742c0869f9a926f8.area\n",
      "2019-11-27 17:16:33 Request is active\n",
      "mars - INFO   - 20191127.161644 - 7 fields retrieved from 'marser'\n",
      "mars - INFO   - 20191127.161644 - 7 fields have been interpolated\n",
      "mars - INFO   - 20191127.161644 - Request time:  wall: 15 sec  cpu: 12 sec\n",
      "mars - INFO   - 20191127.161644 -   Read from network: 173.04 Mbyte(s) in < 1 sec [273.89 Mbyte/sec]\n",
      "mars - INFO   - 20191127.161644 -   Visiting marser: wall: 15 sec\n",
      "mars - INFO   - 20191127.161644 -   Post-processing: wall: 13 sec cpu: 11 sec\n",
      "mars - INFO   - 20191127.161644 -   Writing to target file: 173.04 Mbyte(s) in < 1 sec [698.66 Mbyte/sec]\n",
      "mars - INFO   - 20191127.161644 - Memory used: 553.84 Mbyte(s)\n",
      "mars - INFO   - 20191127.161644 - No errors reported\n",
      "Process '['nice', 'mars', '/tmp/a3/2e/tmp-_marsSo59VF.req']' finished\n",
      "Calling 'nice grib_to_netcdf /data/data04/scratch/34/15/_mars-atls05-a562cefde8a29a7288fa0b8b7f9413f7-gN7mtM.grib -o /data/data02/scratch/6d/0d/_grib2netcdf-atls12-a82bacafb5c306db76464bc7e824bb75-VmkGea.nc -utime'\n",
      "grib_to_netcdf: Version 2.14.1\n",
      "grib_to_netcdf: Processing input file '/data/data04/scratch/34/15/_mars-atls05-a562cefde8a29a7288fa0b8b7f9413f7-gN7mtM.grib'.\n",
      "grib_to_netcdf: Found 7 GRIB fields in 1 file.\n",
      "grib_to_netcdf: Ignoring key(s): method, type, stream, refdate, hdate\n",
      "grib_to_netcdf: Creating netCDF file '/data/data02/scratch/6d/0d/_grib2netcdf-atls12-a82bacafb5c306db76464bc7e824bb75-VmkGea.nc'\n",
      "grib_to_netcdf: NetCDF library version: 4.4.1.1 of Mar 14 2018 13:48:26 $\n",
      "grib_to_netcdf: Creating large (64 bit) file format.\n",
      "grib_to_netcdf: Defining variable 'frpfire'.\n",
      "grib_to_netcdf: Done.\n",
      "Process '['nice', 'grib_to_netcdf', '/data/data04/scratch/34/15/_mars-atls05-a562cefde8a29a7288fa0b8b7f9413f7-gN7mtM.grib', '-o', '/data/data02/scratch/6d/0d/_grib2netcdf-atls12-a82bacafb5c306db76464bc7e824bb75-VmkGea.nc', '-utime']' finished\n",
      "2019-11-27 17:16:54 Request is complete\n",
      "2019-11-27 17:16:54 Transfering 86.5389 Mbytes into ./eodata/cams/gfas/2019/07/23/20190723_wildfire_radiative_power.nc\n",
      "2019-11-27 17:16:54 From https://stream.ecmwf.int/data/atls12/data/data02/scratch/6d/0d/_grib2netcdf-atls12-a82bacafb5c306db76464bc7e824bb75-VmkGea.nc\n",
      "2019-11-27 17:18:10 Transfer rate 1.14421 Mbytes/s\n"
     ]
    }
   ],
   "source": [
    "#!/usr/bin/env python\n",
    "server.retrieve({\n",
    "    \"class\": \"mc\",\n",
    "    \"dataset\": \"cams_gfas\",\n",
    "    \"date\": \"2019-07-23/to/2019-07-29\",\n",
    "    \"expver\": \"0001\",\n",
    "    \"levtype\": \"sfc\",\n",
    "    \"param\": \"99.210\",\n",
    "    \"step\": \"0-24\",\n",
    "    \"stream\": \"gfas\",\n",
    "    \"time\": \"00:00:00\",\n",
    "    \"type\": \"ga\",\n",
    "    \"grid\": \"0.1/0.1\",\n",
    "    \"area\": \"90/-180/-90/180\",\n",
    "    \"format\": \"netcdf\",\n",
    "    \"target\": \"./eodata/cams/gfas/2019/07/23/20190723_wildfire_radiative_power.nc\"\n",
    "})"
   ]
  },
  {
   "cell_type": "markdown",
   "metadata": {},
   "source": [
    "<hr>"
   ]
  },
  {
   "cell_type": "markdown",
   "metadata": {},
   "source": [
    "### CAMS Greenhouse Gases Flux Inversions"
   ]
  },
  {
   "cell_type": "markdown",
   "metadata": {},
   "source": [
    "Example `retrieve request` for a parameter of CAMS Greenhouse Gases Flux Inversions:\n",
    "- **Parameter:** `Carbondioxide`\n",
    "- **Time period:** 1 Jan 1979 to 31 Dec 2018\n",
    "- **Temporal resolution**: monthly\n",
    "- **Format:** NetCDF"
   ]
  },
  {
   "cell_type": "code",
   "execution_count": null,
   "metadata": {},
   "outputs": [],
   "source": [
    "server.retrieve({\n",
    "    \"dataset\": \"cams_ghg_inversions\",\n",
    "    \"datatype\": \"ra\",\n",
    "    \"date\": \"1979-01-01/to/2018-12-31\",\n",
    "    \"frequency\": \"mm\",\n",
    "    \"param\": \"co2\",\n",
    "    \"quantity\": \"surface_flux\",\n",
    "    \"version\": \"v18r2\",\n",
    "    \"format\": \"netcdf\",\n",
    "    \"grid\": \"0.4/0.4\",\n",
    "    \"area\": \"90/-180/-90/180\",\n",
    "    \"target\": \"cams_ghg_flux_test.nc\",\n",
    "})"
   ]
  },
  {
   "cell_type": "markdown",
   "metadata": {},
   "source": [
    "### CAMS NRT Total column carbon monoxide"
   ]
  },
  {
   "cell_type": "code",
   "execution_count": 3,
   "metadata": {},
   "outputs": [
    {
     "name": "stdout",
     "output_type": "stream",
     "text": [
      "2019-11-27 16:37:46 ECMWF API python library 1.5.0\n",
      "2019-11-27 16:37:46 ECMWF API at https://api.ecmwf.int/v1\n",
      "2019-11-27 16:38:21 Welcome Julia Wagemann\n",
      "2019-11-27 16:38:46 In case of problems, please check https://confluence.ecmwf.int/display/WEBAPI/Web+API+FAQ or contact servicedesk@ecmwf.int\n",
      "Error contacting the WebAPI, retrying in 60 seconds ...\n",
      "2019-11-27 16:39:52 Request submitted\n",
      "2019-11-27 16:39:52 Request id: 5dde98c82fd81c17e074c73f\n",
      "2019-11-27 16:39:52 Request is submitted\n",
      "2019-11-27 16:40:06 Request is queued\n",
      "Calling 'nice mars /tmp/c9/f0/tmp-_mars2pzOiS.req'\n",
      "mars - WARN -\n",
      "mars - WARN - From 29 January 2019 10AM (UTC) MARS uses the interpolation\n",
      "mars - WARN - provided by the MIR library. For more details, see\n",
      "mars - WARN - https://confluence.ecmwf.int/display/UDOC/MARS+interpolation+with+MIR\n",
      "mars - WARN -\n",
      "PPDIR is /var/tmp/ppdir/x86_64\n",
      "mars - INFO   - 20191127.154020 - Welcome to MARS\n",
      "mars - INFO   - 20191127.154020 - MARS Client build stamp: 20190607111047\n",
      "mars - INFO   - 20191127.154020 - MARS Client version: 6.25.3\n",
      "mars - INFO   - 20191127.154020 - MIR version: 1.2.5\n",
      "mars - INFO   - 20191127.154020 - Using ecCodes version 2.12.6\n",
      "mars - INFO   - 20191127.154020 - Using odb_api version: 0.15.10 (file format version: 0.5)\n",
      "mars - INFO   - 20191127.154020 - Maximum retrieval size is 30.00 G\n",
      "retrieve,stream=oper,area=90/-180/-90/180,levtype=sfc,param=127.210,padding=0,step=0/24/48/72/96/120,grid=0.2/0.2,expver=0001,time=00:00:00,date=2019-07-23/to/2019-07-23,type=fc,class=mcmars - INFO   - 20191127.154020 - Automatic split by date is on\n",
      "\n",
      "mars - INFO   - 20191127.154020 - Processing request 1\n",
      "\n",
      "RETRIEVE,\n",
      "    CLASS      = MC,\n",
      "    TYPE       = FC,\n",
      "    STREAM     = OPER,\n",
      "    EXPVER     = 0001,\n",
      "    REPRES     = SH,\n",
      "    LEVTYPE    = SFC,\n",
      "    PARAM      = 127.210,\n",
      "    TIME       = 0000,\n",
      "    STEP       = 0/24/48/72/96/120,\n",
      "    DOMAIN     = G,\n",
      "    RESOL      = AUTO,\n",
      "    AREA       = 90/-180/-90/180,\n",
      "    GRID       = 0.2/0.2,\n",
      "    PADDING    = 0,\n",
      "    DATE       = 20190723\n",
      "\n",
      "mars - INFO   - 20191127.154020 - Web API request id: 5dde98c82fd81c17e074c73f\n",
      "mars - INFO   - 20191127.154020 - Requesting 6 fields\n",
      "mars - INFO   - 20191127.154020 - Calling mars on 'marser', callback on 35695\n",
      "2019-11-27 16:40:24 Request is active\n",
      "mars - INFO   - 20191127.160713 - Server task is 162 [marser]\n",
      "mars - INFO   - 20191127.160713 - Request cost: 6 fields, 5.98936 Mbytes on 1 tape, nodes: hpss [marser]\n",
      "mars - INFO   - 20191127.160858 - Transfering 6280296 bytes\n",
      "mars - INFO   - 20191127.160858 - Cache file /data/ec_coeff/mir/weights/11/linear/R256-ff97ea7ead832cc4cd70f7dc1af0cce8-89.7311:0:-89.7311:359.648/LL-0.2x0.2-90:-180:-90:179.8becb6ebb0254b65e7bc4f67425fb680d.mat does not exist\n",
      "mars - INFO   - 20191127.160858 - Creating cache file /data/ec_coeff/mir/weights/11/linear/R256-ff97ea7ead832cc4cd70f7dc1af0cce8-89.7311:0:-89.7311:359.648/LL-0.2x0.2-90:-180:-90:179.8becb6ebb0254b65e7bc4f67425fb680d.mat\n",
      "mars - INFO   - 20191127.160858 - CacheManager creating file /data/ec_coeff/mir/weights/11/linear/R256-ff97ea7ead832cc4cd70f7dc1af0cce8-89.7311:0:-89.7311:359.648/LL-0.2x0.2-90:-180:-90:179.8becb6ebb0254b65e7bc4f67425fb680d.mat\n",
      "mars - INFO   - 20191127.160858 - ResourceUsage MethodWeighted::createMatrix [linear] => atls14 resident size: 39.2383 Mbytes, mapped private: 508.934 Mbytes, malloc arena: 13.1641 Mbytes, malloc mmaped: 202.363 Mbytes, malloc free bins: 1.21875 Kbytes, malloc total: 12.566 Mbytes, malloc free: 612.438 Kbytes, malloc releasable: 121.141 Kbytes\n",
      "mars - INFO   - 20191127.160858 - ResourceUsage FiniteElement::assemble create k-d tree => atls14 resident size: 124.824 Mbytes, mapped private: 584.75 Mbytes, malloc arena: 55.7188 Mbytes, malloc mmaped: 235.625 Mbytes, malloc free bins: 928 bytes, malloc total: 55.2208 Mbytes, malloc free: 509.938 Kbytes, malloc releasable: 130.953 Kbytes\n",
      "mars - INFO   - 20191127.160858 - ResourceUsage FiniteElement::assemble create k-d tree <= atls14 resident size: 188.27 Mbytes (+63.4453 Mbytes), mapped private: 658.746 Mbytes (+73.9961 Mbytes), malloc arena: 129.715 Mbytes (+73.9961 Mbytes), malloc free bins: 640 bytes (-288 bytes), malloc total: 108.403 Mbytes (+53.1821 Mbytes), malloc free: 21.312 Mbytes (+20.814 Mbytes), malloc releasable: 43.5312 Kbytes (-87.4219 Kbytes)\n",
      "mars - INFO   - 20191127.160907 - ResourceUsage MethodWeighted::createMatrix [linear] <= atls14 resident size: 361.105 Mbytes (+321.867 Mbytes), mapped private: 671.023 Mbytes (+162.09 Mbytes), malloc arena: 87.6875 Mbytes (+74.5234 Mbytes), malloc mmaped: 289.93 Mbytes (+87.5664 Mbytes), malloc free bins: 1.0625 Kbytes (-160 bytes), malloc total: 55.2192 Mbytes (+42.6532 Mbytes), malloc free: 32.4683 Mbytes (+31.8703 Mbytes), malloc releasable: 32.0966 Mbytes (+31.9783 Mbytes)\n",
      "mars - INFO   - 20191127.160907 - 6 fields retrieved from 'marser'\n",
      "mars - INFO   - 20191127.160907 - 6 fields have been interpolated\n",
      "mars - INFO   - 20191127.160907 - Request time:  wall: 28 min 48 sec  cpu: 9 sec\n",
      "mars - INFO   - 20191127.160907 -   Read from network: 5.99 Mbyte(s) in < 1 sec [515.66 Mbyte/sec]\n",
      "mars - INFO   - 20191127.160907 -   Processing in marser: wall: 28 min 38 sec\n",
      "mars - INFO   - 20191127.160907 -   Visiting marser: wall: 28 min 48 sec\n",
      "mars - INFO   - 20191127.160907 -   Post-processing: wall: 10 sec cpu: 10 sec\n",
      "mars - INFO   - 20191127.160907 -   Writing to target file: 27.84 Mbyte(s) in < 1 sec [522.05 Mbyte/sec]\n",
      "mars - INFO   - 20191127.160907 - Memory used: 361.11 Mbyte(s)\n",
      "mars - INFO   - 20191127.160907 - No errors reported\n",
      "Process '['nice', 'mars', '/tmp/c9/f0/tmp-_mars2pzOiS.req']' finished\n",
      "Calling 'nice grib_to_netcdf /data/data02/scratch/5c/d6/_mars-atls14-70e05f9f8ba4e9d19932f1c45a7be8d8-eiOg3n.grib -o /data/data01/scratch/2b/f6/_grib2netcdf-atls06-95e2cf679cd58ee9b4db4dd119a05a8d-irUr2m.nc -utime'\n",
      "grib_to_netcdf: Version 2.14.1\n",
      "grib_to_netcdf: Processing input file '/data/data02/scratch/5c/d6/_mars-atls14-70e05f9f8ba4e9d19932f1c45a7be8d8-eiOg3n.grib'.\n",
      "grib_to_netcdf: Found 6 GRIB fields in 1 file.\n",
      "grib_to_netcdf: Ignoring key(s): method, type, stream, refdate, hdate\n",
      "grib_to_netcdf: Creating netCDF file '/data/data01/scratch/2b/f6/_grib2netcdf-atls06-95e2cf679cd58ee9b4db4dd119a05a8d-irUr2m.nc'\n",
      "grib_to_netcdf: NetCDF library version: 4.4.1.1 of Mar 14 2018 13:48:26 $\n",
      "grib_to_netcdf: Creating large (64 bit) file format.\n",
      "grib_to_netcdf: Defining variable 'tcco'.\n",
      "grib_to_netcdf: Done.\n",
      "Process '['nice', 'grib_to_netcdf', '/data/data02/scratch/5c/d6/_mars-atls14-70e05f9f8ba4e9d19932f1c45a7be8d8-eiOg3n.grib', '-o', '/data/data01/scratch/2b/f6/_grib2netcdf-atls06-95e2cf679cd58ee9b4db4dd119a05a8d-irUr2m.nc', '-utime']' finished\n",
      "2019-11-27 17:10:58 Request is complete\n",
      "2019-11-27 17:10:58 Transfering 18.5713 Mbytes into ./eodata/cams/nrt/co/2019/07/23/20190723_fc_tc_co.nc\n",
      "2019-11-27 17:10:58 From https://stream.ecmwf.int/data/atls06/data/data01/scratch/2b/f6/_grib2netcdf-atls06-95e2cf679cd58ee9b4db4dd119a05a8d-irUr2m.nc\n",
      "2019-11-27 17:11:06 Transfer rate 2.10539 Mbytes/s\n"
     ]
    }
   ],
   "source": [
    "server.retrieve({\n",
    "    \"class\": \"mc\",\n",
    "    \"dataset\": \"cams_nrealtime\",\n",
    "    \"date\": \"2019-07-23/to/2019-07-23\",\n",
    "    \"expver\": \"0001\",\n",
    "    \"levtype\": \"sfc\",\n",
    "    \"param\": \"127.210\",\n",
    "    \"step\": \"0/24/48/72/96/120\",\n",
    "    \"stream\": \"oper\",\n",
    "    \"time\": \"00:00:00\",\n",
    "    \"type\": \"fc\",\n",
    "    \"grid\": \"0.2/0.2\",\n",
    "    \"area\": \"90/-180/-90/180\",\n",
    "    \"format\": \"netcdf\",\n",
    "    \"target\": \"./eodata/cams/nrt/co/2019/07/23/20190723_fc_tc_co.nc\"\n",
    "})"
   ]
  },
  {
   "cell_type": "code",
   "execution_count": 8,
   "metadata": {},
   "outputs": [
    {
     "name": "stdout",
     "output_type": "stream",
     "text": [
      "2019-12-08 11:13:33 ECMWF API python library 1.5.0\n",
      "2019-12-08 11:13:33 ECMWF API at https://api.ecmwf.int/v1\n",
      "2019-12-08 11:13:33 Welcome Julia Wagemann\n",
      "2019-12-08 11:13:33 In case of problems, please check https://confluence.ecmwf.int/display/WEBAPI/Web+API+FAQ or contact servicedesk@ecmwf.int\n",
      "2019-12-08 11:13:34 Request submitted\n",
      "2019-12-08 11:13:34 Request id: 5deccccecad51932a816ddc9\n",
      "2019-12-08 11:13:34 Request is submitted\n",
      "2019-12-08 11:13:35 Request is queued\n",
      "Calling 'nice mars /tmp/41/13/tmp-_marsoggZC3.req'\n",
      "mars - WARN -\n",
      "mars - WARN - From 29 January 2019 10AM (UTC) MARS uses the interpolation\n",
      "mars - WARN - provided by the MIR library. For more details, see\n",
      "mars - WARN - https://confluence.ecmwf.int/display/UDOC/MARS+interpolation+with+MIR\n",
      "mars - WARN -\n",
      "PPDIR is /var/tmp/ppdir/x86_64\n",
      "mars - INFO   - 20191208.101534 - Welcome to MARS\n",
      "mars - INFO   - 20191208.101534 - MARS Client build stamp: 20190607111047\n",
      "mars - INFO   - 20191208.101534 - MARS Client version: 6.25.3\n",
      "mars - INFO   - 20191208.101534 - MIR version: 1.2.5\n",
      "mars - INFO   - 20191208.101534 - Using ecCodes version 2.12.6\n",
      "mars - INFO   - 20191208.101534 - Using odb_api version: 0.15.10 (file format version: 0.5)\n",
      "mars - INFO   - 20191208.101534 - Maximum retrieval size is 30.00 G\n",
      "retrieve,stream=oper,area=90/-180/-90/180,levtype=sfc,param=206.210,padding=0,step=0/24/48/72/96/120,grid=0.4/0.4,expver=0001,time=00:00:00,date=2019-09-10/to/2019-09-10,type=fc,class=mcmars - INFO   - 20191208.101534 - Automatic split by date is on\n",
      "\n",
      "mars - INFO   - 20191208.101534 - Processing request 1\n",
      "\n",
      "RETRIEVE,\n",
      "    CLASS      = MC,\n",
      "    TYPE       = FC,\n",
      "    STREAM     = OPER,\n",
      "    EXPVER     = 0001,\n",
      "    REPRES     = SH,\n",
      "    LEVTYPE    = SFC,\n",
      "    PARAM      = 206.210,\n",
      "    TIME       = 0000,\n",
      "    STEP       = 0/24/48/72/96/120,\n",
      "    DOMAIN     = G,\n",
      "    RESOL      = AUTO,\n",
      "    AREA       = 90/-180/-90/180,\n",
      "    GRID       = 0.4/0.4,\n",
      "    PADDING    = 0,\n",
      "    DATE       = 20190910\n",
      "\n",
      "mars - INFO   - 20191208.101534 - Web API request id: 5deccccecad51932a816ddc9\n",
      "mars - INFO   - 20191208.101534 - Requesting 6 fields\n",
      "mars - INFO   - 20191208.101534 - Calling mars on 'marser', callback on 55902\n",
      "mars - INFO   - 20191208.101534 - Server task is 202 [marser]\n",
      "mars - INFO   - 20191208.101534 - Request cost: 6 fields, 5.98936 Mbytes online, nodes: mvr10 mvr11 [marser]\n",
      "mars - INFO   - 20191208.101534 - Transfering 6280296 bytes\n",
      "mars - INFO   - 20191208.101534 - 6 fields retrieved from 'marser'\n",
      "mars - INFO   - 20191208.101534 - 6 fields have been interpolated\n",
      "mars - INFO   - 20191208.101534 - Request time:  wall: 1 sec\n",
      "mars - INFO   - 20191208.101534 -   Read from network: 5.99 Mbyte(s) in < 1 sec [41.66 Mbyte/sec]\n",
      "mars - INFO   - 20191208.101534 -   Writing to target file: 6.97 Mbyte(s) in < 1 sec [707.30 Mbyte/sec]\n",
      "mars - INFO   - 20191208.101534 - Memory used: 69.23 Mbyte(s)\n",
      "mars - INFO   - 20191208.101534 - No errors reported\n",
      "Process '['nice', 'mars', '/tmp/41/13/tmp-_marsoggZC3.req']' finished\n",
      "Calling 'nice grib_to_netcdf /data/data01/scratch/9f/f4/_mars-atls06-a82bacafb5c306db76464bc7e824bb75-cpKwbn.grib -o /data/data05/scratch/63/c9/_grib2netcdf-atls12-70e05f9f8ba4e9d19932f1c45a7be8d8-RN_PWG.nc -utime'\n",
      "grib_to_netcdf: Version 2.14.1\n",
      "grib_to_netcdf: Processing input file '/data/data01/scratch/9f/f4/_mars-atls06-a82bacafb5c306db76464bc7e824bb75-cpKwbn.grib'.\n",
      "grib_to_netcdf: Found 6 GRIB fields in 1 file.\n",
      "grib_to_netcdf: Ignoring key(s): method, type, stream, refdate, hdate\n",
      "grib_to_netcdf: Creating netCDF file '/data/data05/scratch/63/c9/_grib2netcdf-atls12-70e05f9f8ba4e9d19932f1c45a7be8d8-RN_PWG.nc'\n",
      "grib_to_netcdf: NetCDF library version: 4.4.1.1 of Mar 14 2018 13:48:26 $\n",
      "grib_to_netcdf: Creating large (64 bit) file format.\n",
      "grib_to_netcdf: Defining variable 'gtco3'.\n",
      "grib_to_netcdf: Done.\n",
      "Process '['nice', 'grib_to_netcdf', '/data/data01/scratch/9f/f4/_mars-atls06-a82bacafb5c306db76464bc7e824bb75-cpKwbn.grib', '-o', '/data/data05/scratch/63/c9/_grib2netcdf-atls12-70e05f9f8ba4e9d19932f1c45a7be8d8-RN_PWG.nc', '-utime']' finished\n",
      "2019-12-08 11:15:38 Request is complete\n",
      "2019-12-08 11:15:38 Transfering 4.65131 Mbytes into ./eodata/cams/nrt/o3/2019/09/10/20190910_o3_fc.nc\n",
      "2019-12-08 11:15:38 From https://stream.ecmwf.int/data/atls12/data/data05/scratch/63/c9/_grib2netcdf-atls12-70e05f9f8ba4e9d19932f1c45a7be8d8-RN_PWG.nc\n",
      "2019-12-08 11:15:41 Transfer rate 2.01261 Mbytes/s\n"
     ]
    }
   ],
   "source": [
    "server.retrieve({\n",
    "    \"class\": \"mc\",\n",
    "    \"dataset\": \"cams_nrealtime\",\n",
    "    \"date\": \"2019-09-10/to/2019-09-10\",\n",
    "    \"expver\": \"0001\",\n",
    "    \"levtype\": \"sfc\",\n",
    "    \"param\": \"206.210\",\n",
    "    \"step\": \"0/24/48/72/96/120\",\n",
    "    \"stream\": \"oper\",\n",
    "    \"time\": \"00:00:00\",\n",
    "    \"type\": \"fc\",\n",
    "    \"grid\": \"0.4/0.4\",\n",
    "    \"area\": \"90/-180/-90/180\",\n",
    "    \"format\": \"netcdf\",\n",
    "    \"target\": \"./eodata/cams/nrt/o3/2019/09/10/20190910_o3_fc.nc\",\n",
    "})"
   ]
  },
  {
   "cell_type": "markdown",
   "metadata": {},
   "source": [
    "<br>"
   ]
  },
  {
   "cell_type": "markdown",
   "metadata": {},
   "source": [
    "<p style=\"text-align:left;\">This project is licensed under the <a href=\"./LICENSE\">MIT License</a> <span style=\"float:right;\"><a href=\"https://gitlab.eumetsat.int/eo-lab/training-atmospheric-composition/\">View on GitLab</a> | <a href=\"https://training.eumetsat.int/\">EUMETSAT Training</a> | <a href=mailto:training@eumetsat.int>Contact</a></span></p>"
   ]
  }
 ],
 "metadata": {
  "kernelspec": {
   "display_name": "Python 3",
   "language": "python",
   "name": "python3"
  },
  "language_info": {
   "codemirror_mode": {
    "name": "ipython",
    "version": 3
   },
   "file_extension": ".py",
   "mimetype": "text/x-python",
   "name": "python",
   "nbconvert_exporter": "python",
   "pygments_lexer": "ipython3",
   "version": "3.7.0"
  }
 },
 "nbformat": 4,
 "nbformat_minor": 2
}
