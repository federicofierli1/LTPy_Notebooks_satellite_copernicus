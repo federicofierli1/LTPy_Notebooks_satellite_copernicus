{
 "cells": [
  {
   "cell_type": "markdown",
   "metadata": {},
   "source": [
    "<img src='./img/EU-Copernicus-EUM_3Logos.png' alt='Logo EU Copernicus EUMETSAT' align='right' width='50%'></img>\n",
    "<br>"
   ]
  },
  {
   "cell_type": "markdown",
   "metadata": {},
   "source": [
    "<br>"
   ]
  },
  {
   "cell_type": "markdown",
   "metadata": {},
   "source": [
    "## Example `ECMWF Web API` requests for CAMS data"
   ]
  },
  {
   "cell_type": "markdown",
   "metadata": {},
   "source": [
    "CAMS data can be retrieved via the [ECMWF Public Dataset web interface](https://apps.ecmwf.int/datasets/). You can browse, select and download data there.\n",
    "The web interface give you the option to retrieve the `ECMWF Web API request` for the dataset you have selected.\n",
    "\n",
    "Below, you see examples of `ECMWF WebAPI retrieve requests` for different CAMS data types."
   ]
  },
  {
   "cell_type": "code",
   "execution_count": null,
   "metadata": {},
   "outputs": [],
   "source": [
    "#!/usr/bin/env python\n",
    "from ecmwfapi import ECMWFDataServer\n",
    "server = ECMWFDataServer(url=\"https://api.ecmwf.int/v1\", key=\"6fa88ae2cf8c30e6b688fd565a95b05c\", email=\"julia.wagemann@ecmwf.int\")"
   ]
  },
  {
   "cell_type": "markdown",
   "metadata": {},
   "source": [
    "### CAMS Global Reanalysis"
   ]
  },
  {
   "cell_type": "markdown",
   "metadata": {},
   "source": [
    "Example `retrieve request` for a parameter of CAMS Global Reanalysis data:\n",
    "- **Parameter:** `Carbon Aerosol Optical Depth at 550 nm`\n",
    "- **Time period:** 1 December 2018\n",
    "- **Format:** NetCDF"
   ]
  },
  {
   "cell_type": "code",
   "execution_count": null,
   "metadata": {},
   "outputs": [],
   "source": [
    "# Retrieve data in NetCDF format\n",
    "server.retrieve({\n",
    "    \"class\": \"mc\",\n",
    "    \"dataset\": \"cams_reanalysis\",\n",
    "    \"date\": \"2018-12-01\",\n",
    "    \"expver\": \"eac4\",\n",
    "    \"levtype\": \"sfc\",\n",
    "    \"param\": \"211.210\",\n",
    "    \"stream\": \"oper\",\n",
    "    \"time\": \"00:00:00\",\n",
    "    \"type\": \"an\",\n",
    "    \"format\": \"netcdf\",\n",
    "    \"grid\": \"0.4/0.4\",\n",
    "    \"area\": \"90/-180/-90/180\",\n",
    "    \"target\": \"cams_ra_test.nc\",\n",
    "})"
   ]
  },
  {
   "cell_type": "markdown",
   "metadata": {},
   "source": [
    "<hr>"
   ]
  },
  {
   "cell_type": "markdown",
   "metadata": {},
   "source": [
    "### CAMS Global Analyses and Forecasts"
   ]
  },
  {
   "cell_type": "markdown",
   "metadata": {},
   "source": [
    "Example `retrieve request` for a parameter of CAMS Global Forecast data:\n",
    "- **Parameter:** `Total Aerosol Optical Depth at 550 nm`\n",
    "- **Time period:** 1 October 2019\n",
    "- **Forecast step:** 24 / 48 hours\n",
    "- **Format:** NetCDF"
   ]
  },
  {
   "cell_type": "code",
   "execution_count": null,
   "metadata": {},
   "outputs": [],
   "source": [
    "server.retrieve({\n",
    "    \"class\": \"mc\",\n",
    "    \"dataset\": \"cams_nrealtime\",\n",
    "    \"date\": \"2019-10-01/to/2019-10-01\",\n",
    "    \"expver\": \"0001\",\n",
    "    \"levtype\": \"sfc\",\n",
    "    \"param\": \"207.210\",\n",
    "    \"step\": \"24/48\",\n",
    "    \"stream\": \"oper\",\n",
    "    \"time\": \"00:00:00\",\n",
    "    \"type\": \"fc\",\n",
    "    \"format\": \"netcdf\",\n",
    "    \"grid\": \"0.4/0.4\",\n",
    "    \"area\": \"90/-180/-90/180\",\n",
    "    \"target\": \"cams_fc_test.nc\"\n",
    "})"
   ]
  },
  {
   "cell_type": "markdown",
   "metadata": {},
   "source": [
    "<hr>"
   ]
  },
  {
   "cell_type": "markdown",
   "metadata": {},
   "source": [
    "### CAMS Global Fire Assimilation System (GFAS)"
   ]
  },
  {
   "cell_type": "markdown",
   "metadata": {},
   "source": [
    "Example `retrieve request` for a GFAS data parameter:\n",
    "- **Parameter:** `Wildfire radiative power`\n",
    "- **Time period:** 22 to 24 October 2019\n",
    "- **Format:** NetCDF"
   ]
  },
  {
   "cell_type": "code",
   "execution_count": null,
   "metadata": {},
   "outputs": [],
   "source": [
    "#!/usr/bin/env python\n",
    "server.retrieve({\n",
    "    \"class\": \"mc\",\n",
    "    \"dataset\": \"cams_gfas\",\n",
    "    \"date\": \"2019-10-22/to/2019-10-24\",\n",
    "    \"expver\": \"0001\",\n",
    "    \"levtype\": \"sfc\",\n",
    "    \"param\": \"99.210\",\n",
    "    \"step\": \"0-24\",\n",
    "    \"stream\": \"gfas\",\n",
    "    \"time\": \"00:00:00\",\n",
    "    \"type\": \"ga\",\n",
    "    \"grid\": \"0.4/0.4\",\n",
    "    \"area\": \"90/-180/-90/180\",\n",
    "    \"format\": \"netcdf\",\n",
    "    \"target\": \"cams_gfas_test.nc\"\n",
    "})"
   ]
  },
  {
   "cell_type": "markdown",
   "metadata": {},
   "source": [
    "<hr>"
   ]
  },
  {
   "cell_type": "markdown",
   "metadata": {},
   "source": [
    "### CAMS Greenhouse Gases Flux Inversions"
   ]
  },
  {
   "cell_type": "markdown",
   "metadata": {},
   "source": [
    "Example `retrieve request` for a parameter of CAMS Greenhouse Gases Flux Inversions:\n",
    "- **Parameter:** `Carbondioxide`\n",
    "- **Time period:** 1 Jan 1979 to 31 Dec 2018\n",
    "- **Temporal resolution**: monthly\n",
    "- **Format:** NetCDF"
   ]
  },
  {
   "cell_type": "code",
   "execution_count": null,
   "metadata": {},
   "outputs": [],
   "source": [
    "server.retrieve({\n",
    "    \"dataset\": \"cams_ghg_inversions\",\n",
    "    \"datatype\": \"ra\",\n",
    "    \"date\": \"1979-01-01/to/2018-12-31\",\n",
    "    \"frequency\": \"mm\",\n",
    "    \"param\": \"co2\",\n",
    "    \"quantity\": \"surface_flux\",\n",
    "    \"version\": \"v18r2\",\n",
    "    \"format\": \"netcdf\",\n",
    "    \"grid\": \"0.4/0.4\",\n",
    "    \"area\": \"90/-180/-90/180\",\n",
    "    \"target\": \"cams_ghg_flux_test.nc\",\n",
    "})"
   ]
  },
  {
   "cell_type": "markdown",
   "metadata": {},
   "source": [
    "<br>"
   ]
  },
  {
   "cell_type": "markdown",
   "metadata": {},
   "source": [
    "<p style=\"text-align:left;\">This project is licensed under the <a href=\"./LICENSE\">MIT License</a> <span style=\"float:right;\"><a href=\"https://gitlab.eumetsat.int/eo-lab/training-atmospheric-composition/\">View on GitLab</a> | <a href=\"https://training.eumetsat.int/\">EUMETSAT Training</a> | <a href=mailto:training@eumetsat.int>Contact</a></span></p>"
   ]
  }
 ],
 "metadata": {
  "kernelspec": {
   "display_name": "Python 3",
   "language": "python",
   "name": "python3"
  },
  "language_info": {
   "codemirror_mode": {
    "name": "ipython",
    "version": 3
   },
   "file_extension": ".py",
   "mimetype": "text/x-python",
   "name": "python",
   "nbconvert_exporter": "python",
   "pygments_lexer": "ipython3",
   "version": "3.7.0"
  }
 },
 "nbformat": 4,
 "nbformat_minor": 2
}
