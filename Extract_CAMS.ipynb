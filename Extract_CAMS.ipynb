{
 "cells": [
  {
   "cell_type": "markdown",
   "metadata": {},
   "source": [
    "# Extract CAMS data with webapi\n",
    "\n",
    "In this post, we are going to see how to download the CAMS data from the ECMWF data server. You need an account for this and this can be requested at https://apps.ecmwf.int/registration/\n",
    "Once you have it you need to install ecmwfapi and install your key. All the steps are reported below:\n",
    "https://confluence.ecmwf.int/display/WEBAPI/Accessing+ECMWF+data+servers+in+batch.\n",
    "Here you have a script to extract monthly mean NO$_2$ from CAMS reanalysis for year 2003 on 8 timesteps. You can modify it and embed it in your python script. "
   ]
  },
  {
   "cell_type": "code",
   "execution_count": 1,
   "metadata": {},
   "outputs": [
    {
     "name": "stdout",
     "output_type": "stream",
     "text": [
      "2018-12-06 16:16:40 ECMWF API python library 1.5.0\n",
      "2018-12-06 16:16:40 ECMWF API at https://api.ecmwf.int/v1\n",
      "2018-12-06 16:16:40 Welcome Federico Fierli\n",
      "2018-12-06 16:16:40 In case of problems, please check https://software.ecmwf.int/wiki/display/WEBAPI/Web-API+Troubleshooting or contact servicedesk@ecmwf.int\n",
      "2018-12-06 16:16:40 In case of delays, please check  service activity page http://apps.ecmwf.int/webapi-activity/\n",
      "2018-12-06 16:16:41 Request submitted\n",
      "2018-12-06 16:16:41 Request id: 5c093d5972ce193b023731db\n",
      "2018-12-06 16:16:41 Request is submitted\n",
      "2018-12-06 16:16:42 Request is queued\n",
      "Calling 'nice mars /tmp/eb/91/tmp-_marsSjYWGf.req'\n",
      "mars - WARN -\n",
      "mars - WARN - From 9 February 2016 10AM (UTC) MARS uses versions of\n",
      "mars - WARN - libemos newer than 4.3.0. For more details, see\n",
      "mars - WARN - https://software.ecmwf.int/wiki/display/EMOS/Bug+fix+implemented+in+EMOSLIB+4.3.x\n",
      "mars - WARN -\n",
      "PPDIR is /var/tmp/ppdir/x86_64\n",
      "mars - INFO   - 20181206.152456 - Welcome to MARS\n",
      "mars - INFO   - 20181206.152456 - MARS Client build stamp: 20181122174311\n",
      "mars - INFO   - 20181206.152456 - MARS Client version: 6.23.0\n",
      "mars - INFO   - 20181206.152456 - EMOSLIB version: 4.5.7\n",
      "mars - INFO   - 20181206.152456 - Using ecCodes version 2.9.2\n",
      "mars - INFO   - 20181206.152456 - Using odb_api version: 0.15.8 (file format version: 0.5)\n",
      "mars - INFO   - 20181206.152456 - Maximum retrieval size is 30.00 G\n",
      "retrieve,stream=mnth,levtype=sfc,param=125.210,padding=0,expver=eac4,time=00:00:00/03:00:00/06:00:00/09:00:00/12:00:00/15:00:00/18:00:00/21:00:00,date=20030101/20030201/20030301/20030401/20030501/20030601/20030701/20030801/20030901/20031001/20031101/20031201,type=an,class=mc\n",
      "mars - INFO   - 20181206.152456 - Processing request 1\n",
      "\n",
      "RETRIEVE,\n",
      "    CLASS      = MC,\n",
      "    TYPE       = AN,\n",
      "    STREAM     = MNTH,\n",
      "    EXPVER     = eac4,\n",
      "    REPRES     = SH,\n",
      "    LEVTYPE    = SFC,\n",
      "    PARAM      = 125.210,\n",
      "    DATE       = 20030101/20030201/20030301/20030401/20030501/20030601/20030701/20030801/20030901/20031001/20031101/20031201,\n",
      "    TIME       = 0000/0300/0600/0900/1200/1500/1800/2100,\n",
      "    STEP       = 00,\n",
      "    DOMAIN     = G,\n",
      "    PADDING    = 0\n",
      "\n",
      "mars - INFO   - 20181206.152456 - Web API request id: 5c093d5972ce193b023731db\n",
      "mars - INFO   - 20181206.152456 - Requesting 96 fields\n",
      "mars - INFO   - 20181206.152456 - Calling mars on 'marser', callback on 60508\n",
      "mars - INFO   - 20181206.152456 - Server task is 44 [marser]\n",
      "mars - INFO   - 20181206.152456 - Request cost: 96 fields, 24.4568 Mbytes online, nodes: mvr05 [marser]\n",
      "mars - INFO   - 20181206.152457 - Transfering 25644864 bytes\n",
      "mars - INFO   - 20181206.152457 - 96 fields retrieved from 'marser'\n",
      "mars - INFO   - 20181206.152457 - Request time:  wall: 1 sec\n",
      "mars - INFO   - 20181206.152457 -   Read from network: 24.46 Mbyte(s) in < 1 sec [301.09 Mbyte/sec]\n",
      "mars - INFO   - 20181206.152457 -   Writing to target file: 24.46 Mbyte(s) in < 1 sec [383.92 Mbyte/sec]\n",
      "mars - INFO   - 20181206.152457 - Memory used: 32.32 Mbyte(s)\n",
      "mars - INFO   - 20181206.152457 - No errors reported\n",
      "Process '['nice', 'mars', '/tmp/eb/91/tmp-_marsSjYWGf.req']' finished\n",
      "2018-12-06 16:25:18 Request is complete\n",
      "2018-12-06 16:25:18 Transfering 24.4568 Mbytes into ../CAMS/test_CAMS_2003_mm.nc\n",
      "2018-12-06 16:25:18 From https://stream.ecmwf.int/data/atls18/data/data01/scratch/87/b5/_mars-atls18-95e2cf679cd58ee9b4db4dd119a05a8d-OdtId_.grib\n",
      "2018-12-06 16:25:20 Transfer rate 10.531 Mbytes/s\n"
     ]
    }
   ],
   "source": [
    "#!/usr/bin/env python\n",
    "from ecmwfapi import ECMWFDataServer\n",
    "server = ECMWFDataServer()\n",
    "server.retrieve({\n",
    "    \"class\": \"mc\",\n",
    "    \"dataset\": \"cams_reanalysis\",\n",
    "    \"date\": \"20030101/20030201/20030301/20030401/20030501/20030601/20030701/20030801/20030901/20031001/20031101/20031201\",\n",
    "    \"expver\": \"eac4\",\n",
    "    \"levtype\": \"sfc\",\n",
    "    \"param\": \"125.210\",\n",
    "    \"stream\": \"mnth\",\n",
    "    \"time\": \"00:00:00/03:00:00/06:00:00/09:00:00/12:00:00/15:00:00/18:00:00/21:00:00\",\n",
    "    \"type\": \"an\",\n",
    "    \"format\": \"ncdf\",\n",
    "    \"target\": \"../CAMS/test_CAMS_2003_mm.nc\"\n",
    "})"
   ]
  },
  {
   "cell_type": "markdown",
   "metadata": {
    "collapsed": true
   },
   "source": [
    "This may take time. Check the http://apps.ecmwf.int/webapi-activity/ to see what is the status of your request."
   ]
  }
 ],
 "metadata": {
  "kernelspec": {
   "display_name": "Python 3",
   "language": "python",
   "name": "python3"
  },
  "language_info": {
   "codemirror_mode": {
    "name": "ipython",
    "version": 3
   },
   "file_extension": ".py",
   "mimetype": "text/x-python",
   "name": "python",
   "nbconvert_exporter": "python",
   "pygments_lexer": "ipython3",
   "version": "3.7.0"
  }
 },
 "nbformat": 4,
 "nbformat_minor": 2
}
