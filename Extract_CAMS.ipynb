{
 "cells": [
  {
   "cell_type": "code",
   "execution_count": 2,
   "metadata": {},
   "outputs": [
    {
     "name": "stdout",
     "output_type": "stream",
     "text": [
      "2018-12-03 14:08:45 ECMWF API python library 1.5.0\n",
      "2018-12-03 14:08:45 ECMWF API at https://api.ecmwf.int/v1\n",
      "2018-12-03 14:08:46 Welcome Federico Fierli\n",
      "2018-12-03 14:08:46 In case of problems, please check https://software.ecmwf.int/wiki/display/WEBAPI/Web-API+Troubleshooting or contact servicedesk@ecmwf.int\n",
      "2018-12-03 14:08:46 In case of delays, please check  service activity page http://apps.ecmwf.int/webapi-activity/\n",
      "2018-12-03 14:08:47 Request submitted\n",
      "2018-12-03 14:08:47 Request id: 5c052ade13e01c19f6398654\n",
      "2018-12-03 14:08:47 Request is submitted\n",
      "2018-12-03 14:08:49 Request is queued\n",
      "Calling 'nice mars /tmp/b2/0a/tmp-_mars_p61VD.req'\n",
      "mars - WARN -\n",
      "mars - WARN - From 9 February 2016 10AM (UTC) MARS uses versions of\n",
      "mars - WARN - libemos newer than 4.3.0. For more details, see\n",
      "mars - WARN - https://software.ecmwf.int/wiki/display/EMOS/Bug+fix+implemented+in+EMOSLIB+4.3.x\n",
      "mars - WARN -\n",
      "PPDIR is /var/tmp/ppdir/x86_64\n",
      "mars - INFO   - 20181203.141146 - Welcome to MARS\n",
      "mars - INFO   - 20181203.141146 - MARS Client build stamp: 20181122174311\n",
      "mars - INFO   - 20181203.141146 - MARS Client version: 6.23.0\n",
      "mars - INFO   - 20181203.141146 - EMOSLIB version: 4.5.7\n",
      "mars - INFO   - 20181203.141146 - Using ecCodes version 2.9.2\n",
      "mars - INFO   - 20181203.141146 - Using odb_api version: 0.15.8 (file format version: 0.5)\n",
      "mars - INFO   - 20181203.141146 - Maximum retrieval size is 30.00 G\n",
      "retrieve,stream=mnth,levtype=sfc,param=125.210,padding=0,expver=eac4,time=00:00:00/03:00:00/06:00:00/09:00:00/12:00:00/15:00:00/18:00:00/21:00:00,date=20030101/20030201/20030301/20030401/20030501/20030601/20030701/20030801/20030901/20031001/20031101/20031201,type=an,class=mc\n",
      "mars - INFO   - 20181203.141146 - Processing request 1\n",
      "\n",
      "RETRIEVE,\n",
      "    CLASS      = MC,\n",
      "    TYPE       = AN,\n",
      "    STREAM     = MNTH,\n",
      "    EXPVER     = eac4,\n",
      "    REPRES     = SH,\n",
      "    LEVTYPE    = SFC,\n",
      "    PARAM      = 125.210,\n",
      "    DATE       = 20030101/20030201/20030301/20030401/20030501/20030601/20030701/20030801/20030901/20031001/20031101/20031201,\n",
      "    TIME       = 0000/0300/0600/0900/1200/1500/1800/2100,\n",
      "    STEP       = 00,\n",
      "    DOMAIN     = G,\n",
      "    PADDING    = 0\n",
      "\n",
      "mars - INFO   - 20181203.141146 - Web API request id: 5c052ade13e01c19f6398654\n",
      "mars - INFO   - 20181203.141146 - Requesting 96 fields\n",
      "mars - INFO   - 20181203.141146 - Calling mars on 'marser', callback on 40700\n",
      "2018-12-03 15:12:10 Request is active\n",
      "mars - INFO   - 20181203.142050 - Server task is 922 [marser]\n",
      "mars - INFO   - 20181203.142050 - Request cost: 96 fields, 24.4568 Mbytes on 1 tape, nodes: hpss [marser]\n",
      "mars - INFO   - 20181203.142402 - Transfering 25644864 bytes\n",
      "mars - INFO   - 20181203.142402 - 96 fields retrieved from 'marser'\n",
      "mars - INFO   - 20181203.142402 - Request time:  wall: 12 min 16 sec\n",
      "mars - INFO   - 20181203.142402 -   Read from network: 24.46 Mbyte(s) in < 1 sec [390.65 Mbyte/sec]\n",
      "mars - INFO   - 20181203.142402 -   Processing in marser: wall: 12 min 16 sec\n",
      "mars - INFO   - 20181203.142402 -   Visiting marser: wall: 12 min 16 sec\n",
      "mars - INFO   - 20181203.142402 -   Writing to target file: 24.46 Mbyte(s) in < 1 sec [434.79 Mbyte/sec]\n",
      "mars - INFO   - 20181203.142402 - Memory used: 32.32 Mbyte(s)\n",
      "mars - INFO   - 20181203.142402 - No errors reported\n",
      "Process '['nice', 'mars', '/tmp/b2/0a/tmp-_mars_p61VD.req']' finished\n",
      "2018-12-03 15:25:08 Request is complete\n",
      "2018-12-03 15:25:08 Transfering 24.4568 Mbytes into output.nc\n",
      "2018-12-03 15:25:08 From https://stream.ecmwf.int/data/atls01/data/data04/scratch/8b/cb/_mars-atls01-a562cefde8a29a7288fa0b8b7f9413f7-inpcZF.grib\n",
      "2018-12-03 15:25:39 Transfer rate 812.455 Kbytes/s\n"
     ]
    }
   ],
   "source": [
    "#!/usr/bin/env python\n",
    "from ecmwfapi import ECMWFDataServer\n",
    "server = ECMWFDataServer()\n",
    "server.retrieve({\n",
    "    \"class\": \"mc\",\n",
    "    \"dataset\": \"cams_reanalysis\",\n",
    "    \"date\": \"20030101/20030201/20030301/20030401/20030501/20030601/20030701/20030801/20030901/20031001/20031101/20031201\",\n",
    "    \"expver\": \"eac4\",\n",
    "    \"levtype\": \"sfc\",\n",
    "    \"param\": \"125.210\",\n",
    "    \"stream\": \"mnth\",\n",
    "    \"time\": \"00:00:00/03:00:00/06:00:00/09:00:00/12:00:00/15:00:00/18:00:00/21:00:00\",\n",
    "    \"type\": \"an\",\n",
    "    \"format\": \"ncdf\",\n",
    "    \"target\": \"output.nc\",\n",
    "})"
   ]
  },
  {
   "cell_type": "code",
   "execution_count": null,
   "metadata": {
    "collapsed": true
   },
   "outputs": [],
   "source": []
  }
 ],
 "metadata": {
  "kernelspec": {
   "display_name": "Python 2",
   "language": "python",
   "name": "python2"
  }
 },
 "nbformat": 4,
 "nbformat_minor": 2
}
