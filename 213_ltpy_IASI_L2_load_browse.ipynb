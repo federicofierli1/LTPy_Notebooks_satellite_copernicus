{
 "cells": [
  {
   "cell_type": "markdown",
   "metadata": {
    "Collapsed": "false"
   },
   "source": [
    "<img src='./img/EU-Copernicus-EUM_3Logos.png' alt='Logo EU Copernicus EUMETSAT' align='right' width='50%'></img>"
   ]
  },
  {
   "cell_type": "markdown",
   "metadata": {
    "Collapsed": "false"
   },
   "source": [
    "<br>"
   ]
  },
  {
   "cell_type": "markdown",
   "metadata": {
    "Collapsed": "false"
   },
   "source": [
    "<a href=\"./212_ltpy_AC_SAF_GOME-2_L2_preprocess.ipynb\"><< 212 - AC SAF - GOME-2 - Level 2 - Pre-process</a></span><span style=\"float:right;\"><a href=\"./22_ltpy_AC_SAF_GOME-2_L3.ipynb\">22 - AC SAF - GOME-2 - Level 3 data>></a></span>"
   ]
  },
  {
   "cell_type": "markdown",
   "metadata": {
    "Collapsed": "false"
   },
   "source": [
    "# 2.1.3 IASI - Level 2 - Load and browse"
   ]
  },
  {
   "cell_type": "markdown",
   "metadata": {
    "Collapsed": "false"
   },
   "source": [
    "The [Infrared Atmospheric Sounding Interferometer (IASI)](https://www.eumetsat.int/website/home/Satellites/CurrentSatellites/Metop/MetopDesign/IASI/index.html) is an intstrument onboard the Metop-A/B satellites. It provides information on the vertical structure of temperature and humidity as well as main atmospheric species.\n",
    "\n",
    "IASI data are distributed via:\n",
    "- the [EUMETSAT data centre (Earth Observation Portal)](https://eoportal.eumetsat.int/userMgmt/register.faces), and\n",
    "- external services, e.g. [AERIS](https://www.aeris-data.fr/).\n",
    "\n",
    "IASI Level 2 data are disseminated in `BUFR` originally. AERIS implemented the [IASI portal](https://iasi.aeris-data.fr/), which provides the data in `netCDF` format as well."
   ]
  },
  {
   "cell_type": "markdown",
   "metadata": {
    "Collapsed": "false"
   },
   "source": [
    "#### This module has the following outline:\n",
    "* [1 - Load and browse IASI Level 2 data](#load)\n",
    "* [2 - Mask IASI Level 2 data](#masking)\n",
    "* [3 - Combine Metop-A/B IASI Level 2 data](#combine)"
   ]
  },
  {
   "cell_type": "markdown",
   "metadata": {
    "Collapsed": "false"
   },
   "source": [
    "#### Load required libraries"
   ]
  },
  {
   "cell_type": "code",
   "execution_count": 1,
   "metadata": {
    "Collapsed": "false"
   },
   "outputs": [],
   "source": [
    "import os\n",
    "from netCDF4 import Dataset\n",
    "import xarray as xr\n",
    "\n",
    "# Python libraries for visualisation\n",
    "from matplotlib import pyplot as plt\n",
    "import cartopy.crs as ccrs\n",
    "from cartopy.mpl.gridliner import LONGITUDE_FORMATTER, LATITUDE_FORMATTER\n",
    "\n",
    "from IPython.display import display, clear_output\n",
    "\n",
    "import warnings\n",
    "warnings.simplefilter(action = \"ignore\", category = RuntimeWarning)\n",
    "warnings.simplefilter(action = \"ignore\", category = FutureWarning)"
   ]
  },
  {
   "cell_type": "markdown",
   "metadata": {},
   "source": [
    "#### Load helper functions"
   ]
  },
  {
   "cell_type": "code",
   "execution_count": 2,
   "metadata": {},
   "outputs": [],
   "source": [
    "from ipynb.fs.full.ltpy_functions import visualize_l2, generate_xr_from_1D_vec, generate_masked_array"
   ]
  },
  {
   "cell_type": "markdown",
   "metadata": {
    "Collapsed": "false"
   },
   "source": [
    "<hr>"
   ]
  },
  {
   "cell_type": "markdown",
   "metadata": {
    "Collapsed": "false"
   },
   "source": [
    "## <a id=\"load\"></a>Load and browse IASI Level 2 products"
   ]
  },
  {
   "cell_type": "markdown",
   "metadata": {
    "Collapsed": "false"
   },
   "source": [
    "IASI Level 2 data from the [IASI portal](https://iasi.aeris-data.fr/) are disseminated in the `netCDF` format. You can use the Python library [xarray](http://xarray.pydata.org/en/stable/index.html) to access and manipulate datasets in `netCDF` format.\n",
    "\n",
    "The following examples shows an example of `Ammonia total column (NH`<sub>`3`</sub>`)`."
   ]
  },
  {
   "cell_type": "markdown",
   "metadata": {
    "Collapsed": "false"
   },
   "source": [
    "### Load netCDF data with `xarray`"
   ]
  },
  {
   "cell_type": "markdown",
   "metadata": {},
   "source": [
    "`xarray`'s function `open_dataset` enables you to open a `netCDF` file. Once loaded, you can inspect the data structure of the `IASI` data disseminated by the IASI portal.\n",
    "\n",
    "You see, that the data is a 1-dimensional vector with more than 630,000 individual data points. `latitude`, `longitude` and other parameters are stored as individual data variables."
   ]
  },
  {
   "cell_type": "code",
   "execution_count": 3,
   "metadata": {
    "scrolled": false
   },
   "outputs": [
    {
     "data": {
      "text/html": [
       "<pre>&lt;xarray.Dataset&gt;\n",
       "Dimensions:    (time: 632477)\n",
       "Coordinates:\n",
       "  * time       (time) float32 1951.6311 1951.6311 ... 235959.84 235959.84\n",
       "Data variables:\n",
       "    latitude   (time) float32 ...\n",
       "    longitude  (time) float32 ...\n",
       "    column     (time) float32 ...\n",
       "    error      (time) float32 ...\n",
       "    CLcov      (time) float32 ...\n",
       "    VertProf   (time) int32 ...\n",
       "    angle      (time) float32 ...\n",
       "Attributes:\n",
       "    Title:               Ammonia total columns retrieved from IASI measuremen...\n",
       "    Institution:         Universite Libre de Bruxelles (ULB)/Laboratoire atmo...\n",
       "    Product_Version:     v2.2\n",
       "    keywords:            satellite, observation, atmosphere, ammonia\n",
       "    date_created:        2018-06-13 01:11:30\n",
       "    contact_emails:      Simon Whitburn (simon.whitburn@ulb.ac.be), Lieven Cl...\n",
       "    platform:            Metop-A\n",
       "    spatial_resolution:  12 km diameter pixel at nadir</pre>"
      ],
      "text/plain": [
       "<xarray.Dataset>\n",
       "Dimensions:    (time: 632477)\n",
       "Coordinates:\n",
       "  * time       (time) float32 1951.6311 1951.6311 ... 235959.84 235959.84\n",
       "Data variables:\n",
       "    latitude   (time) float32 ...\n",
       "    longitude  (time) float32 ...\n",
       "    column     (time) float32 ...\n",
       "    error      (time) float32 ...\n",
       "    CLcov      (time) float32 ...\n",
       "    VertProf   (time) int32 ...\n",
       "    angle      (time) float32 ...\n",
       "Attributes:\n",
       "    Title:               Ammonia total columns retrieved from IASI measuremen...\n",
       "    Institution:         Universite Libre de Bruxelles (ULB)/Laboratoire atmo...\n",
       "    Product_Version:     v2.2\n",
       "    keywords:            satellite, observation, atmosphere, ammonia\n",
       "    date_created:        2018-06-13 01:11:30\n",
       "    contact_emails:      Simon Whitburn (simon.whitburn@ulb.ac.be), Lieven Cl...\n",
       "    platform:            Metop-A\n",
       "    spatial_resolution:  12 km diameter pixel at nadir"
      ]
     },
     "execution_count": 3,
     "metadata": {},
     "output_type": "execute_result"
    }
   ],
   "source": [
    "file_name_2a = './eodata/iasi/nc/2a/2017/09/12/nh3nn_v2_2_20170912_AM.nc'\n",
    "file_2a = xr.open_dataset(file_name_2a)\n",
    "file_2a"
   ]
  },
  {
   "cell_type": "markdown",
   "metadata": {},
   "source": [
    "### Generate a xarray  `DataArray` with latitude and longtiude as coordinates"
   ]
  },
  {
   "cell_type": "markdown",
   "metadata": {},
   "source": [
    "With the help of the function [generate_xr_from_1D_vec](./ltpy_function.ipynb#generate_xr_from_1D_vec), you can generate a `xarray DataArray` object, with `latitude` and `longitude` values as coordinates and the `column` information as data values. This data structure will be helpful for plotting and masking the data."
   ]
  },
  {
   "cell_type": "code",
   "execution_count": null,
   "metadata": {
    "scrolled": false
   },
   "outputs": [],
   "source": [
    "nh3=file_2a['column']\n",
    "nh3_da_2a = generate_xr_from_1D_vec(file_2a, 'latitude', 'longitude', nh3, 'nh3', file_2a.Title,1, 'mol/m-2')\n",
    "nh3_da_2a"
   ]
  },
  {
   "cell_type": "markdown",
   "metadata": {},
   "source": [
    "### Visualize the IASI Level 2 data"
   ]
  },
  {
   "cell_type": "markdown",
   "metadata": {},
   "source": [
    "The next step is to visualize the generated `xarray DataArray`. You can re-use the [visualize_l2](./ltpy_functions.ipynb#visualize_l2) function, that plots data points as a scatter plot."
   ]
  },
  {
   "cell_type": "code",
   "execution_count": null,
   "metadata": {
    "scrolled": false
   },
   "outputs": [],
   "source": [
    "visualize_l2(nh3_da_2a, 1e-16, ccrs.PlateCarree(),0,6, 20,'viridis_r', nh3_da_2a.units, nh3_da_2a.long_name,set_global=True)"
   ]
  },
  {
   "cell_type": "markdown",
   "metadata": {},
   "source": [
    "## <a id='masking'></a>Mask IASI Level 2 data products"
   ]
  },
  {
   "cell_type": "markdown",
   "metadata": {},
   "source": [
    "The IASI Level data files provide you information on the Cloud Cover for each data point. This information is useful to generate a cloud mask and to mask out data points with a cloud cover exceeding a specific threshold.\n",
    "\n",
    "In order to do so, you have to load the cloud cover information `CLcov` from the data file. You can re-use the [generate_xr_from_1D_vec](./ltpy_functions.ipynb#generate_xr_from_1D_vec) function again."
   ]
  },
  {
   "cell_type": "code",
   "execution_count": null,
   "metadata": {},
   "outputs": [],
   "source": [
    "cloudCov = file_2a['CLcov']\n",
    "nh3_mask_2a = generate_xr_from_1D_vec(file_2a, 'latitude', 'longitude', cloudCov, 'cloud_cover', 'Cloud Cover', 1, '%')\n",
    "nh3_mask_2a"
   ]
  },
  {
   "cell_type": "markdown",
   "metadata": {},
   "source": [
    "### Mask the `xarray DataArray` with the `generate_masked_array` function"
   ]
  },
  {
   "cell_type": "markdown",
   "metadata": {},
   "source": [
    "The cloud cover information can now be used to mask the `xarray DataArray`. You can make use of the function [generate_masked_array](./ltpy_functions.ipynb#generate_masked_array), where you can set a threshold. All data points with a cloud coverage beyond this threshold are masked out.\n",
    "\n",
    "You see that the number of data points reduced to just a bit more than 100,000 instead of more than 600,000. With the [visualize_l2](./ltpy_functions.ipynb#visualize_l2) function, you can visualize the masked array."
   ]
  },
  {
   "cell_type": "code",
   "execution_count": null,
   "metadata": {},
   "outputs": [],
   "source": [
    "nh3_2a_masked = generate_masked_array(nh3_da_2a,nh3_mask_2a, 20, '<')\n",
    "nh3_2a_masked"
   ]
  },
  {
   "cell_type": "code",
   "execution_count": null,
   "metadata": {
    "scrolled": false
   },
   "outputs": [],
   "source": [
    "visualize_l2(nh3_2a_masked, 1e-16, ccrs.PlateCarree(),0,6,20,'viridis_r', nh3_2a_masked.units, nh3_2a_masked.long_name,set_global=True)"
   ]
  },
  {
   "cell_type": "markdown",
   "metadata": {},
   "source": [
    "<br>"
   ]
  },
  {
   "cell_type": "markdown",
   "metadata": {},
   "source": [
    "## <a id='combine'></a>Combine Metop A/B IASI Level 2 products"
   ]
  },
  {
   "cell_type": "markdown",
   "metadata": {},
   "source": [
    "You can combine IASI Level 2 data from both satellites, Metop-A and Metop-B. You have to repeat all the steps you did for IASI Level 2 data from the Metop-A satellite above for the data from the Metop-B satellite.\n",
    "\n",
    "The steps include:\n",
    "- [1. Load the Metop-B IASI Level 2 data](#step1)\n",
    "- [2. Generate a xarray DataArray with latitudes and longitudes as coordinates](#step2)\n",
    "- [3. Load cloud cover information of the Metop-B IASI Level 2 data](#step3)\n",
    "- [4. Generate a masked DataArray of the Metop-B IASI Level 2 data](#step4)"
   ]
  },
  {
   "cell_type": "markdown",
   "metadata": {},
   "source": [
    "### Prepare Metop-B IASI Level 2 data"
   ]
  },
  {
   "cell_type": "markdown",
   "metadata": {},
   "source": [
    "#### <a id='step1'></a>Load the Metop B IASI Level 2 data"
   ]
  },
  {
   "cell_type": "code",
   "execution_count": null,
   "metadata": {
    "Collapsed": "false"
   },
   "outputs": [],
   "source": [
    "file_name_2b = './eodata/iasi/nc/2b/2017/09/12/nh3nn_v2_2_20170912_AM.nc'\n",
    "file_2b = xr.open_dataset(file_name_2b)\n",
    "file_2b"
   ]
  },
  {
   "cell_type": "markdown",
   "metadata": {},
   "source": [
    "#### <a id='step2'></a>Generate a xarray `DataArray` with latitude and longitude as coordinates"
   ]
  },
  {
   "cell_type": "code",
   "execution_count": null,
   "metadata": {},
   "outputs": [],
   "source": [
    "nh3=file_2b['column']\n",
    "nh3_da_2b = generate_xr_from_1D_vec(file_2b, 'latitude', 'longitude', nh3, 'nh3', file_2b.Title, 1, 'mol/m-2')\n",
    "nh3_da_2b"
   ]
  },
  {
   "cell_type": "markdown",
   "metadata": {},
   "source": [
    "#### <a id='step3'></a>Load cloud cover information of the Metop-B IASI Level 2 data"
   ]
  },
  {
   "cell_type": "code",
   "execution_count": null,
   "metadata": {},
   "outputs": [],
   "source": [
    "cloudCov = file_2b['CLcov']\n",
    "nh3_mask_2b = generate_xr_from_1D_vec(file_2b, 'latitude', 'longitude', cloudCov, 'cloud_cover', 'Cloud Cover', 1, '%')\n",
    "nh3_mask_2b"
   ]
  },
  {
   "cell_type": "markdown",
   "metadata": {},
   "source": [
    "#### <a id='step4'></a>Generate a masked `DataArray` of the Metop-B IASI Level 2 data"
   ]
  },
  {
   "cell_type": "code",
   "execution_count": null,
   "metadata": {
    "scrolled": true
   },
   "outputs": [],
   "source": [
    "nh3_2b_masked = generate_masked_array(nh3_da_2b,nh3_mask_2b, 0.2, '<')\n",
    "nh3_2b_masked"
   ]
  },
  {
   "cell_type": "markdown",
   "metadata": {},
   "source": [
    "### Combine both NH<sub>3</sub> data arrays from Metop-A and Metop-B with `xarray.concat`"
   ]
  },
  {
   "cell_type": "markdown",
   "metadata": {},
   "source": [
    "The last step is to concatenate both masked `DataArrays` from Metop-A and Metop-B into one single `DataArray`. You can use the function `xarray.concat` for it."
   ]
  },
  {
   "cell_type": "code",
   "execution_count": null,
   "metadata": {
    "scrolled": true
   },
   "outputs": [],
   "source": [
    "nh3_ab_da = xr.concat([nh3_2a_masked,nh3_2b_masked],dim='ground_pixel')\n",
    "nh3_ab_da"
   ]
  },
  {
   "cell_type": "markdown",
   "metadata": {},
   "source": [
    "### Visualize the final combined masked IASI data with the `visualize_l2` function"
   ]
  },
  {
   "cell_type": "markdown",
   "metadata": {},
   "source": [
    "Now you can visualize the combined and masked `DataArray`. You can re-use the function [visualize_l2](./ltpy_functions.ipynb#visualize_l2) data, which uses matplotlib's `scatterplot` function."
   ]
  },
  {
   "cell_type": "code",
   "execution_count": null,
   "metadata": {},
   "outputs": [],
   "source": [
    "visualize_l2(nh3_ab_da, 1e-16, ccrs.PlateCarree(),0,6,20,'viridis_r', nh3_ab_da.units, nh3_ab_da.long_name, set_global=True)"
   ]
  },
  {
   "cell_type": "markdown",
   "metadata": {
    "Collapsed": "false"
   },
   "source": [
    "<br>"
   ]
  },
  {
   "cell_type": "markdown",
   "metadata": {
    "Collapsed": "false"
   },
   "source": [
    "<a href=\"./212_ltpy_AC_SAF_GOME-2_L2_preprocess.ipynb\"><< 212 - AC SAF - GOME-2 - Level 2 - Pre-process</a></span><span style=\"float:right;\"><a href=\"./22_ltpy_AC_SAF_GOME-2_L3.ipynb\">22 - AC SAF - GOME-2 - Level 3 data>></a></span>"
   ]
  },
  {
   "cell_type": "markdown",
   "metadata": {
    "Collapsed": "false"
   },
   "source": [
    "<hr>"
   ]
  },
  {
   "cell_type": "markdown",
   "metadata": {
    "Collapsed": "false"
   },
   "source": [
    "<p style=\"text-align:left;\">This project is licensed under the <a href=\"./LICENSE\">MIT License</a> <span style=\"float:right;\"><a href=\"https://gitlab.eumetsat.int/eumetlab/atmosphere/atmosphere\">View on GitLab</a> | <a href=\"https://training.eumetsat.int/\">EUMETSAT Training</a> | <a href=mailto:training@eumetsat.int>Contact</a></span></p>"
   ]
  },
  {
   "cell_type": "code",
   "execution_count": null,
   "metadata": {},
   "outputs": [],
   "source": []
  }
 ],
 "metadata": {
  "kernelspec": {
   "display_name": "Python 3",
   "language": "python",
   "name": "python3"
  },
  "language_info": {
   "codemirror_mode": {
    "name": "ipython",
    "version": 3
   },
   "file_extension": ".py",
   "mimetype": "text/x-python",
   "name": "python",
   "nbconvert_exporter": "python",
   "pygments_lexer": "ipython3",
   "version": "3.7.3"
  },
  "toc-showmarkdowntxt": false
 },
 "nbformat": 4,
 "nbformat_minor": 4
}
