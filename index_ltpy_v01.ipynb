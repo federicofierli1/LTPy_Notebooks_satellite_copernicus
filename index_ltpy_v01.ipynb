{
 "cells": [
  {
   "cell_type": "markdown",
   "metadata": {
    "Collapsed": "false"
   },
   "source": [
    "<img src='./img/EU-Copernicus-EUM_3Logos.png' alt='Logo EU Copernicus EUMETSAT' align='right' width='50%'></img>"
   ]
  },
  {
   "cell_type": "markdown",
   "metadata": {
    "Collapsed": "false"
   },
   "source": [
    "<br>"
   ]
  },
  {
   "cell_type": "markdown",
   "metadata": {
    "Collapsed": "false"
   },
   "source": [
    "# LTPy - Learning Tool for Python on Atmospheric Composition Data"
   ]
  },
  {
   "cell_type": "markdown",
   "metadata": {
    "Collapsed": "false"
   },
   "source": [
    "<br>"
   ]
  },
  {
   "cell_type": "markdown",
   "metadata": {
    "Collapsed": "false"
   },
   "source": [
    "**LTPy - Learning tool for Python on Atmospheric Composition Data** is a Python-based training course on Atmospheric Composition Data. The training course covers modules on `data access`, `data handling and processing`, `data visualisation` as well as `case studies` of satellite- and model-based data on Atmospheric Composition.\n",
    "\n",
    "The course is based on [Jupyter notebooks](https://jupyter.org/), which allow for a high-level of interactive learning, as code, text description and visualisation is combined in on place. If you have not worked with `Jupyter Notebooks` before, you can look at the module [0 - Introduction to Python and Project Jupyter](./0_ltpy_v01_Intro_to_Python_and_Jupyter.ipynb) to get a short introduction to Jupyter notebooks and their benefits."
   ]
  },
  {
   "cell_type": "markdown",
   "metadata": {
    "Collapsed": "false"
   },
   "source": [
    "## Data on Atmospheric Composition"
   ]
  },
  {
   "cell_type": "markdown",
   "metadata": {
    "Collapsed": "false"
   },
   "source": [
    "This course features the following data:\n",
    "* [AC SAF Level-2 GOME-2](./1_ltpy_v01_atmospheric_composition_overview.ipynb#ac_saf) data onboard of Metop-A and Metop-B satellites\n",
    "* [AC SAF Level-3 GOME-2](./1_ltpy_v01_atmospheric_composition_overview.ipynb#records) reprocessed and regridded data\n",
    "* [Copernicus Sentinel-5P](./1_ltpy_v01_atmospheric_composition_overview.ipynb#sentinel_5p) data\n",
    "\n"
   ]
  },
  {
   "cell_type": "markdown",
   "metadata": {
    "Collapsed": "false"
   },
   "source": [
    "## Course material"
   ]
  },
  {
   "cell_type": "markdown",
   "metadata": {
    "Collapsed": "false"
   },
   "source": [
    "The course follows a modular approach and offers the following modules:\n",
    "\n",
    "* ***0 - [Introduction to Python and Project Jupyter](./0_ltpy_v01_Intro_to_Python_and_Jupyter.ipynb)*** *(optional)*\n",
    "\n",
    "\n",
    "* **1 - Overview of data and data access systems**\n",
    " * [1 - Atmospheric Composition data overview and acccess](./1_ltpy_v01_atmospheric_composition_overview.ipynb)\n",
    "\n",
    "\n",
    "* **2 - Load, browse and pre-process data**\n",
    " * [2.1.1 - AC SAF Level 2 data - Load and browse](./211_ltpy_v01_AC_SAF_L2_data.ipynb)\n",
    " * [2.1.2 - AC SAF Level 2 data - pre-process](./212_ltpy_v01_AC_SAF_L2_data.ipynb)\n",
    " * [2.2 - AC SAF Level 3 data](./22_ltpy_v01_AC_SAF_L3_data_products.ipynb)\n",
    " * [2.3 - Sentinel-5p Level 2 data](./23_ltpy_v01_Sentinel5p_L2_data.ipynb)\n",
    "\n",
    "\n",
    "* **3 - Data workflows and case studies**\n",
    " * [3.1 - AC SAF Level 2 case studies](./31_ltpy_v01_AC_SAF_L2_case_study.ipynb)\n",
    " * [3.2 - AC SAF Level 3 workflow examples](./32_ltpy_v01_AC_SAF_L3_case_study.ipynb)\n",
    "\n",
    "<br>"
   ]
  },
  {
   "cell_type": "markdown",
   "metadata": {
    "Collapsed": "false"
   },
   "source": [
    "## Learning outcomes"
   ]
  },
  {
   "cell_type": "markdown",
   "metadata": {
    "Collapsed": "false"
   },
   "source": [
    "The course is designed for `medium-level users`, who have basic Python knowledge and understanding of Atmospheric composition data.\n",
    "\n",
    "After the course, you should have:\n",
    "* an idea about the **different datasets on Atmospheric Composition data**,\n",
    "* knowledge about the most useful **Python packages** to handle, process and visualise large volumes of Earth Observation data\n",
    "* an idea about different **data application areas**"
   ]
  },
  {
   "cell_type": "markdown",
   "metadata": {
    "Collapsed": "false"
   },
   "source": [
    "<hr>"
   ]
  },
  {
   "cell_type": "markdown",
   "metadata": {
    "Collapsed": "false"
   },
   "source": [
    "## Access to the `LTPy JupyterHub` "
   ]
  },
  {
   "cell_type": "markdown",
   "metadata": {
    "Collapsed": "false"
   },
   "source": [
    "The course material is made available on a JupyterHub instance, a pre-defined environment that give learners direct access to the data and Python packages required for following the course.\n",
    "\n",
    "The `JupyterHub` can be accessed as follows:"
   ]
  },
  {
   "cell_type": "markdown",
   "metadata": {
    "Collapsed": "false"
   },
   "source": [
    "* Web address: [https://ltpy.adamplatform.eu](https://ltpy.adamplatform.eu)\n",
    "* Create a [WEkEO account](https://www.wekeo.eu/user/register)\n",
    "* Log into the `JupyterHub` with your WEkEO login credentials"
   ]
  },
  {
   "cell_type": "markdown",
   "metadata": {
    "Collapsed": "false"
   },
   "source": [
    "#### Pre-configured user credentials for CALMET conference participants"
   ]
  },
  {
   "cell_type": "markdown",
   "metadata": {
    "Collapsed": "false"
   },
   "source": [
    "Thee is a set of 20 pre-configued user credentials available. The following login details can be used:\n",
    "* username: **ltpy_##** (where ## = 01, 02, ..., 20)\n",
    "* password: **ltpy-p4ss**"
   ]
  },
  {
   "cell_type": "markdown",
   "metadata": {
    "Collapsed": "false"
   },
   "source": [
    "<hr>"
   ]
  },
  {
   "cell_type": "markdown",
   "metadata": {
    "Collapsed": "false"
   },
   "source": [
    "## Reproduce LTPy on Atmospheric Compostion data locally"
   ]
  },
  {
   "cell_type": "markdown",
   "metadata": {
    "Collapsed": "false"
   },
   "source": [
    "In case you wish to reproduce the course modules on your local setup, the following Python version and Python packages will be required:\n",
    "\n",
    "* Python version: **Python3**\n",
    "* Python packages:\n",
    " * [xarray](http://xarray.pydata.org/en/stable/index.html)\n",
    " * [netCDF4](https://unidata.github.io/netcdf4-python/netCDF4/index.html)\n",
    " * [h5py](https://pypi.org/project/h5py/)\n",
    " * [numpy](https://numpy.org/)\n",
    " * [matplotlib](https://matplotlib.org/)\n",
    " * [cartopy](https://scitools.org.uk/cartopy/docs/latest/)\n",
    "\n",
    "Python packages can be installed with `conda install <python_package_name>` or `pip install <python_pacakage_name>`\n"
   ]
  },
  {
   "cell_type": "markdown",
   "metadata": {
    "Collapsed": "false"
   },
   "source": [
    "The following **data on atmospheric composition** have to be downloaded:\n",
    "\n",
    "| Satellite | Data type | Parameter | Temporal coverage | Data Volume in GB\n",
    "|--- |---|---|---|---|\n",
    "    |GOME-2 - Metop-2a|[Level-2 Offline](./1_ltpy_v01_atmospheric_composition_overview.ipynb#ac_saf_access)| `Nitrogen Dioxide`  |18-Aug-2019<br>19-Aug-2019<br>22-Aug-2019| 0.222<br>0.214<br>0.212 |\n",
    "|GOME-2 - Metop-2b|[Level-2 Offline](./1_ltpy_v01_atmospheric_composition_overview.ipynb#ac_saf_access)| `Nitrogen Dioxide`  |18-Aug-2019<br>19-Aug-2019<br>22-Aug-2019| 0.221<br>0.219<br>0.232 |\n",
    "|GOME-2 - Metop-2a|[Level-2 Offline](./1_ltpy_v01_atmospheric_composition_overview.ipynb#ac_saf_access)| `Nitrogen Dioxide`  |13-Aug-2018<br>16-Aug-2018<br>18-Aug-2018| 0.213<br>0.218<br>0.215 |\n",
    "|GOME-2 - Metop-2b|[Level-2 Offline](./1_ltpy_v01_atmospheric_composition_overview.ipynb#ac_saf_access)| `Nitrogen Dioxide`  |13-Aug-2018<br>16-Aug-2018<br>18-Aug-2018| 0.230<br>0.219<br>0.219 |\n",
    "|GOME-2 - Metop-2a|[Level-3 Data record](./1_ltpy_v01_atmospheric_composition_overview.ipynb#ac_saf_access)| `Nitrogen Dioxide`  |Feb-2007<br>to Dec-2012| 4.78 |\n",
    "|GOME-2 - Metop-2b|[Level-3 Data record](./1_ltpy_v01_atmospheric_composition_overview.ipynb#ac_saf_access)| `Nitrogen Dioxide`  |Jan-2013<br>to Nov-2017| 4.0 |\n",
    "|GOME-2 - Metop-2b|[Level-3 Data record](./1_ltpy_v01_atmospheric_composition_overview.ipynb#ac_saf_access)| `Tropical tropospheric Ozone`  |Jan-Dec 2018| 0.0051 |\n",
    "|Sentinel-5P TROPOMI|[Level-2 Offline](./1_ltpy_v01_atmospheric_composition_overview.ipynb#sentinel5p_access)| `Nitrogen Dioxide` - US/Canada  |13-Aug-2018<br>16-Aug-2018<br>18-Aug-2018| 1.35<br>1.37<br> - |\n",
    "|Sentinel-5P TROPOMI|[Level-2 Offline](./1_ltpy_v01_atmospheric_composition_overview.ipynb#sentinel5p_access)| `Nitrogen Dioxide` - South America  |19-Aug-2019<br>22-Aug-2019| 1.82<br>1.37 |\n",
    "| - | - | - | **Total**| **17.375 GB**|"
   ]
  },
  {
   "cell_type": "markdown",
   "metadata": {
    "Collapsed": "false"
   },
   "source": [
    "<hr>"
   ]
  },
  {
   "cell_type": "markdown",
   "metadata": {
    "Collapsed": "false"
   },
   "source": [
    "<p style=\"text-align:left;\">This project is licensed under the <a href=\"./LICENSE\">MIT License</a> <span style=\"float:right;\"><a href=\"https://gitlab.eumetsat.int/eo-lab/training-atmospheric-composition/\">View on GitLab</a> | <a href=\"https://training.eumetsat.int/\">EUMETSAT Training</a> | <a href=mailto:training@eumetsat.int>Contact</a></span></p>"
   ]
  }
 ],
 "metadata": {
  "kernelspec": {
   "display_name": "Python 3",
   "language": "python",
   "name": "python3"
  },
  "language_info": {
   "codemirror_mode": {
    "name": "ipython",
    "version": 3
   },
   "file_extension": ".py",
   "mimetype": "text/x-python",
   "name": "python",
   "nbconvert_exporter": "python",
   "pygments_lexer": "ipython3",
   "version": "3.7.0"
  }
 },
 "nbformat": 4,
 "nbformat_minor": 4
}
