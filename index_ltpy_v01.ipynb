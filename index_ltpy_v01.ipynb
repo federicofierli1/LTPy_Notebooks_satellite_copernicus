{
 "cells": [
  {
   "cell_type": "markdown",
   "metadata": {
    "Collapsed": "false"
   },
   "source": [
    "<img src='./img/EU-Copernicus-EUM_3Logos.png' alt='Logo EU Copernicus EUMETSAT' align='right' width='50%'></img>"
   ]
  },
  {
   "cell_type": "markdown",
   "metadata": {
    "Collapsed": "false"
   },
   "source": [
    "<br>"
   ]
  },
  {
   "cell_type": "markdown",
   "metadata": {
    "Collapsed": "false"
   },
   "source": [
    "# LTPy - Learning Tool for Python on Atmospheric Composition Data"
   ]
  },
  {
   "cell_type": "markdown",
   "metadata": {
    "Collapsed": "false"
   },
   "source": [
    "<br>"
   ]
  },
  {
   "cell_type": "markdown",
   "metadata": {
    "Collapsed": "false"
   },
   "source": [
    "**LTPy - Learning tool for Python on Atmospheric Composition Data** is a Python-based training course on Atmospheric Composition Data. The training course covers modules on `data access`, `data handling and processing`, `data visualisation` as well as `case studies` of satellite- and model-based data on Atmospheric Composition.\n",
    "\n",
    "The course is based on [Jupyter notebooks](https://jupyter.org/), which allow for a high-level of interactive learning, as code, text description and visualisation is combined in on place."
   ]
  },
  {
   "cell_type": "markdown",
   "metadata": {
    "Collapsed": "false"
   },
   "source": [
    "## Data on Atmospheric Composition"
   ]
  },
  {
   "cell_type": "markdown",
   "metadata": {
    "Collapsed": "false"
   },
   "source": [
    "This course features the following data:\n",
    "* [AC SAF Level-2 GOME-2](./1_ltpy_v01_atmospheric_composition_overview.ipynb#ac_saf) data onboard of Metop-A and Metop-B satellites\n",
    "* [AC SAF Level-3 GOME-2](./1_ltpy_v01_atmospheric_composition_overview.ipynb#records) reprocessed and regridded data\n",
    "* [Copernicus Sentinel-5P](./1_ltpy_v01_atmospheric_composition_overview.ipynb#sentinel_5p) data\n",
    "\n"
   ]
  },
  {
   "cell_type": "markdown",
   "metadata": {
    "Collapsed": "false"
   },
   "source": [
    "## Course structure"
   ]
  },
  {
   "cell_type": "markdown",
   "metadata": {
    "Collapsed": "false"
   },
   "source": [
    "The course follows a modular approach and offers the following modules:\n",
    "\n",
    "\n",
    "* **1 - Overview of data and data access systems**\n",
    " * [1 - Atmospheric Composition data overview and acccess](./1_ltpy_v01_atmospheric_composition_overview.ipynb)\n",
    "* **2 - Load and browse data**\n",
    " * [2.1 - AC SAF Level 2 data](./21_ltpy_v01_AC_SAF_L2_data.ipynb)\n",
    " * [2.2 - AC SAF Level 3 data](./22_ltpy_v01_AC_SAF_L3_data_products.ipynb)\n",
    " * [2.3 - Sentinel-5p Level 2 data](./23_ltpy_v01_Sentinel5p_L2_data.ipynb)\n",
    "* **3 - Data workflows and case studies**\n",
    " * [3.1 - AC SAF Level 2 case studies](./31_ltpy_v01_AC_SAF_L2_case_study.ipynb)\n",
    " * [3.2 - AC SAF Level 3 workflow examples](./32_ltpy_v01_AC_SAF_L3_case_study.ipynb)\n",
    "\n",
    "<br>\n",
    "\n",
    "Optional: the module \"[**Introduction to Python and Project Jupyter**](./0_ltpy_v01_Intro_to_Python_and_Jupyter,ipynb)\" gives you a head start to the Python and Jupyter knowledge you might find helpful in order to follow this course."
   ]
  },
  {
   "cell_type": "markdown",
   "metadata": {
    "Collapsed": "false"
   },
   "source": [
    "## Learning outcomes"
   ]
  },
  {
   "cell_type": "markdown",
   "metadata": {
    "Collapsed": "false"
   },
   "source": [
    "The course is designed for `medium-level users`, who have basic Python knowledge and understanding of Atmospheric composition data.\n",
    "\n",
    "After the course, you should have:\n",
    "* an idea about the **different datasets on Atmospheric Composition data**,\n",
    "* knowledge about the most useful **Python packages** to handle, process and visualise large volumes of Earth Observation data\n",
    "* an idea about different **data application areas**"
   ]
  },
  {
   "cell_type": "markdown",
   "metadata": {
    "Collapsed": "false"
   },
   "source": [
    "<hr>"
   ]
  },
  {
   "cell_type": "markdown",
   "metadata": {
    "Collapsed": "false"
   },
   "source": [
    "## Access to the `JupyterHub` of the LTPy for Atmospheric Composition Data"
   ]
  },
  {
   "cell_type": "markdown",
   "metadata": {
    "Collapsed": "false"
   },
   "source": [
    "The course material is made available on a JupyterHub instance, a pre-defined environment that give learners direct access to the data and Python packages required for following the course.\n",
    "\n",
    "The `JupyterHub` can be accessed as follows:"
   ]
  },
  {
   "cell_type": "markdown",
   "metadata": {
    "Collapsed": "false"
   },
   "source": [
    "* Web address: [https://ltpy.adamplatform.eu](https://ltpy.adamplatform.eu)\n",
    "* Create a [WEkEO account](https://www.wekeo.eu/user/register)\n",
    "* Log into the `JupyterHub` with your WEkEO login credentials\n",
    "\n"
   ]
  },
  {
   "cell_type": "markdown",
   "metadata": {
    "Collapsed": "false"
   },
   "source": [
    "<hr>"
   ]
  },
  {
   "cell_type": "markdown",
   "metadata": {
    "Collapsed": "false"
   },
   "source": [
    "## Technical requirements"
   ]
  },
  {
   "cell_type": "markdown",
   "metadata": {
    "Collapsed": "false"
   },
   "source": [
    "The notebooks have been developed under `Python3`. \n",
    "\n",
    "The following `Python packages` will be needed to reproduce the LTPy examples on your local setup:\n",
    "* [xarray](http://xarray.pydata.org/en/stable/index.html)\n",
    "* [netCDF4](https://unidata.github.io/netcdf4-python/netCDF4/index.html)\n",
    "* [h5py](https://pypi.org/project/h5py/)\n",
    "* [numpy](https://numpy.org/)\n",
    "* [matplotlib](https://matplotlib.org/)\n",
    "* [cartopy](https://scitools.org.uk/cartopy/docs/latest/)\n",
    "\n",
    "The following `data` are required to be downloaded:\n",
    "\n",
    "| Satellite | Data type | Parameter | Temporal coverage | Data Volume\n",
    "|--- |---|---|---|---|\n",
    "|GOME-2 - Metop-2a|Level-2 Offline| `Nitrogen Dioxide`  |`18-Aug-2019` <br> `19-Aug-2019` <br> `22-Aug-2019`| 222 MB <br> 214 MB <br> 212 MB |\n",
    "|GOME-2 - Metop-2b|Level-2 Offline| `Nitrogen Dioxide`  |`18-Aug-2019` <br> `19-Aug-2019` <br> `22-Aug-2019`| 221 MB <br> 219 MB <br> 232 MB |\n",
    "|GOME-2 - Metop-2a|Level-2 Offline| `Nitrogen Dioxide`  |`13-Aug-2018` <br> `16-Aug-2018` <br> `18-Aug-2018`| 222 MB <br> 214 MB <br> 212 MB |\n",
    "|GOME-2 - Metop-2b|Level-2 Offline| `Nitrogen Dioxide`  |`13-Aug-2018` <br> `16-Aug-2018` <br> `18-Aug-2018`| 222 MB <br> 214 MB <br> 212 MB |\n",
    "|GOME-2 - Metop-2a|Level-3 Data record| `Nitrogen Dioxide`  |`Feb-2007 - Dec-2012`| 4.78 GB |\n",
    "|GOME-2 - Metop-2b|Level-3 Data record| `Nitrogen Dioxide`  |`Jan-2013 - Nov-2017`| 4 GB |\n",
    "|GOME-2 - Metop-2b|Level-3 Data record| `Tropical tropospheric Ozone`  |`Jan-Dec 2018`| 5.1 MB |\n",
    "|Sentinel-5P TROPOMI|Level-2 Offline| `Nitrogen Dioxide`  |`13-Aug-2018` <br> `16-Aug-2018` <br> `18-Aug-2018`| 1.35 GB <br> 1.37 GB <br> - |\n",
    "|Sentinel-5P TROPOMI|Level-2 Offline| `Nitrogen Dioxide`  |`19-Aug-2019` <br> `22-Aug-2019`| 1.82 GB <br> 1.37 GB |\n",
    "|| | | **Total**| **16.7 GB**|"
   ]
  },
  {
   "cell_type": "markdown",
   "metadata": {
    "Collapsed": "false"
   },
   "source": [
    "<hr>"
   ]
  },
  {
   "cell_type": "markdown",
   "metadata": {
    "Collapsed": "false"
   },
   "source": [
    "<p style=\"text-align:left;\"><a href=\"./LICENSE\">&copy; Copyright 2019 eo-lab</a> <span style=\"float:right;\"><a href=\"https://gitlab.eumetsat.int/eo-lab/training-atmospheric-composition/\">View on GitLab</a> | <a href=\"https://training.eumetsat.int/\">EUMETSAT Training</a> | <a href=mailto:training@eumetsat.int>Contact</a></span></p>"
   ]
  }
 ],
 "metadata": {
  "kernelspec": {
   "display_name": "Python 3",
   "language": "python",
   "name": "python3"
  },
  "language_info": {
   "codemirror_mode": {
    "name": "ipython",
    "version": 3
   },
   "file_extension": ".py",
   "mimetype": "text/x-python",
   "name": "python",
   "nbconvert_exporter": "python",
   "pygments_lexer": "ipython3",
   "version": "3.7.0"
  }
 },
 "nbformat": 4,
 "nbformat_minor": 4
}
