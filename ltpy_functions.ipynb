{
 "cells": [
  {
   "cell_type": "markdown",
   "metadata": {
    "Collapsed": "false"
   },
   "source": [
    "<img src='./img/EU-Copernicus-EUM_3Logos.png' alt='Logo EU Copernicus EUMETSAT' align='right' width='50%'></img>"
   ]
  },
  {
   "cell_type": "markdown",
   "metadata": {
    "Collapsed": "false"
   },
   "source": [
    "<br>"
   ]
  },
  {
   "cell_type": "markdown",
   "metadata": {
    "Collapsed": "false"
   },
   "source": [
    "# LTPy functions"
   ]
  },
  {
   "cell_type": "markdown",
   "metadata": {},
   "source": [
    "This notebook lists all `functions` that are defined and used throughout the `LTPy course`.\n",
    "The following functions are listed:\n",
    "\n",
    "**[Data loading and re-shaping functions](#load_reshape)**\n",
    "* [generate_xr_from_1D_vec](#generate_xr_from_1D_vec)\n",
    "* [load_l2_data_xr](#load_l2_data_xr)\n",
    "* [generate_geographical_subset](#generate_geographical_subset)\n",
    "* [generate_masked_array](#generate_masked_array)\n",
    "* [load_masked_l2_da](#load_masked_l2_da)\n",
    "* [select_channels_for_rgb](#rgb_channels)\n",
    "* [normalize](#normalize)\n",
    "\n",
    "**[Data visualization functions](#visualization)**\n",
    "* [visualize_l2](#visualize_l2)\n",
    "* [visualize_gome_mollweide](#visualize_gome_mollweide)\n",
    "* [visualize_imshow](#visualize_imshow)\n",
    "* [visualize_s5p_pcolormesh](#visualize_s5p_pcolormesh)\n",
    "* [visualize_s3_pcolormesh](#visualize_s3_pcolormesh)"
   ]
  },
  {
   "cell_type": "markdown",
   "metadata": {},
   "source": [
    "<hr>"
   ]
  },
  {
   "cell_type": "markdown",
   "metadata": {},
   "source": [
    "#### Load required libraries"
   ]
  },
  {
   "cell_type": "code",
   "execution_count": 2,
   "metadata": {
    "Collapsed": "false"
   },
   "outputs": [],
   "source": [
    "import os\n",
    "from matplotlib import pyplot as plt\n",
    "\n",
    "import xarray as xr\n",
    "from netCDF4 import Dataset\n",
    "import numpy as np\n",
    "\n",
    "from matplotlib import pyplot as plt\n",
    "import matplotlib.colors\n",
    "from matplotlib.colors import LogNorm\n",
    "import cartopy.crs as ccrs\n",
    "from cartopy.mpl.gridliner import LONGITUDE_FORMATTER, LATITUDE_FORMATTER\n",
    "\n",
    "import warnings\n",
    "warnings.simplefilter(action = \"ignore\", category = RuntimeWarning)\n",
    "warnings.simplefilter(action = \"ignore\", category = FutureWarning)"
   ]
  },
  {
   "cell_type": "markdown",
   "metadata": {},
   "source": [
    "<hr>"
   ]
  },
  {
   "cell_type": "markdown",
   "metadata": {},
   "source": [
    "## <a id=\"load_reshape\"></a>Data loading and re-shaping functions"
   ]
  },
  {
   "cell_type": "markdown",
   "metadata": {},
   "source": [
    "### <a id='generate_xr_from_1D_vec'></a>`generate_xr_from_1D_vec`"
   ]
  },
  {
   "cell_type": "code",
   "execution_count": 1,
   "metadata": {},
   "outputs": [],
   "source": [
    "def generate_xr_from_1D_vec(file,lat_path, lon_path, variable, parameter_name, longname, no_of_dims, unit):\n",
    "    \"\"\" \n",
    "    Takes a netCDF4.Dataset or xarray.DataArray object and returns a xarray DataArray object with latitude / longitude\n",
    "    information as coordinate information\n",
    "    \n",
    "    Parameters:\n",
    "        file (netCDF4 data file): AC SAF Level 2 data file, loaded a netCDF4.Dataset or xarray.DataArray\n",
    "        lat_path (str): internal path of the data file to the latitude information, e.g. 'GEOLOCATION/LatitudeCentre'\n",
    "        lon_path (str): internal path of the data file to the longitude information, e.g. 'GEOLOCATION/LongitudeCentre'\n",
    "        variable (array): extracted variable of interested\n",
    "        parameter_name (str): parameter name, preferably extracted from the data file\n",
    "        longname (str): Long name of the parameter, preferably extracted from the data file\n",
    "        no_of_dims (int): Define the number of dimensions of your input array\n",
    "        unit (str): Unit of the parameter, preferably extracted from the data file\n",
    "    \n",
    "    Returns:\n",
    "        1 or 2-dimensional (depending on the given number of dimensions) xarray DataArray  with latitude / longitude information as coordinate information\n",
    "    \"\"\"\n",
    "    latitude = file[lat_path]\n",
    "    longitude = file[lon_path]\n",
    "    param = variable \n",
    "    \n",
    "    if (no_of_dims==1):\n",
    "        param_da = xr.DataArray(\n",
    "            param[:],\n",
    "            dims=('ground_pixel'),\n",
    "            coords={\n",
    "                'latitude': ('ground_pixel', latitude[:]),\n",
    "                'longitude': ('ground_pixel', longitude[:])\n",
    "            },\n",
    "            attrs={'long_name': longname, 'units': unit},\n",
    "            name=parameter_name\n",
    "        )\n",
    "    else:\n",
    "        param_da = xr.DataArray(\n",
    "            param[:],\n",
    "            dims=[\"x\",\"y\"],\n",
    "            coords={\n",
    "                'latitude':(['x','y'],latitude[:]),\n",
    "                'longitude':(['x','y'],longitude[:])\n",
    "            },\n",
    "            attrs={'long_name': longname, 'units': unit},\n",
    "            name=parameter_name\n",
    "        )\n",
    "        \n",
    "    return param_da"
   ]
  },
  {
   "cell_type": "markdown",
   "metadata": {
    "Collapsed": "false"
   },
   "source": [
    "### <a id='load_l2_data_xr'></a>`load_l2_data_xr`"
   ]
  },
  {
   "cell_type": "code",
   "execution_count": 6,
   "metadata": {
    "Collapsed": "false"
   },
   "outputs": [],
   "source": [
    "def load_l2_data_xr(directory, internal_filepath, parameter, latName, lonName, no_of_dims, unit, longname):\n",
    "    \"\"\" \n",
    "    Loads a Metop-A/B Level 2 dataset in HDF format and returns a xarray DataArray with all the ground pixels of all directory \n",
    "    files. Uses function 'generate_xr_from_1D_vec' to generate the xarray DataArray.\n",
    "    \n",
    "    Parameters:\n",
    "        directory (str): directory where the HDF files are stored\n",
    "        internal_filepath (str): internal path of the data file that is of interest, e.g. TOTAL_COLUMNS\n",
    "        parameter (str): paramter that is of interest, e.g. NO2\n",
    "        latName (str): name of latitude variable\n",
    "        lonName (str): name of longitude variable\n",
    "        no_of_dims (int): number of dimensions of input array\n",
    "        unit (str): unit of the parameter, preferably taken from the data file\n",
    "        longname (str): longname of the parameter, preferably taken from the data file\n",
    "    \n",
    "    Returns:\n",
    "        1 or 2-dimensional xarray DataArray with latitude / longitude information as coordinate information\n",
    "    \"\"\"\n",
    "    fileList = [os.path.join(directory, f) for f in os.listdir(directory)]\n",
    "    datasets = []\n",
    "\n",
    "    for i in fileList:\n",
    "        tmp=Dataset(i)\n",
    "        param=tmp[internal_filepath+'/'+parameter]\n",
    "        da_tmp= generate_xr_from_1D_vec(tmp,'GEOLOCATION/'+latName, 'GEOLOCATION/'+lonName,\n",
    "                                param, param.name, longname, no_of_dims, unit)\n",
    "        if(no_of_dims==1):\n",
    "            datasets.append(da_tmp)\n",
    "        else:\n",
    "            da_tmp_st = da_tmp.stack(ground_pixel=('x','y'))\n",
    "            datasets.append(da_tmp_st)\n",
    "\n",
    "    return xr.concat(datasets, dim='ground_pixel')"
   ]
  },
  {
   "cell_type": "markdown",
   "metadata": {
    "Collapsed": "false"
   },
   "source": [
    "### <a id='generate_geographical_subset'></a>`generate_geographical_subset`"
   ]
  },
  {
   "cell_type": "code",
   "execution_count": 1,
   "metadata": {
    "Collapsed": "false"
   },
   "outputs": [],
   "source": [
    "def generate_geographical_subset(xarray, latmin, latmax, lonmin, lonmax):\n",
    "    \"\"\" \n",
    "    Generates a geographical subset of a xarray DataArray and shifts the longitude grid from a 0-360 to a -180 to 180 deg grid.\n",
    "    \n",
    "    Parameters:\n",
    "        xarray (xarray DataArray): a xarray DataArray with latitude and longitude coordinates\n",
    "        latmin, latmax, lonmin, lonmax (int): boundaries of the geographical subset\n",
    "        \n",
    "    Returns:\n",
    "        Geographical subset of a xarray DataArray.\n",
    "    \"\"\"   \n",
    "    xarray = xarray.assign_coords(longitude=(((xarray.longitude + 180) % 360) - 180))\n",
    "    return xarray.where((xarray.latitude < latmax) & (xarray.latitude > latmin) & (xarray.longitude < lonmax) & (xarray.longitude > lonmin),drop=True)"
   ]
  },
  {
   "cell_type": "markdown",
   "metadata": {
    "Collapsed": "false"
   },
   "source": [
    "### <a id='generate_masked_array'></a>`generate_masked_array`"
   ]
  },
  {
   "cell_type": "code",
   "execution_count": 10,
   "metadata": {
    "Collapsed": "false"
   },
   "outputs": [],
   "source": [
    "def generate_masked_array(xarray, mask, threshold, operator):\n",
    "    \"\"\" \n",
    "    Applies a cloud mask (e.g. cloud fraction values) onto a given data array, based on a given threshold.\n",
    "    \n",
    "    Parameters:\n",
    "        xarray (xarray DataArray): a three-dimensional xarray DataArray object\n",
    "        mask (xarray DataArray): 1-dimensional xarray DataArray, e.g. cloud fraction values\n",
    "        threshold (float): any number between 0 and 1, specifying the degree of cloudiness which is acceptable\n",
    "        operator (str): operator how to mask the array, e.g. '<', '>' or '='\n",
    "        \n",
    "    Returns:\n",
    "        Masked xarray DataArray with flagged negative values\n",
    "    \"\"\"\n",
    "    if(operator=='<'):\n",
    "        cloud_mask = xr.where(mask < threshold, 1, 0) #Generate cloud mask with value 1 for the pixels we want to keep\n",
    "    else:\n",
    "        cloud_mask = xr.where(mask == threshold, 1, 0)\n",
    "    xarray_masked = xr.where(cloud_mask ==1, xarray, 0) #Apply mask onto the DataArray\n",
    "    xarray_masked.attrs = xarray.attrs #Set DataArray attributes \n",
    "    return xarray_masked[xarray_masked > 0] #Return masked DataArray and flag negative values"
   ]
  },
  {
   "cell_type": "markdown",
   "metadata": {
    "Collapsed": "false"
   },
   "source": [
    "### <a id='load_masked_l2_da'></a>`load_masked_l2_da`"
   ]
  },
  {
   "cell_type": "code",
   "execution_count": 6,
   "metadata": {
    "Collapsed": "false"
   },
   "outputs": [],
   "source": [
    "def load_masked_l2_da(directory, internal_filepath, parameter, latName, lonName, longname, no_of_dims,  unit, threshold, operator):\n",
    "    \"\"\" \n",
    "    Loads a Metop-A/B Gome-2 Level 2 data and cloud fraction information and returns a masked data array.\n",
    "    \n",
    "    Parameters:\n",
    "        directory(str): Path to directory with Level 2 data files.\n",
    "        internal_filepath(str): Internal file path under which the parameters are strored, e.g. TOTAL_COLUMNS\n",
    "        parameter(str): atmospheric parameter, e.g. NO2\n",
    "        latName (str): name of the latitude variable within the file\n",
    "        lonName (str): name of the longitude variable within the file\n",
    "        longname(str): long name of the parameter that shall be used\n",
    "        unit(str): unit of the parameter\n",
    "        threshold (float): any number between 0 and 1, specifying the degree of cloudiness which is acceptable\n",
    "        operator (str): operator how to mask the array, e.g. '<', '>' or '='\n",
    "        \n",
    "    Returns:\n",
    "        Masked xarray DataArray with flagged negative values\n",
    "    \"\"\"  \n",
    "    da = load_l2_data_xr(directory, internal_filepath, parameter, latName, lonName, no_of_dims, unit, longname)\n",
    "    cloud_fraction = load_l2_data_xr(directory, 'CLOUD_PROPERTIES', 'CloudFraction', 'LatitudeCentre', 'LongitudeCentre', no_of_dims, '-', 'Cloud Fraction')\n",
    "    \n",
    "    return generate_masked_array(da, cloud_fraction, threshold, operator)"
   ]
  },
  {
   "cell_type": "markdown",
   "metadata": {},
   "source": [
    "### <a id='rgb_channels'></a> `select_channels_for_rgb`"
   ]
  },
  {
   "cell_type": "code",
   "execution_count": null,
   "metadata": {},
   "outputs": [],
   "source": [
    "def select_channels_for_rgb(xarray, red_channel, green_channel, blue_channel):\n",
    "    \"\"\" \n",
    "    Selects the channels / bands of a multi-dimensional xarray for red, green and blue composites.\n",
    "    \n",
    "    Parameters:\n",
    "        xarray(xarray Dataset): xarray Dataset object that stores the different channels / bands.\n",
    "        red_channel(str): Name of red channel to be selected\n",
    "        green_channel(str): Name of green channel to be selected\n",
    "        blue_channel(str): Name of blue channel to be selected\n",
    "\n",
    "    Returns:\n",
    "        Three xarray DataArray objects with selected channels / bands\n",
    "    \"\"\"  \n",
    "    return xarray[red_channel], xarray[green_channel], xarray[blue_channel]"
   ]
  },
  {
   "cell_type": "markdown",
   "metadata": {},
   "source": [
    "## <a id='normalize'></a> `normalize`"
   ]
  },
  {
   "cell_type": "code",
   "execution_count": null,
   "metadata": {},
   "outputs": [],
   "source": [
    "def normalize(array):\n",
    "    \"\"\" \n",
    "    Normalizes a numpy array / xarray DataArray object value to values between 0 and 1.\n",
    "    \n",
    "    Parameters:\n",
    "        xarray(numpy array or xarray DataArray): xarray DataArray or numpy array object.\n",
    "\n",
    "    Returns:\n",
    "        Normalized array\n",
    "    \"\"\" \n",
    "    array_min, array_max = array.min(), array.max()\n",
    "    return ((array - array_min)/(array_max - array_min))"
   ]
  },
  {
   "cell_type": "markdown",
   "metadata": {},
   "source": [
    "<hr>"
   ]
  },
  {
   "cell_type": "markdown",
   "metadata": {},
   "source": [
    "## <a id=\"visualization\"></a>Data visualization functions"
   ]
  },
  {
   "cell_type": "markdown",
   "metadata": {
    "Collapsed": "false"
   },
   "source": [
    "### <a id='visualize_l2'></a>`visualize_l2`"
   ]
  },
  {
   "cell_type": "code",
   "execution_count": 1,
   "metadata": {
    "Collapsed": "false"
   },
   "outputs": [],
   "source": [
    "def visualize_l2(xr_dataarray, conversion_factor, projection, vmin, vmax, point_size,color_scale, unit, title, set_global=False):\n",
    "    \"\"\" \n",
    "    Visualizes a xarray DataArray in a given projection using matplotlib's scatter function.\n",
    "    \n",
    "    Parameters:\n",
    "        xr_dataarray(xarray DataArray): a one-dimensional xarray DataArray object with latitude and longitude information as coordinates\n",
    "        conversion_factor (float): any number to convert the DataArray values\n",
    "        projection (str): choose one of cartopy's projection, e.g. ccrs.PlateCarree()\n",
    "        vmin (int): minimum number on visualisation legend\n",
    "        vmax (int): maximum number on visualisation legend\n",
    "        point_size (int): size of marker, e.g. 5\n",
    "        color_scale (str): string taken from matplotlib's color ramp reference\n",
    "        unit (str): define the unit to be added to the color bar\n",
    "        title (str): define titl of the plot\n",
    "        set_global (logical): set True, if the plot shall have a global coverage\n",
    "    \"\"\"\n",
    "    fig, ax = plt.subplots(figsize=(40, 10))\n",
    "    ax = plt.axes(projection=projection)\n",
    "\n",
    "    ax.coastlines()\n",
    "    if set_global:\n",
    "        ax.set_global()\n",
    "    \n",
    "    if (projection==ccrs.PlateCarree()):\n",
    "        gl = ax.gridlines(draw_labels=True, linestyle='--')\n",
    "        gl.xlabels_top=False\n",
    "        gl.ylabels_right=False\n",
    "        gl.xformatter=LONGITUDE_FORMATTER\n",
    "        gl.yformatter=LATITUDE_FORMATTER\n",
    "        gl.xlabel_style={'size':14}\n",
    "        gl.ylabel_style={'size':14}\n",
    "\n",
    "    # plot pixel positions\n",
    "    img = ax.scatter(\n",
    "        xr_dataarray.longitude.data,\n",
    "        xr_dataarray.latitude.data,\n",
    "        c=xr_dataarray.data*conversion_factor,\n",
    "        cmap=plt.cm.get_cmap(color_scale),\n",
    "        marker='o',\n",
    "        s=point_size,\n",
    "        transform=ccrs.PlateCarree(),\n",
    "        vmin=vmin,\n",
    "        vmax=vmax\n",
    "    )\n",
    "\n",
    "    plt.xticks(fontsize=16)\n",
    "    plt.yticks(fontsize=16)\n",
    "    plt.xlabel(\"Longitude\", fontsize=16)\n",
    "    plt.ylabel(\"Latitude\", fontsize=16)\n",
    "    cbar = fig.colorbar(img, ax=ax, orientation='horizontal', fraction=0.04, pad=0.1)\n",
    "    cbar.set_label(str(conversion_factor) + ' ' + unit, fontsize=16)\n",
    "    cbar.ax.tick_params(labelsize=14)\n",
    "    ax.set_title(title, fontsize=20, pad=20.0)\n",
    "    plt.show()"
   ]
  },
  {
   "cell_type": "markdown",
   "metadata": {
    "Collapsed": "false"
   },
   "source": [
    "### <a id='visualize_gome_mollweide'></a>`visualize_gome_mollweide`"
   ]
  },
  {
   "cell_type": "code",
   "execution_count": 2,
   "metadata": {
    "Collapsed": "false"
   },
   "outputs": [],
   "source": [
    "def visualize_gome_mollweide(xr_dataarray, conversion_factor, color_scale, marker_size, vmin, vmax):\n",
    "    \"\"\" \n",
    "    Visualizes a xarray dataarray in a mollweide projection using matplotlib's scatter function.\n",
    "    \n",
    "    Parameters:\n",
    "        xr_dataarray (xarray DataArray): a three-dimensional xarray DataArray object\n",
    "        conversion_factor (float): any number to convert the DataArray values\n",
    "        color_scale (str): string taken from matplotlib's color ramp reference \n",
    "        marker_size (str): size of the marker\n",
    "        vmin (int): minimum number on visualisation legend\n",
    "        vmax (int): maximum number on visualisation legend\n",
    "    \"\"\"\n",
    "    fig, ax = plt.subplots(figsize=(40, 10))\n",
    "    ax = plt.axes(projection=ccrs.Mollweide())\n",
    "\n",
    "    ax.coastlines()\n",
    "    ax.set_global()\n",
    "\n",
    "    ax.gridlines(linestyle='--')\n",
    "    img = ax.scatter(\n",
    "        xr_dataarray.longitude.data,\n",
    "        xr_dataarray.latitude.data,\n",
    "        c=xr_dataarray.data*conversion_factor,\n",
    "        cmap=plt.cm.get_cmap(color_scale),\n",
    "        marker='o',\n",
    "        s=marker_size,\n",
    "        transform=ccrs.PlateCarree(),\n",
    "        vmin=vmin,\n",
    "        vmax=vmax\n",
    "    )\n",
    "\n",
    "    cbar = fig.colorbar(img, ax=ax, orientation='horizontal', fraction=0.04, pad=0.1)\n",
    "    cbar.set_label(str(conversion_factor) + ' ' + xr_dataarray.units, fontsize=16)\n",
    "    cbar.ax.tick_params(labelsize=14)\n",
    "    ax.set_title(xr_dataarray.long_name, fontsize=20, pad=20.0)\n",
    "    plt.show()"
   ]
  },
  {
   "cell_type": "markdown",
   "metadata": {
    "Collapsed": "false"
   },
   "source": [
    "### <a id='visualize_imshow'></a>`visualize_imshow`"
   ]
  },
  {
   "cell_type": "code",
   "execution_count": 6,
   "metadata": {
    "Collapsed": "false"
   },
   "outputs": [],
   "source": [
    "def visualize_imshow(data_array, projection, conversion_factor, color_scale, vmin, vmax, lonmin, lonmax, latmin, latmax, unit, set_global=False, log_scale=False):\n",
    "    \"\"\" \n",
    "    Visualizes a numpy MaskedArray with matplotlib's 'imshow' function.\n",
    "    \n",
    "    Parameters:\n",
    "        data_array (numpy MaskedArray): any numpy MaskedArray, e.g. loaded with the NetCDF library and the Dataset function\n",
    "        projection (str): a projection provided by the cartopy library, e.g. ccrs.PlateCarree()\n",
    "        conversion_factor (float): any number to convert the DataArray values\n",
    "        color_scale(str): string taken from matplotlib's color ramp reference  \n",
    "        vmin (int): minimum number on visualisation legend\n",
    "        vmax (int): maximum number on visualisation legend\n",
    "        lonmin, lonmax, latmin, latmax (float): geographic boundary values \n",
    "        unit (str): define unit of the plot to be added to the colorbar\n",
    "        set_global (logical): set True, if the plot shall have a global coverage\n",
    "        log_scale (logical): set True, if the color_scale shall have a logarithmic scaling\n",
    "    \"\"\"\n",
    "    fig=plt.figure(figsize=(20, 12))\n",
    "\n",
    "    ax=plt.axes(projection=projection)\n",
    "    ax.coastlines()\n",
    "\n",
    "    if(set_global):\n",
    "        ax.set_global()\n",
    "        ax.gridlines()\n",
    "    \n",
    "    if (projection==ccrs.PlateCarree()):\n",
    "        ax.set_extent([lonmin, lonmax, latmin, latmax], projection)\n",
    "        gl = ax.gridlines(draw_labels=True, linestyle='--')\n",
    "        gl.xlabels_top=False\n",
    "        gl.ylabels_right=False\n",
    "        gl.xformatter=LONGITUDE_FORMATTER\n",
    "        gl.yformatter=LATITUDE_FORMATTER\n",
    "        gl.xlabel_style={'size':14}\n",
    "        gl.ylabel_style={'size':14}\n",
    "\n",
    "    if(log_scale):\n",
    "        img1 = plt.imshow(data_array[:]*conversion_factor,\n",
    "                          cmap=color_scale,\n",
    "                          aspect='auto',\n",
    "                          norm=matplotlib.colors.LogNorm(vmin=vmin, vmax=vmax))\n",
    "    else:\n",
    "        img1 = plt.imshow(data_array[:]*conversion_factor,\n",
    "                          cmap=color_scale,\n",
    "                          vmin=vmin,\n",
    "                          vmax=vmax,\n",
    "                          aspect='auto')\n",
    "\n",
    "    cbar = fig.colorbar(img1, ax=ax, orientation='horizontal', fraction=0.04, pad=0.1)\n",
    "    cbar.set_label(str(conversion_factor) + ' ' + unit, fontsize=16)\n",
    "    cbar.ax.tick_params(labelsize=14)\n",
    "    \n",
    "    plt.show()"
   ]
  },
  {
   "cell_type": "markdown",
   "metadata": {
    "Collapsed": "false"
   },
   "source": [
    "### <a id='visualize_s5p_pcolormesh'></a>`visualize_s5p_pcolormesh`"
   ]
  },
  {
   "cell_type": "code",
   "execution_count": 2,
   "metadata": {
    "Collapsed": "false"
   },
   "outputs": [],
   "source": [
    "def visualize_s5p_pcolormesh(data_array, longitude, latitude, projection, color_scale, unit, long_name, vmin, vmax, lonmin, lonmax, latmin, latmax, log=True, set_global=True):\n",
    "    \"\"\" \n",
    "    Visualizes a numpy array with matplotlib's 'pcolormesh' function.\n",
    "    \n",
    "    Parameters:\n",
    "        data_array: any numpy MaskedArray, e.g. loaded with the NetCDF library and the Dataset function\n",
    "        longitude: numpy Array holding longitude information\n",
    "        latitude: numpy Array holding latitude information\n",
    "        projection: a projection provided by the cartopy library, e.g. ccrs.PlateCarree()\n",
    "        color_scale (str): string taken from matplotlib's color ramp reference\n",
    "        unit (str): the unit of the parameter, taken from the NetCDF file if possible\n",
    "        long_name (str): long name of the parameter, taken from the NetCDF file if possible\n",
    "        vmin (int): minimum number on visualisation legend\n",
    "        vmax (int): maximum number on visualisation legend\n",
    "        lonmin,lonmax,latmin,latmax: geographic extent of the plot\n",
    "        log (logical): set True, if the values shall be represented in a logarithmic scale\n",
    "        set_global (logical): set True, if the plot shall have a global coverage\n",
    "    \"\"\"\n",
    "    fig=plt.figure(figsize=(20, 10))\n",
    "\n",
    "    ax = plt.axes(projection=projection)\n",
    "\n",
    "    # define the coordinate system that the grid lons and grid lats are on\n",
    "    if(log):\n",
    "        img = plt.pcolormesh(longitude, latitude, np.squeeze(data_array), norm=LogNorm(), \n",
    "                             cmap=plt.get_cmap(color_scale), transform=ccrs.PlateCarree(),\n",
    "                            vmin=vmin,\n",
    "                            vmax=vmax)\n",
    "    else:\n",
    "        img = plt.pcolormesh(longitude, latitude, data_array, \n",
    "                        cmap=plt.get_cmap(color_scale), transform=ccrs.PlateCarree(),\n",
    "                        vmin=vmin,\n",
    "                        vmax=vmax)\n",
    "\n",
    "    ax.coastlines()\n",
    "\n",
    "    if (projection==ccrs.PlateCarree()):\n",
    "        ax.set_extent([lonmin, lonmax, latmin, latmax], projection)\n",
    "        gl = ax.gridlines(draw_labels=True, linestyle='--')\n",
    "        gl.xlabels_top=False\n",
    "        gl.ylabels_right=False\n",
    "        gl.xformatter=LONGITUDE_FORMATTER\n",
    "        gl.yformatter=LATITUDE_FORMATTER\n",
    "        gl.xlabel_style={'size':14}\n",
    "        gl.ylabel_style={'size':14}\n",
    "\n",
    "    if(set_global):\n",
    "        ax.set_global()\n",
    "        ax.gridlines()\n",
    "\n",
    "    cbar = fig.colorbar(img, ax=ax, orientation='horizontal', fraction=0.04, pad=0.1)\n",
    "    cbar.set_label(unit, fontsize=16)\n",
    "    cbar.ax.tick_params(labelsize=14)\n",
    "    ax.set_title(long_name, fontsize=20, pad=20.0)\n",
    "\n",
    " #   plt.show()\n",
    "    return fig, ax"
   ]
  },
  {
   "cell_type": "markdown",
   "metadata": {},
   "source": [
    "### <a id='visualize_s3_pcolormesh'></a>`visualize_s3_pcolormesh`"
   ]
  },
  {
   "cell_type": "code",
   "execution_count": 1,
   "metadata": {},
   "outputs": [],
   "source": [
    "def visualize_s3_pcolormesh(color_array, array, latitude, longitude, title):\n",
    "    \"\"\" \n",
    "    Visualizes a numpy array (Sentinel-3 data) with matplotlib's 'pcolormesh' function as RGB image.\n",
    "    \n",
    "    Parameters:\n",
    "        color_array (numpy MaskedArray): any numpy MaskedArray, e.g. loaded with the NetCDF library and the Dataset function\n",
    "        longitude (numpy Array): array with longitude values\n",
    "        latitude (numpy Array) : array with latitude values\n",
    "        title (str): title of the resulting plot\n",
    "    \"\"\"\n",
    "    fig=plt.figure(figsize=(20, 12))\n",
    "\n",
    "    ax=plt.axes(projection=ccrs.Mercator())\n",
    "    ax.coastlines()\n",
    "\n",
    "    gl = ax.gridlines(draw_labels=True, linestyle='--')\n",
    "    gl.xlabels_top=False\n",
    "    gl.ylabels_right=False\n",
    "    gl.xformatter=LONGITUDE_FORMATTER\n",
    "    gl.yformatter=LATITUDE_FORMATTER\n",
    "    gl.xlabel_style={'size':14}\n",
    "    gl.ylabel_style={'size':14}\n",
    "\n",
    "    img1 = plt.pcolormesh(longitude, latitude, array*np.nan, color=color_array,\n",
    "                          clip_on = True,\n",
    "                          edgecolors=None,\n",
    "                          zorder=0,\n",
    "                          transform=ccrs.PlateCarree())\n",
    "    ax.set_title(title, fontsize=20, pad=20.0)\n",
    "    plt.show()"
   ]
  },
  {
   "cell_type": "markdown",
   "metadata": {
    "Collapsed": "false"
   },
   "source": [
    "<hr>"
   ]
  },
  {
   "cell_type": "markdown",
   "metadata": {
    "Collapsed": "false"
   },
   "source": [
    "<p style=\"text-align:left;\">This project is licensed under the <a href=\"./LICENSE\">MIT License</a> <span style=\"float:right;\"><a href=\"https://gitlab.eumetsat.int/eumetlab/atmosphere/atmosphere\">View on GitLab</a> | <a href=\"https://training.eumetsat.int/\">EUMETSAT Training</a> | <a href=mailto:training@eumetsat.int>Contact</a></span></p>"
   ]
  }
 ],
 "metadata": {
  "kernelspec": {
   "display_name": "Python 3",
   "language": "python",
   "name": "python3"
  },
  "language_info": {
   "codemirror_mode": {
    "name": "ipython",
    "version": 3
   },
   "file_extension": ".py",
   "mimetype": "text/x-python",
   "name": "python",
   "nbconvert_exporter": "python",
   "pygments_lexer": "ipython3",
   "version": "3.7.3"
  },
  "toc-autonumbering": false,
  "toc-showcode": false,
  "toc-showmarkdowntxt": true
 },
 "nbformat": 4,
 "nbformat_minor": 4
}
