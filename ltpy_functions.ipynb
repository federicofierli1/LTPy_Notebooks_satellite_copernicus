{
 "cells": [
  {
   "cell_type": "markdown",
   "metadata": {
    "Collapsed": "false"
   },
   "source": [
    "<img src='./img/EU-Copernicus-EUM_3Logos.png' alt='Logo EU Copernicus EUMETSAT' align='right' width='50%'></img>"
   ]
  },
  {
   "cell_type": "markdown",
   "metadata": {
    "Collapsed": "false"
   },
   "source": [
    "<br>"
   ]
  },
  {
   "cell_type": "markdown",
   "metadata": {
    "Collapsed": "false"
   },
   "source": [
    "# LTPy functions"
   ]
  },
  {
   "cell_type": "code",
   "execution_count": 23,
   "metadata": {
    "Collapsed": "false"
   },
   "outputs": [],
   "source": [
    "import os\n",
    "from matplotlib import pyplot as plt\n",
    "import h5py\n",
    "\n",
    "import xarray as xr\n",
    "import numpy as np\n",
    "\n",
    "from matplotlib import pyplot as plt\n",
    "import cartopy.crs as ccrs\n",
    "from cartopy.mpl.gridliner import LONGITUDE_FORMATTER, LATITUDE_FORMATTER"
   ]
  },
  {
   "cell_type": "markdown",
   "metadata": {
    "Collapsed": "false"
   },
   "source": [
    "### <a id='visualize_gome_l2'></a>`visualize_gome_l2`"
   ]
  },
  {
   "cell_type": "code",
   "execution_count": 31,
   "metadata": {
    "Collapsed": "false"
   },
   "outputs": [],
   "source": [
    "def visualize_gome_l2(xr_dataarray, conversion_factor, projection, vmin, vmax, color_scale,set_global=False):\n",
    "    \"\"\" \n",
    "    Visualizes a xarray DataArray in a given projection using matplotlib's scatter function.\n",
    "    \n",
    "    Parameters:\n",
    "        xr_dataarray(xarrayDataArray): a one-dimensional xarray DataArray object with latitude and longitude information as coordinates\n",
    "        conversion_factor(float): any number to convert the DataArray values\n",
    "        projection: choose one of cartopy's projection, e.g. ccrs.PlateCarree()\n",
    "        vmin(int): minimum number on visualisation legend\n",
    "        vmax(int): maximum number on visualisation legend\n",
    "        color_scale(str): string taken from matplotlib's color ramp reference\n",
    "        set_global: set True, if the plot shall have a global coverage\n",
    "    \"\"\"\n",
    "    fig, ax = plt.subplots(figsize=(40, 10))\n",
    "    ax = plt.axes(projection=projection)\n",
    "\n",
    "    ax.coastlines()\n",
    "    if set_global:\n",
    "        ax.set_global()\n",
    "\n",
    "    gl = ax.gridlines(draw_labels=True, linestyle='--')\n",
    "    gl.xlabels_top=False\n",
    "    gl.ylabels_right=False\n",
    "    gl.xformatter=LONGITUDE_FORMATTER\n",
    "    gl.yformatter=LATITUDE_FORMATTER\n",
    "    \n",
    "    gl.xlabel_style={'size':14}\n",
    "    gl.ylabel_style={'size':14}\n",
    "\n",
    "    # plot pixel positions\n",
    "    img = ax.scatter(\n",
    "        xr_dataarray.longitude.data,\n",
    "        xr_dataarray.latitude.data,\n",
    "        c=xr_dataarray.data*conversion_factor,\n",
    "        cmap=plt.cm.get_cmap(color_scale),\n",
    "        marker='o',\n",
    "        s=0.5,\n",
    "        transform=ccrs.PlateCarree(),\n",
    "        vmin=vmin,\n",
    "        vmax=vmax\n",
    "    )\n",
    "\n",
    "    plt.xticks(fontsize=16)\n",
    "    plt.yticks(fontsize=16)\n",
    "    plt.xlabel(\"Longitude\", fontsize=16)\n",
    "    plt.ylabel(\"Latitude\", fontsize=16)\n",
    "    cbar = fig.colorbar(img, ax=ax, orientation='horizontal', fraction=0.04, pad=0.1)\n",
    "    cbar.set_label(xr_dataarray.units, fontsize=16)\n",
    "    cbar.ax.tick_params(labelsize=14)\n",
    "    ax.set_title(xr_dataarray.long_name, fontsize=20, pad=20.0)\n",
    "    plt.show()"
   ]
  },
  {
   "cell_type": "markdown",
   "metadata": {
    "Collapsed": "false"
   },
   "source": [
    "### <a id='load_l2_data_xr'></a>`load_l2_data_xr`"
   ]
  },
  {
   "cell_type": "code",
   "execution_count": 27,
   "metadata": {
    "Collapsed": "false"
   },
   "outputs": [],
   "source": [
    "import os\n",
    "def load_l2_data_xr(directory, internal_filepath, parameter, longname, unit, name):\n",
    "    \"\"\" \n",
    "    Loads a Metop-A/B Level 2 dataset in HDF format and returns a xarray DataArray with all the ground pixels of all GOME-2A files for one specific day\n",
    "    \n",
    "    Parameters:\n",
    "        directory: directory where the HDF files are stored\n",
    "        internal_filepath: internal path of the data file that is of interest, e.g. TOTAL_COLUMNS\n",
    "        parameter: paramter that is of interest, e.g. NO2\n",
    "        longname: Descriptive name of the variable stored in the resulting xarray DataArray\n",
    "        unit: Unit of the parameter\n",
    "        name: short name of the variable\n",
    "    \n",
    "    Returns:\n",
    "        1-dimensional xarray DataArray with latitude / longitude information as coordinate information\n",
    "    \"\"\"\n",
    "    fileList = os.listdir(directory)\n",
    "    datasets = []\n",
    "\n",
    "    for i in fileList:\n",
    "        fullpath=os.path.join(directory, i)\n",
    "        tmp = h5py.File(fullpath, 'r')\n",
    "        groups =tmp.keys()\n",
    "        tmp[internal_filepath]\n",
    "        latitude = tmp['GEOLOCATION/LatitudeCentre']\n",
    "        longitude = tmp['GEOLOCATION/LongitudeCentre']\n",
    "        param = tmp[internal_filepath+'/'+parameter]\n",
    "        da_tmp = xr.DataArray(\n",
    "            param[()],\n",
    "            dims=('ground_pixel'),\n",
    "            coords={\n",
    "                'latitude': ('ground_pixel', latitude[:]),\n",
    "                'longitude': ('ground_pixel', longitude[:])\n",
    "            },\n",
    "            attrs={'long_name': longname, 'units': unit},\n",
    "            name=name\n",
    "        )\n",
    "        datasets.append(da_tmp)\n",
    "\n",
    "    return xr.concat(datasets, dim='ground_pixel')"
   ]
  },
  {
   "cell_type": "markdown",
   "metadata": {
    "Collapsed": "false"
   },
   "source": [
    "### <a id='visualize_gome_mollweide'></a>`visualize_gome_mollweide`"
   ]
  },
  {
   "cell_type": "code",
   "execution_count": 26,
   "metadata": {
    "Collapsed": "false"
   },
   "outputs": [],
   "source": [
    "def visualize_gome_mollweide(xr_dataarray, conversion_factor, color_scale, vmin, vmax):\n",
    "    \"\"\" \n",
    "    Visualizes a xarray dataarray in a mollweide projection using matplotlib's scatter function.\n",
    "    \n",
    "    Parameters:\n",
    "        xr_dataarray(xarrayDataArray): a three-dimensional xarray DataArray object\n",
    "        conversion_factor(float): any number to convert the DataArray values\n",
    "        color_scale(str): string taken from matplotlib's color ramp reference  \n",
    "        vmin(int): minimum number on visualisation legend\n",
    "        vmax(int): maximum number on visualisation legend\n",
    "    \"\"\"\n",
    "    fig, ax = plt.subplots(figsize=(40, 10))\n",
    "    ax = plt.axes(projection=ccrs.Mollweide())\n",
    "\n",
    "    ax.coastlines()\n",
    "    ax.set_global()\n",
    "\n",
    "    ax.gridlines(linestyle='--')\n",
    "    img = ax.scatter(\n",
    "        xr_dataarray.longitude.data,\n",
    "        xr_dataarray.latitude.data,\n",
    "        c=xr_dataarray.data*conversion_factor,\n",
    "        cmap=plt.cm.get_cmap(color_scale),\n",
    "        marker='o',\n",
    "        s=0.5,\n",
    "        transform=ccrs.PlateCarree(),\n",
    "        vmin=vmin,\n",
    "        vmax=vmax\n",
    "    )\n",
    "\n",
    "    cbar = fig.colorbar(img, ax=ax, orientation='horizontal', fraction=0.04, pad=0.1)\n",
    "    cbar.set_label(xr_dataarray.units, fontsize=16)\n",
    "    cbar.ax.tick_params(labelsize=14)\n",
    "    ax.set_title(xr_dataarray.long_name, fontsize=20, pad=20.0)\n",
    "    plt.show()"
   ]
  },
  {
   "cell_type": "markdown",
   "metadata": {
    "Collapsed": "false"
   },
   "source": [
    "### <a id='visualize_imshow'></a>`visualize_imshow`"
   ]
  },
  {
   "cell_type": "code",
   "execution_count": 13,
   "metadata": {
    "Collapsed": "false"
   },
   "outputs": [],
   "source": [
    "def visualize_imshow(data_array, projection, extent, conversion_factor, color_scale, vmin, vmax, set_global=False):\n",
    "    \"\"\" \n",
    "    Visualizes a numpy MaskedArray with matplotlib's 'imshow' function.\n",
    "    \n",
    "    Parameters:\n",
    "        data_array: any numpy MaskedArray, e.g. loaded with the NetCDF library and the Dataset function\n",
    "        projection: a projection provided by the cartopy library, e.g. ccrs.PlateCarree()\n",
    "        extent: list with the following order - [min(lon),max(lon),max(lat),min(lat)]\n",
    "        conversion_factor(float): any number to convert the DataArray values\n",
    "        color_scale(str): string taken from matplotlib's color ramp reference  \n",
    "        vmin(int): minimum number on visualisation legend\n",
    "        vmax(int): maximum number on visualisation legend\n",
    "        set_global: set True, if the plot shall have a global coverage\n",
    "    \"\"\"\n",
    "    fig=plt.figure(figsize=(20, 12))\n",
    "\n",
    "    ax=plt.axes(projection=projection)\n",
    "    ax.coastlines()\n",
    "    ax.gridlines()\n",
    "    if(set_global):\n",
    "        ax.set_global()\n",
    "\n",
    "    ax.set_title(data_array.long_name, fontsize=20, pad=20.0)\n",
    "\n",
    "    gl = ax.gridlines(draw_labels=True, linestyle='--')\n",
    "    gl.xlabels_top=False\n",
    "    gl.ylabels_right=False\n",
    "    gl.xformatter=LONGITUDE_FORMATTER\n",
    "    gl.yformatter=LATITUDE_FORMATTER\n",
    "    \n",
    "    gl.xlabel_style={'size':14}\n",
    "    gl.ylabel_style={'size':14}\n",
    "\n",
    "    img1 = plt.imshow(data_array[:]*conversion_factor,\n",
    "           extent=extent,\n",
    "           cmap=color_scale,\n",
    "           aspect='auto',\n",
    "           vmin=vmin,\n",
    "           vmax=vmax)\n",
    "\n",
    "    cbar = fig.colorbar(img1, ax=ax, orientation='horizontal', fraction=0.04, pad=0.1)\n",
    "    cbar.set_label(str(conversion_factor) + ' ' + data_array.units, fontsize=16)\n",
    "    cbar.ax.tick_params(labelsize=14)\n",
    "    \n",
    "    plt.show()"
   ]
  },
  {
   "cell_type": "markdown",
   "metadata": {
    "Collapsed": "false"
   },
   "source": [
    "### <a id='visualize_s5p_pcolormesh'></a>`visualize_s5p_pcolormesh`"
   ]
  },
  {
   "cell_type": "code",
   "execution_count": null,
   "metadata": {
    "Collapsed": "false"
   },
   "outputs": [],
   "source": [
    "def visualize_s5p_pcolormesh(data_array, longitude, latitude, projection, color_scale, unit, long_name, lonmin, lonmax, latmin, latmax, set_global=True):\n",
    "    \"\"\" \n",
    "    Visualizes a numpy array with matplotlib's 'pcolormesh' function.\n",
    "    \n",
    "    Parameters:\n",
    "        data_array: any numpy MaskedArray, e.g. loaded with the NetCDF library and the Dataset function\n",
    "        longitude:\n",
    "        latitude:\n",
    "        projection: a projection provided by the cartopy library, e.g. ccrs.PlateCarree()\n",
    "        color_scale(str): string taken from matplotlib's color ramp reference\n",
    "        unit(str): the unit of the pararmeter\n",
    "        long_name(str): long name of the parameter, taken from the NetCDF file if possible\n",
    "        longmin,lonmax,latmin,latmax: geographic extent of the plot\n",
    "        set_global: set True, if the plot shall have a global coverage\n",
    "    \"\"\"\n",
    "    fig=plt.figure(figsize=(20, 10))\n",
    "\n",
    "    ax = plt.axes(projection=projection)\n",
    "\n",
    "    # define the coordinate system that the grid lons and grid lats are on\n",
    "    img = plt.pcolormesh(longitude, latitude, np.squeeze(data_array), norm=LogNorm(), cmap=plt.get_cmap(color_scale), transform=ccrs.PlateCarree())\n",
    "\n",
    "    ax.coastlines()\n",
    "\n",
    "    if(set_global):\n",
    "        ax.set_global()\n",
    "        ax.gridlines()\n",
    "    else:\n",
    "        ax.set_extent([lonmin, lonmax, latmin, latmax], projection)\n",
    "        gl = ax.gridlines(draw_labels=True, linestyle='--')\n",
    "        gl.xlabels_top=False\n",
    "        gl.ylabels_right=False\n",
    "        gl.xformatter=LONGITUDE_FORMATTER\n",
    "        gl.yformatter=LATITUDE_FORMATTER\n",
    "        gl.xlabel_style={'size':12}\n",
    "        gl.ylabel_style={'size':12}\n",
    "\n",
    "    cbar = fig.colorbar(img, ax=ax, orientation='horizontal', fraction=0.04, pad=0.1)\n",
    "    cbar.set_label(unit, fontsize=16)\n",
    "    cbar.ax.tick_params(labelsize=14)\n",
    "    ax.set_title(long_name, fontsize=20, pad=20.0)\n",
    "\n",
    "    plt.show()"
   ]
  },
  {
   "cell_type": "markdown",
   "metadata": {
    "Collapsed": "false"
   },
   "source": [
    "### <a id='generate_geographical_subset'></a>`generate_geographical_subset`"
   ]
  },
  {
   "cell_type": "code",
   "execution_count": 1,
   "metadata": {
    "Collapsed": "false"
   },
   "outputs": [],
   "source": [
    "def generate_geographical_subset(xarray, latmin, latmax, lonmin, lonmax):\n",
    "    \"\"\" \n",
    "    Generates a geographical subset of a xarray DataArray and shifts the longitude grid from a 0-360 to a -180 to 180 deg grid.\n",
    "    \n",
    "    Parameters:\n",
    "        xarray: a xarray DataArray with latitude and longitude coordinates\n",
    "        latmin, latmax, lonmin, lonmax (int): boundaries of the geographical subset\n",
    "        \n",
    "    Returns:\n",
    "        Geographical subset of a xarray DataArray.\n",
    "    \"\"\"   \n",
    "    xarray = xarray.assign_coords(longitude=(((xarray.longitude + 180) % 360) - 180))\n",
    "    return xarray.where((xarray.latitude < latmax) & (xarray.latitude > latmin) & (xarray.longitude < lonmax) & (xarray.longitude > lonmin),drop=True)"
   ]
  },
  {
   "cell_type": "markdown",
   "metadata": {
    "Collapsed": "false"
   },
   "source": [
    "### <a id='generate_masked_array'></a>`generate_masked_array`"
   ]
  },
  {
   "cell_type": "code",
   "execution_count": 12,
   "metadata": {
    "Collapsed": "false"
   },
   "outputs": [],
   "source": [
    "def generate_masked_array(xarray, mask, threshold):\n",
    "    \"\"\" \n",
    "    Applies a cloud mask (e.g. cloud fraction values) onto a given data array, based on a given threshold.\n",
    "    \n",
    "    Parameters:\n",
    "        xarray: a three-dimensional xarray DataArray object\n",
    "        mask: 1-dimensional xarray DataArray, e.g. cloud fraction values\n",
    "        threshold (float): any number between 0 and 1, specifying the degree of cloudiness which is acceptable.\n",
    "        \n",
    "    Returns:\n",
    "        Masked xarray DataArray with flagged negative values\n",
    "    \"\"\"\n",
    "    cloud_mask = xr.where(mask < threshold, 1, 0) #Generate cloud mask with value 1 for the pixels we want to keep\n",
    "    xarray_masked = xr.where(cloud_mask ==1, xarray, 0) #Apply mask onto the DataArray\n",
    "    xarray_masked.attrs = xarray.attrs #Set DataArray attributes \n",
    "    return xarray_masked[xarray_masked > 0] #Return masked DataArray and flag negative values"
   ]
  },
  {
   "cell_type": "markdown",
   "metadata": {
    "Collapsed": "false"
   },
   "source": [
    "### <a id='load_masked_l2_da'></a>`load_masked_l2_da`"
   ]
  },
  {
   "cell_type": "code",
   "execution_count": 2,
   "metadata": {
    "Collapsed": "false"
   },
   "outputs": [],
   "source": [
    "def load_masked_l2_da(directory, internal_filepath, parameter, longname, unit, name, threshold):\n",
    "    \"\"\" \n",
    "    Loads a Metop-A/B Gome-2 Level 2 data and cloud fraction information and returns a masked data array.\n",
    "    \n",
    "    Parameters:\n",
    "        directory(str): Path to directory with Level 2 data files.\n",
    "        internal_filepath(str): Internal file path under which the parameters are strored, e.g. TOTAL_COLUMNS\n",
    "        parameter(str): atmospheric parameter, e.g. NO2\n",
    "        longname(str): long name of the parameter that shall be used\n",
    "        unit(str): unit of the parameter\n",
    "        name(str): short name of the parameter\n",
    "        \n",
    "    Returns:\n",
    "        Masked xarray DataArray with flagged negative values\n",
    "    \"\"\"  \n",
    "    da = load_l2_data_xr(directory, internal_filepath, parameter, longname, unit, name)\n",
    "    cloud_fraction = load_l2_data_xr(directory, 'CLOUD_PROPERTIES', 'CloudFraction', '-', 'Cloud Fraction', 'cloud_fraction')\n",
    "    \n",
    "    return generate_masked_array(da, cloud_fraction, threshold)"
   ]
  },
  {
   "cell_type": "code",
   "execution_count": null,
   "metadata": {
    "Collapsed": "false"
   },
   "outputs": [],
   "source": []
  }
 ],
 "metadata": {
  "kernelspec": {
   "display_name": "Python 3",
   "language": "python",
   "name": "python3"
  },
  "language_info": {
   "codemirror_mode": {
    "name": "ipython",
    "version": 3
   },
   "file_extension": ".py",
   "mimetype": "text/x-python",
   "name": "python",
   "nbconvert_exporter": "python",
   "pygments_lexer": "ipython3",
   "version": "3.7.0"
  },
  "toc-autonumbering": false,
  "toc-showcode": false,
  "toc-showmarkdowntxt": true
 },
 "nbformat": 4,
 "nbformat_minor": 4
}
