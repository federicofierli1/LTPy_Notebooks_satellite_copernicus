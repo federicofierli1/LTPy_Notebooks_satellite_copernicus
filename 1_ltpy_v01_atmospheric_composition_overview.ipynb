{
 "cells": [
  {
   "cell_type": "markdown",
   "metadata": {
    "Collapsed": "false"
   },
   "source": [
    "<img src='./img/EU-Copernicus-EUM_3Logos.png' alt='Logo EU Copernicus EUMETSAT' align='right' width='50%'></img>\n",
    "<br>"
   ]
  },
  {
   "cell_type": "markdown",
   "metadata": {
    "Collapsed": "false"
   },
   "source": [
    "<br>"
   ]
  },
  {
   "cell_type": "markdown",
   "metadata": {
    "Collapsed": "false"
   },
   "source": [
    "<a href=\"./index.ipynb\"><< Index</a><span style=\"float:right;\"><a href=\"./211_ltpy_v01_AC_SAF_L2_data.ipynb\">211 - AC SAF Near-real time (NRT) and Offline Level 2 products >></a></span>"
   ]
  },
  {
   "cell_type": "markdown",
   "metadata": {
    "Collapsed": "false"
   },
   "source": [
    "# 1 Atmospheric composition data - Overview and data access"
   ]
  },
  {
   "cell_type": "markdown",
   "metadata": {
    "Collapsed": "false"
   },
   "source": [
    "This module gives an overview of the following atmospheric composition data services:\n",
    "* [EUMETSAT AC SAF - The EUMETSAT Satellite Application Facility on Atmospheric Composition Monitoring](#ac_saf)\n",
    "* [Copernicus Sentinel-5 Precursor (Sentinel-5P)](#sentinel_5p)\n",
    "* [Copernicus Atmosphere Monitoring Service (CAMS))](#cams)"
   ]
  },
  {
   "cell_type": "markdown",
   "metadata": {
    "Collapsed": "false"
   },
   "source": [
    "<br>"
   ]
  },
  {
   "cell_type": "markdown",
   "metadata": {
    "Collapsed": "false"
   },
   "source": [
    "##  <a id=\"ac_saf\"></a>EUMETSAT AC SAF - The EUMETSAT Satellite Application Facility on Atmospheric Composition Monitoring"
   ]
  },
  {
   "cell_type": "markdown",
   "metadata": {
    "Collapsed": "false"
   },
   "source": [
    "|  - | -  |\n",
    "| - | - |\n",
    "| <img src='./img/ac_saf_logo.png' alt='Logo EU Copernicus EUMETSAT' align='left' width='80%'></img>  | <font size='3'>The EUMETSAT Satellite Application Facility on Atmospheric Composition Monitoring <br>(EUMETSAT AC SAF) is one of eight EUMETSAT Satellite Application Facilities (SAFs).</font> <br> <br><font size='3'>SAFs generate and disseminate operational EUMETSAT products and services and are an integral part of the distributed EUMETSAT Application Ground Segment. AC SAF processes data on ozone, other trace gases, aerosols and ultraviolet data, obtained from satellite instrumentation.</font> |"
   ]
  },
  {
   "cell_type": "markdown",
   "metadata": {
    "Collapsed": "false"
   },
   "source": [
    "<br>"
   ]
  },
  {
   "cell_type": "markdown",
   "metadata": {
    "Collapsed": "false"
   },
   "source": [
    "### Available AC SAF products"
   ]
  },
  {
   "cell_type": "markdown",
   "metadata": {
    "Collapsed": "false"
   },
   "source": [
    "AC-SAF offers three different product types: <br>\n",
    "\n",
    "|<font size='+0.2'><center>[Near real-time products](#nrt)</center></font> | <font size='+0.2'><center>[Offline products](#offline)</center></font> | <font size='+0.2'><center>[Data records](#records)</center></font> |\n",
    "|-----|-----|------|\n",
    "<img src='./img/nrt_no2_example.png' alt='Near-real time product - NO2' align='middle' width='60%'></img>|<img src='./img/offline_ozone_example.png' alt='Logo EU Copernicus EUMETSAT' align='middle' width='60%'></img>|<img src='./img/ac_saf_level3.png' alt='Logo EU Copernicus EUMETSAT' align='middle' width='100%'></img>|\n",
    "\n",
    "<br>\n",
    "Near real-time and offline products are often refered as Level 2 data. Data records are refered as Level 3 data. \n",
    "\n",
    "AC SAF products are sensed from two instruments onboard the Metop satellites:\n",
    "* [Global Ozone Monitoring Experiment-2 (GOME-2) instrument](https://acsaf.org/gome-2.html) <br>\n",
    "GOME-2 can measure a range of atmospheric trace constituents, with the emphasis on global ozone distributions. Furthermore, cloud properties and intensities of ultraviolet radiation are retrieved. These data are crucial for monitoring the atmospheric composition and the detection of pollutants. <br>\n",
    "\n",
    "* [Infrared Atmospheric Sounding Interferometer (IASI) instrument](https://acsaf.org/iasi.html)\n",
    "\n",
    "The [Metop satellites](https://acsaf.org/metop.html) is a series of three satellites that were launched in October 2006 (Metop-A), September 2012 (Metop-B) and November 2018 (Metop-C) respectively.\n",
    "\n",
    "All AC SAF products are disseminated under the [AC SAF Data policy](https://acsaf.org/data_policy.html)."
   ]
  },
  {
   "cell_type": "markdown",
   "metadata": {
    "Collapsed": "false"
   },
   "source": [
    "<br> "
   ]
  },
  {
   "cell_type": "markdown",
   "metadata": {
    "Collapsed": "false"
   },
   "source": [
    "#### <a id=\"nrt\"></a>Near-real time (NRT) products"
   ]
  },
  {
   "cell_type": "markdown",
   "metadata": {
    "Collapsed": "false"
   },
   "source": [
    "NRT products are Level 2 products and are available to users in 3 hours from sensing at the latest and available for the past two months. NRT products are disseminated in HDF5 format.\n",
    "\n",
    "| <img width=100>NRT Product type name</img> | Description | Unit | <img width=80>Satellite</img> | Instrument |\n",
    "| ---- | ----- | ----- | ---- | -----|\n",
    "| Total Ozone (O<sub>3</sub>) column | NRT total ozone column product provided information about vertical column densities of ozone in the atmosphere | Dobson Units (DU) | Metop-A<br>Metop-B | GOME-2 |\n",
    "| Total and tropospheric NO<sub>2</sub> columns | NRT total and tropospheric NO2 column products provide information about vertical column densities of nitrogen dioxide in the atmosphere. | molecules/cm2 | Metop-A<br>Metop-B | GOME-2 |\n",
    "| Total SO<sub>2</sub> column | NRT total SO2 column product provides information about vertical column densities of the sulfur dioxide in the atmosphere. | Dobson Units (DU) | Metop-A<br>Metop-B | GOME-2 \n",
    "| Total HCHO column | NRT HCHO column product provides information about vertical column densities of formaldehyde in the atmosphere. | molecules/cm2 | Metop-A<br>Metop-B | GOME-2 |\n",
    "| High-resolution vertical ozone profile | NRT high-resolution vertical ozone profile product provides an ozone profile from the GOME-2 nadir scanning mode. | Partial ozone columns in Dobson Units in 40 layers from the surface up to 0.001 hPa| Metop-A<br>Metop-B | GOME-2 |\n",
    "| Global tropospheric ozone column | The global tropospheric ozone column product provides information about vertical column densities of ozone in the troposphere, <br>from the surface to the tropopause and from the surface to 500 hPa (∼5km). | Dobson Units (DU) | Metop-A<br>Metop-B | GOME-2 |"
   ]
  },
  {
   "cell_type": "markdown",
   "metadata": {
    "Collapsed": "false"
   },
   "source": [
    "<br>"
   ]
  },
  {
   "cell_type": "markdown",
   "metadata": {
    "Collapsed": "false"
   },
   "source": [
    "#### <a id=\"offline\"></a>Offline products"
   ]
  },
  {
   "cell_type": "markdown",
   "metadata": {
    "Collapsed": "false"
   },
   "source": [
    "Offline products are Level 2 products and are available to users in 15 days of sensing. Typical delay is 2-3 days. Offline products are disseminated in HDF5 format.\n",
    "\n",
    "| Offline Product type name | Description |  Unit | <img width=80>Satellite</img> | Instrument | <img width=150px>Time period</img> |\n",
    "| ---- | ----- | ----- | ---- | -----|----|\n",
    "| Total Ozone (O<sub>3</sub>) column | Offline total ozone column product provided information about vertical column densities of ozone in the atmosphere | Dobson Units (DU) | Metop-A<br>Metop-B | GOME-2 | 1 Jan 2008 - almost NRT<br>13 Dec 2012 - almost NRT |\n",
    "| Total and tropospheric NO<sub>2</sub> columns | Offline total and tropospheric NO2 column products provide information about vertical column densities of nitrogen dioxide in the atmosphere. | molecules/cm2 | Metop-A<br>Metop-B | GOME-2 | 1 Jan 2008 - almost NRT<br>13 Dec 2012 - almost NRT |\n",
    "| Total SO<sub>2</sub> column | Offline total SO2 column product provides information about vertical column densities of the sulfur dioxide in the atmosphere. | Dobson Units (DU) | Metop-A<br>Metop-B | GOME-2 | 1 Jan 2008 - almost NRT<br>13 Dec 2012 - almost NRT |\n",
    "| Total HCHO column | Offline HCHO column product provides information about vertical column densities of formaldehyde in the atmosphere. | molecules/cm2 | Metop-A<br>Metop-B | GOME-2 | 1 Jan 2008 - almost NRT<br>13 Dec 2012 - almost NRT |\n",
    "| High-resolution vertical ozone profile | Offline high-resolution vertical ozone profile product provides an ozone profile from the GOME-2 nadir scanning mode. | Partial ozone columns in Dobson Units in 40 layers from the surface up to 0.001 hPa| Metop-A<br>Metop-B | GOME-2 | 1 Jan 2008 - almost NRT<br>13 Dec 2012 - almost NRT |\n",
    "| Global tropospheric ozone column | The offline global tropospheric ozone column product provides information about vertical column densities of ozone in the troposphere, from the surface to the tropopause and and from the surface to 500 hPa (∼5km). | Dobson Units (DU) | Metop-A<br>Metop-B | GOME-2 | 1 Jan 2008 - almost NRT<br>13 Dec 2012 - almost NRT |"
   ]
  },
  {
   "cell_type": "markdown",
   "metadata": {
    "Collapsed": "false"
   },
   "source": [
    "<br>"
   ]
  },
  {
   "cell_type": "markdown",
   "metadata": {
    "Collapsed": "false"
   },
   "source": [
    "#### <a id=\"records\"></a>Data records"
   ]
  },
  {
   "cell_type": "markdown",
   "metadata": {
    "Collapsed": "false"
   },
   "source": [
    "Data records are reprocessed, gridded Level 3 data. Data records are monthly aggregated products, regridded on a regular latitude-longitude grid. Data records are disseminated in NetCDF format.\n",
    "\n",
    "| Data record name | Description | Unit | <img width=80>Satellite</img> | Instrument | <img width=150>Time period</img> |\n",
    "| ---- | ----- | ----- | ---- | -----|----|\n",
    "| Reprocessed **tropospheric O<sub>3</sub>** column data record for the Tropics | Tropospheric ozone column data record for the Tropics provides long-term information <br>about vertical densities of ozone in the atmosphere for the tropics. | Dobson Units (DU) | Metop-A<br>Metop-B | GOME-2 | Jan 2007- Dec 2018<br>Jan 2013- Jun 2019 |\n",
    "| Reprocessed **total column and tropospheric NO<sub>2</sub>** data record | Total and tropospheric NO2 column data record provides long-term information about vertical column densities of nitrogen dioxide in the atmosphere. | molecules/cm2 | Metop-A<br>Metop-B | GOME-2 | Jan 2007 - Nov 2017<br>Jan 2013 - Nov 2017 |\n",
    "| Reprocessed **total H<sub>2</sub>O column** data record | Total H2O column data record provides long-term information about vertical column densities of water vapour in the atmosphere. | kg/m2 | Metop-A<br>Metop-B | GOME-2 | Jan 2007 - Nov 2017<br>Jan 2013 - Nov 2017 |"
   ]
  },
  {
   "cell_type": "markdown",
   "metadata": {
    "Collapsed": "false"
   },
   "source": [
    "<br>"
   ]
  },
  {
   "cell_type": "markdown",
   "metadata": {
    "Collapsed": "false"
   },
   "source": [
    "### <a id=\"ac_saf_access\"></a>How to access AC SAF products"
   ]
  },
  {
   "cell_type": "markdown",
   "metadata": {
    "Collapsed": "false"
   },
   "source": [
    "AC SAF products can be accessed via different dissemination channels. There are channels where Level 2 and Level 3 are available for download. Other sources allow to browse through images and maps of the data. This is useful to see for what dates e.g. Level 2 data were sensed."
   ]
  },
  {
   "cell_type": "markdown",
   "metadata": {
    "Collapsed": "false"
   },
   "source": [
    "#### DLR ftp server"
   ]
  },
  {
   "cell_type": "markdown",
   "metadata": {
    "Collapsed": "false"
   },
   "source": [
    "All near-real time, offline and reprocessed total column data are available at [DLR's ATMOS FTP-server](https://atmos.eoc.dlr.de/products/). Accessing data is a two step process:\n",
    "1. [Register](https://acsaf.org/registration_form.html) as a user of AC SAF products\n",
    "2. [Log in](https://atmos.eoc.dlr.de/products/)( (with the user name and password that is emailed to you after registration)\n",
    "\n",
    "Once logged in, you find data folders for GOME-2 products from Metop-A in the directory *'gome2a/'* and GOME-2 products from Metop-B in the directory: *'gome2b/'* respectively. In each GOME-2 directory, you find the following sub-directories: <br> \n",
    "* **`near_real_time/`**, \n",
    "* **`offline/`**, and\n",
    "* **`level3/`**. \n",
    "\n",
    "<br>\n",
    "\n",
    "\n",
    "<div style='text-align:center;'>\n",
    "<figure><img src='./img/dlr_ftp_directory.png' width='50%'/>\n",
    "    <figcaption><i>Example of the directory structure of DLR's ATMOS FTP-server</i></figcaption>\n",
    "</figure>\n",
    "</div>\n",
    "   "
   ]
  },
  {
   "cell_type": "markdown",
   "metadata": {
    "Collapsed": "false"
   },
   "source": [
    "<br>"
   ]
  },
  {
   "cell_type": "markdown",
   "metadata": {
    "Collapsed": "false"
   },
   "source": [
    "#### EUMETSAT Data Centre"
   ]
  },
  {
   "cell_type": "markdown",
   "metadata": {
    "Collapsed": "false"
   },
   "source": [
    "The EUMETSAT Data Centre provides a long-term archive of data and generated products from EUMETSAT, which can be ordered online. Ordering data is a two step process:\n",
    "1. [Create an account](https://eoportal.eumetsat.int/userMgmt/register.faces) at the EUMETSAT Earth Observation Portal\n",
    "2. [Log in](https://eoportal.eumetsat.int/userMgmt/login.faces) (with the user name and password that is emailed to you after registration)\n",
    "\n",
    "Once succesfully logged in, go to (1) Data Centre. You will be re-directed to (2) the User Services Client. Type in *'GOME'* as search term and you can get a list of all available GOME-2 products."
   ]
  },
  {
   "cell_type": "markdown",
   "metadata": {
    "Collapsed": "false"
   },
   "source": [
    "\n",
    "\n",
    "<div style='text-align:center;'>\n",
    "<figure><img src='./img/eumetsat_data_centre.png' width='50%' />\n",
    "    <figcaption><i>Example of the directory structure of EUMETSAT's Data Centre</i></figcaption>\n",
    "</figure>\n",
    "</div>"
   ]
  },
  {
   "cell_type": "markdown",
   "metadata": {
    "Collapsed": "false"
   },
   "source": [
    "<br>"
   ]
  },
  {
   "cell_type": "markdown",
   "metadata": {
    "Collapsed": "false"
   },
   "source": [
    "#### Web-based services"
   ]
  },
  {
   "cell_type": "markdown",
   "metadata": {
    "Collapsed": "false"
   },
   "source": [
    "There are two web-based services, [DLR's ATMOS webserver](https://atmos.eoc.dlr.de/app/missions/gome2) and the [TEMIS service by KNMI](http://temis.nl/index.php) that offer access to GOME-2/MetOp browse products. These services are helpful to see the availability of data for specific days, especially for AC SAF Level-2 parameters."
   ]
  },
  {
   "cell_type": "markdown",
   "metadata": {
    "Collapsed": "false"
   },
   "source": [
    "<br>"
   ]
  },
  {
   "cell_type": "markdown",
   "metadata": {
    "Collapsed": "false"
   },
   "source": [
    "| <font size='+0.2'>[DLR's ATMOS webserver](https://atmos.eoc.dlr.de/app/missions/gome2)</font> |  <font size='+0.2'>[TEMIS - Tropospheric Emission Monitoring Internet Service](http://temis.nl/index.php)</font> |\n",
    "| - | - |\n",
    "| <br>ATMOS (Atmospheric ParameTers Measured by in-Orbit Spectrosocopy is a webserver operated by DLR's Remote Sensing Technology Institute (IMF). The webserver provides access to browse products from GOME-2/Metop Products, both in NRT and offline mode. <br><br> | <br>TEMIS is a web-based service to browse and download atmospheric satellite data products maintained by KNMI. The data products consist mainly of tropospheric trace gases and aerosol concentrations, but also UV products, cloud information and surface albedo climatologies are provided. <br><br> |\n",
    "| <center><img src='./img/atmos_service.png' width='70%'></img></center> | <center><img src='./img/temis_service.png' width='70%'></img></center> |"
   ]
  },
  {
   "cell_type": "markdown",
   "metadata": {
    "Collapsed": "false"
   },
   "source": [
    "<br>"
   ]
  },
  {
   "cell_type": "markdown",
   "metadata": {
    "Collapsed": "false"
   },
   "source": [
    "##  <a id=\"sentinel_5p\"></a>Copernicus Sentinel-5 Precursor (Sentinel-5P)"
   ]
  },
  {
   "cell_type": "markdown",
   "metadata": {
    "Collapsed": "false"
   },
   "source": [
    "[Sentinel-5 Precursor (Sentinel-5P)](https://sentinels.copernicus.eu/web/sentinel/missions/sentinel-5p) is the first Copernicus mission dedicated to monitoring our atmosphere. The satellite carries the state-of-the-art Tropomi instrument to map a multitude of trace gases. Information from Sentinel-5P will be used through the [Copernicus Atmospheric Monitoring Service](https://atmosphere.copernicus.eu/charts/cams/) for air quality forecasts and decision-making.\n",
    "\n",
    "Sentinel-5P was developed to reduce data gaps between the Envisat satellite - in particular the Sciamachy instrument - and the launch of Sentinel-5, and to complement GOME-2 on MetOp. In the future, both the geostationary Sentinel-4 and polar-orbiting Sentinel-5 missions will monitor the composition of the atmosphere for Copernicus Atmosphere Services. Both missions will be carried on meteorological satellites operated by [Eumetsat](https://eumetsat.int)."
   ]
  },
  {
   "cell_type": "markdown",
   "metadata": {
    "Collapsed": "false"
   },
   "source": [
    "### Available data products and trace gas information"
   ]
  },
  {
   "cell_type": "markdown",
   "metadata": {
    "Collapsed": "false"
   },
   "source": [
    "<span style=float:right><img src='./img/sentinel_5p_data_products.jpg' alt='Sentinel-5p data prodcuts' align='right' width='90%'></img></span>\n",
    "Data products from Sentinel-5P’s Tropomi instrument are distributed to users at two levels:\n",
    "* `Level-1B`: provides geo-located and radiometrically corrected top of the atmosphere Earth radiances in all spectral bands, as well as solar irradiances.\n",
    "* `Level-2`: provides atmospheric geophysical parameters.\n",
    "\n",
    "`Level-2` products are disseminated within three hours after sensing. This `near-real-time`(NRT) services disseminates the following products:\n",
    "* `Ozone`\n",
    "* `Sulphur dioxide`\n",
    "* `Nitrogen dioxide`\n",
    "* `Formaldehyde`\n",
    "* `Carbon monoxide`\n",
    "* `Vertical profiles of ozone` and\n",
    "* `Cloud / Aerosol distributions`\n",
    "\n",
    "`Level-1B` products are disseminated within 12 hours after sensing. \n",
    "\n",
    "`Methane`, `tropospheric ozone` and `corrected total nitrogen dioxide columns` are available withing 5 days after sensing.\n",
    "\n"
   ]
  },
  {
   "cell_type": "markdown",
   "metadata": {
    "Collapsed": "false"
   },
   "source": [
    "<br>"
   ]
  },
  {
   "cell_type": "markdown",
   "metadata": {
    "Collapsed": "false"
   },
   "source": [
    "### <a id=\"sentinel5p_access\"></a>How to access Sentinel-5P data"
   ]
  },
  {
   "cell_type": "markdown",
   "metadata": {
    "Collapsed": "false"
   },
   "source": [
    "Sentinel-5P data can be accessed via different dissemination channels. The data is accessible via the `Copernicus Open Access Hub` and `EUMETSAT's EUMETCast`."
   ]
  },
  {
   "cell_type": "markdown",
   "metadata": {
    "Collapsed": "false"
   },
   "source": [
    "#### Copernicus Open Access Hub"
   ]
  },
  {
   "cell_type": "markdown",
   "metadata": {
    "Collapsed": "false"
   },
   "source": [
    "Sentinel-5P data is available for browsing and downloading via the [Copernicus Open Access Hub](https://scihub.copernicus.eu/). The Copernicus Open Access Hub provides complete, free and open access to Sentinel-1, Sentinel-2, Sentinel-3 and Sentinel-5P data."
   ]
  },
  {
   "cell_type": "markdown",
   "metadata": {
    "Collapsed": "false"
   },
   "source": [
    "\n",
    "<div style='text-align:center;'>\n",
    "<figure><img src='./img/open_access_hub.png' alt='Sentinel-5p data products' align='middle' width='50%'/>\n",
    "    <figcaption><i>Interface of the Copernicus Open Access Hub and the Sentinel-5P Pre-Operations Data Hub</i></figcaption>\n",
    "</figure>\n",
    "</div>"
   ]
  },
  {
   "cell_type": "markdown",
   "metadata": {
    "Collapsed": "false"
   },
   "source": [
    "#### EUMETSAT's EUMETCast"
   ]
  },
  {
   "cell_type": "markdown",
   "metadata": {
    "Collapsed": "false"
   },
   "source": [
    "Since August 2019, Sentinel-5p `Level 1B` and `Level 2` are as well available on EUMETSAT's EUMETCast:\n",
    "* **Level 1B** products will be distributed on EUMETCast Terrestrial\n",
    "* **Level 2** products are distributed on EUMETCast Europe, High Volume Service Transponder 2 (HVS-2)\n",
    "\n",
    "Sentinel-5P data on EUMETCast can be accessed via [EUMETSAT's Earth Observation Portal (EOP)](https://eoportal.eumetsat.int/userMgmt/login.faces)."
   ]
  },
  {
   "cell_type": "markdown",
   "metadata": {
    "Collapsed": "false"
   },
   "source": [
    "<br>"
   ]
  },
  {
   "cell_type": "markdown",
   "metadata": {},
   "source": [
    "## <a id=\"cams\"></a>Copernicus Atmosphere Monitoring Service (CAMS)"
   ]
  },
  {
   "cell_type": "markdown",
   "metadata": {},
   "source": [
    "<span style=float:left><img src='./img/cams_logo_2.png' alt='Copernicus Atmosphere Monitoring Service' align='left' width='95%'></img></span>\n",
    "\n",
    "[The Copernicus Atmosphere Monitoring Service (CAMS)](https://atmosphere.copernicus.eu/) provides consistent and quality-controlled information related to `air pollution and health`, `solar energy`, `greenhouse gases` and `climate forcing`, everywhere in the world.\n",
    "\n",
    "CAMS is one of six services that form [Copernicus, the European Union's Earth observation programme](https://www.copernicus.eu/en).\n",
    "\n",
    "CAMS is implemented by the [European Centre for Medium-Range Weather Forecasts (ECMWF)](http://ecmwf.int/) on behalf of the European Commission. ECMWF is an independent intergovernmental organisation supported by 34 states. It is both a research institute and a 24/7 operational service, producing and disseminating numerical weather predictions to its member states. "
   ]
  },
  {
   "cell_type": "markdown",
   "metadata": {},
   "source": [
    "<br>"
   ]
  },
  {
   "cell_type": "markdown",
   "metadata": {},
   "source": [
    "### Available data products"
   ]
  },
  {
   "cell_type": "markdown",
   "metadata": {},
   "source": [
    "CAMS offers four different data product types:\n",
    "\n",
    "|<font size='+0.2'><center>[CAMS Global <br>Reanalysis](#cams_reanalysis)</center></font></img> | <font size='+0.2'><center>[CAMS Global Analyses <br>and Forecasts](#cams_an_fc)</center></font> | <img width=30><font size='+0.2'><center>[CAMS Global Fire Assimilation System (GFAS)](#cams_gfas)</center></font></img> | <img width=30><font size='+0.2'><center>[CAMS Greenhouse Gases Flux Inversions](#cams_greenhouse_flux)</center></font></img> |\n",
    "|-----|-----|------|------|\n",
    "<img src='./img/cams_reanalysis.png' alt='CAMS reanalysis' align='middle' width='100%'></img>|<img src='./img/cams_forecast.png' alt='CAMS Forecast' align='middle' width='100%'></img>|<img src='./img/cams_gfas.png' alt='CAMS GFAS' align='middle' width='100%'></img>|<img src='./img/cams_greenhouse_fluxes.png' alt='CAMS greenhous flux inversions' align='middle' width='100%'></img>|\n"
   ]
  },
  {
   "cell_type": "markdown",
   "metadata": {},
   "source": [
    "#### <a id=\"cams_reanalysis\"></a>CAMS Global Reanalysis"
   ]
  },
  {
   "cell_type": "markdown",
   "metadata": {},
   "source": [
    "CAMS reanalysis data set provides consistent information on aerosols and reactive gases from 2003 to 2017. CAMS global reanalysis dataset has a global horizontal resolution of approximately 80 km and a refined temporal resolution of 3 hours. CAMS reanalysis are available in GRIB and NetCDF format.\n",
    "\n",
    "| Parameter family | Time period | <img width=80>Spatial resolution</img> | Temporal resolution |\n",
    "| ---- | ----- | ----- | -----|\n",
    "| [CAMS global reanalysis of total aerosol optical depth<br> at multiple wavelengths](https://atmosphere.copernicus.eu/catalogue#/product/urn:x-wmo:md:int.ecmwf::copernicus:cams:prod:rean:black-carbon-aod_dust-aod_organic-carbon-aod_sea-salt-aod_sulphate-aod_total-aod_warning_multiple_species:pid469) |  2003-2017 | ~80km | 3-hourly |\n",
    "| [CAMS global reanalysis of aerosol concentrations](https://atmosphere.copernicus.eu/catalogue#/product/urn:x-wmo:md:int.ecmwf::copernicus:cams:prod:rean:black-carbon-concentration_dust-concentration_organic-carbon-concentration_pm1_pm10_pm2.5_sea-salt-concentration_sulfates-concentration_warning_multiple_species:pid467) | 2003-2017 | ~80km | 3-hourly |\n",
    "| [CAMS global reanalysis chemical species](https://atmosphere.copernicus.eu/catalogue#/product/urn:x-wmo:md:int.ecmwf::copernicus:cams:prod:rean:ald2_c10h16_c2h4_c2h5oh_c2h6_c2o3_c3h6_c3h8_c5h8_ch3coch3_ch3cocho_ch3o2_ch3oh_ch3ooh_ch4_co_dms_h2o2_hcho_hcooh_hno3_ho2_ho2no2_mcooh_msa_n2o5_nh2_nh3_nh4_no_no2_no3_no3_a_nox_o3_oh_ole_onit_pan_par_pb_rooh_ror_ra_so2_so4_warning_multiple_species:pid468) |  2003-2017 | ~80km | 3-hourly |"
   ]
  },
  {
   "cell_type": "markdown",
   "metadata": {},
   "source": [
    "#### <a id=\"cams_an_fc\"></a>CAMS Global analyses and forecasts"
   ]
  },
  {
   "cell_type": "markdown",
   "metadata": {},
   "source": [
    "CAMS daily global analyses and forecast data set provides daily global forecasts of atmospheric composition parameters up to five days in advance. CAMS analyses and forecast data are available in GRIB and NetCDF format. \n",
    "\n",
    "The forecast consists of 56 reactive trace gases in the troposphere, stratospheric ozone and five different types of aersol (desert dust, sea salt, organic matter, black carbon and sulphate).\n",
    "\n",
    "| Parameter family | Time period | <img width=80>Spatial resolution</img> | Forecast step |\n",
    "| ---- | ----- | ----- | -----|\n",
    "| CAMS global forecasts of aerosol optical depths | Jul 2012- 5 days in advance | ~40km | 3-hour |\n",
    "| CAMS global forecasts of aerosols | Jul 2012 - 5 days in advance | ~40km | 3-hour |\n",
    "| CAMS global forecasts of chemical species | Jul 2012- 5 days in advance | ~40km | 3-hour |\n",
    "| CAMS global forecasts of greenhouse gases | Jul 2012- 5 days in advance | ~9km | 3-hour |"
   ]
  },
  {
   "cell_type": "markdown",
   "metadata": {},
   "source": [
    "#### <a id=\"cams_gfas\"></a>CAMS Global Fire Assimiliation System (GFAS)"
   ]
  },
  {
   "cell_type": "markdown",
   "metadata": {},
   "source": [
    "CAMS GFAS assimilated fire radiative power (FRP) observations from satellite-based sensors to produce daily estimates of wildfire and biomass burning emissions. The GFAS output includes spatially gridded Fire Radiative Power (FRP), dry matter burnt and biomass burning emissions for a large set of chemical, greenhouse gas and aerosol species. CAMS GFAS data are available in GRIB and NetCDF data.\n",
    "\n",
    "A full list of CAMS GFAS parameters can be found in the [CAMS Global Fire Assimilation System (GFAS) data documentation](https://atmosphere.copernicus.eu/sites/default/files/2018-05/CAMS%20%20Global%20Fire%20Assimilation%20System%20%28GFAS%29%20data%20documentation.pdf).\n",
    "\n",
    "| Parameter family | Time period | <img width=80>Spatial resolution</img> | Temporal resolution |\n",
    "| ---- | ----- | ----- | ---- |\n",
    "| CAMS GFAS analysis surface parameters | Jan 2003 - present | ~11km | daily |\n",
    "| CAMS GFAS gridded satellite parameters | Jan 2003 - present | ~11km | daily |"
   ]
  },
  {
   "cell_type": "markdown",
   "metadata": {},
   "source": [
    "#### <a id=\"cams_greenhouse_flux\"></a>CAMS Greenhouse Gases Flux Inversions"
   ]
  },
  {
   "cell_type": "markdown",
   "metadata": {},
   "source": [
    "CAMS Greenhouse Gases Flux Inversion reanalysis describes the variations, in space and in time, of the surface sources and sinks (fluxes) of the three major greenhouse gases that are directly affected by human activities: `carbon dioxide (CO2)`, `methane (CH4)` and `nitrous oxide (N2O)`. CAMS Greenhouse Gases Flux data is available in GRIB and NetCDF format.\n",
    "\n",
    "| Parameter | Time period | <img width=80>Spatial resolution</img> | Frequency | Quantity |\n",
    "| ---- | ----- | ----- | ---- | -----|\n",
    "| Carbon Dioxide | Jan 1979 - Dec 2018 | ??? | 3 hourly<br>Monthly average | Concentration<br>Surface flux<br> Total colum |\n",
    "| Methane | Jan 1990 - Dec 2017 | ??? | 6-hourly<br>Daily average<br>Monthly average | Concentration<br>Surface flux<br>Total column\n",
    "| Nitrous Oxide | Jan 1995 - Dec 2017 | ???| 3-hourly<br>Monthly average | Concentration<br>Surface flux |"
   ]
  },
  {
   "cell_type": "markdown",
   "metadata": {},
   "source": [
    "<br>"
   ]
  },
  {
   "cell_type": "markdown",
   "metadata": {},
   "source": [
    "### How to access CAMS data"
   ]
  },
  {
   "cell_type": "markdown",
   "metadata": {},
   "source": [
    "CAMS data can be accessed in three different ways: `ECMWF data archive` and `CAMS data catalogue of data visualizations`. A more detailed description of the different data access platforms can be found [here](https://confluence.ecmwf.int/display/CKB/Access+to+CAMS+global+forecast+data)."
   ]
  },
  {
   "cell_type": "markdown",
   "metadata": {},
   "source": [
    "#### ECMWF data archive"
   ]
  },
  {
   "cell_type": "markdown",
   "metadata": {},
   "source": [
    "ECMWF's data archive is called Meteorological and Archival Retrieval System (MARS) and provides access to ECMWF Public Datasets. The following CAMS data can be accessed through the ECMWF MARS archive: `CAMS reanalysis`, `CAMS GFAS data` (older than one day), `CAMS global analyses and forecasts` (older than five days).\n",
    "\n",
    "The archive can be accessed in two ways: \n",
    "* via the [web interface](https://apps.ecmwf.int/datasets/) and \n",
    "* via the [ECMWF Web API](https://confluence.ecmwf.int/display/WEBAPI/Access+ECMWF+Public+Datasets).\n",
    "\n",
    "Subsequently, an example is shown how a MARS request can be executed within Python and data in either GRIB or netCDF can be downloaded on-demand."
   ]
  },
  {
   "cell_type": "markdown",
   "metadata": {},
   "source": [
    "#### 1. Register for an ECMWF user account"
   ]
  },
  {
   "cell_type": "markdown",
   "metadata": {},
   "source": [
    "- Self-register at https://apps.ecmwf.int/registration/\n",
    "- Login at https://apps.ecmwf.int/auth/login"
   ]
  },
  {
   "cell_type": "markdown",
   "metadata": {},
   "source": [
    "#### 2. Install the `ecmwfapi` python library"
   ]
  },
  {
   "cell_type": "markdown",
   "metadata": {},
   "source": [
    "`pip install ecmwf-api-client`"
   ]
  },
  {
   "cell_type": "markdown",
   "metadata": {},
   "source": [
    "#### 3. Retrieve your API key"
   ]
  },
  {
   "cell_type": "markdown",
   "metadata": {},
   "source": [
    "You can retrieve your API key at https://api.ecmwf.int/v1/key/. Add the `url`, `key` and `email` information, when you define the `ECMWFDataServer` (see below).\n"
   ]
  },
  {
   "cell_type": "markdown",
   "metadata": {},
   "source": [
    "#### 3. Execute a MARS request and download data as `netCDF` file"
   ]
  },
  {
   "cell_type": "markdown",
   "metadata": {},
   "source": [
    "Below, you see the principle of a `data retrieval` request. You can use the web interface to browse through the datasets. At the end, there is the option to let generate the `data retrieval` request for the API.\n",
    "\n",
    "Additionally, you can have a look here at some example requests for different CAMS parameters.\n",
    "\n",
    "**NOTE**: per default, ECMWF data is stored on a grid with longitudes going from 0 to 360 degrees. It can be reprojected to a regular geographic latitude-longitude grid, by setting the keyword argument `area` and `grid`. Per default, data is retrieved in `GRIB`. If you wish to retrieve the data in `netCDF`, you have to specify it by using the keyword argument `format`."
   ]
  },
  {
   "cell_type": "code",
   "execution_count": 6,
   "metadata": {},
   "outputs": [
    {
     "name": "stdout",
     "output_type": "stream",
     "text": [
      "2019-10-24 13:09:23 ECMWF API python library 1.5.4\n",
      "2019-10-24 13:09:23 ECMWF API at https://api.ecmwf.int/v1\n",
      "2019-10-24 13:09:26 Welcome Julia Wagemann\n",
      "2019-10-24 13:09:26 In case of problems, please check https://confluence.ecmwf.int/display/WEBAPI/Web+API+FAQ or contact servicedesk@ecmwf.int\n",
      "2019-10-24 13:09:27 Request submitted\n",
      "2019-10-24 13:09:27 Request id: 5db1866787e11c49d240730b\n",
      "2019-10-24 13:09:27 Request is submitted\n",
      "2019-10-24 13:09:28 Request is queued\n",
      "Calling 'nice mars /tmp/ac/a5/tmp-_mars7HgGy6.req'\n",
      "mars - WARN -\n",
      "mars - WARN - From 29 January 2019 10AM (UTC) MARS uses the interpolation\n",
      "mars - WARN - provided by the MIR library. For more details, see\n",
      "mars - WARN - https://confluence.ecmwf.int/display/UDOC/MARS+interpolation+with+MIR\n",
      "mars - WARN -\n",
      "PPDIR is /var/tmp/ppdir/x86_64\n",
      "mars - INFO   - 20191024.111206 - Welcome to MARS\n",
      "mars - INFO   - 20191024.111206 - MARS Client build stamp: 20190607111047\n",
      "mars - INFO   - 20191024.111206 - MARS Client version: 6.25.3\n",
      "mars - INFO   - 20191024.111206 - MIR version: 1.2.5\n",
      "mars - INFO   - 20191024.111206 - Using ecCodes version 2.12.6\n",
      "mars - INFO   - 20191024.111206 - Using odb_api version: 0.15.10 (file format version: 0.5)\n",
      "mars - INFO   - 20191024.111206 - Maximum retrieval size is 30.00 G\n",
      "retrieve,stream=oper,area=90/-180/-90/180,levtype=sfc,param=210.210,padding=0,step=3,grid=0.4/0.4,expver=0001,time=00:00:00,date=2019-06-03/to/2019-06-03,type=fc,class=mcmars - INFO   - 20191024.111206 - Automatic split by date is on\n",
      "\n",
      "mars - INFO   - 20191024.111206 - Processing request 1\n",
      "\n",
      "RETRIEVE,\n",
      "    CLASS      = MC,\n",
      "    TYPE       = FC,\n",
      "    STREAM     = OPER,\n",
      "    EXPVER     = 0001,\n",
      "    REPRES     = SH,\n",
      "    LEVTYPE    = SFC,\n",
      "    PARAM      = 210.210,\n",
      "    TIME       = 0000,\n",
      "    STEP       = 3,\n",
      "    DOMAIN     = G,\n",
      "    RESOL      = AUTO,\n",
      "    AREA       = 90/-180/-90/180,\n",
      "    GRID       = 0.4/0.4,\n",
      "    PADDING    = 0,\n",
      "    DATE       = 20190603\n",
      "\n",
      "mars - INFO   - 20191024.111206 - Web API request id: 5db1866787e11c49d240730b\n",
      "mars - INFO   - 20191024.111206 - Requesting 1 field\n",
      "mars - INFO   - 20191024.111206 - Calling mars on 'marser', callback on 51277\n",
      "2019-10-24 13:12:08 Request is active\n",
      "mars - INFO   - 20191024.111217 - Server task is 582 [marser]\n",
      "mars - INFO   - 20191024.111217 - Request cost: 1 field, 1022.18 Kbytes online, nodes: mvr05 [marser]\n",
      "mars - INFO   - 20191024.111217 - Transfering 1046716 bytes\n",
      "mars - INFO   - 20191024.111217 - 1 field retrieved from 'marser'\n",
      "mars - INFO   - 20191024.111217 - 1 field has been interpolated\n",
      "mars - INFO   - 20191024.111217 - Request time:  wall: 11 sec\n",
      "mars - INFO   - 20191024.111217 -   Read from network: 1022.18 Kbyte(s) in < 1 sec [34.67 Mbyte/sec]\n",
      "mars - INFO   - 20191024.111217 -   Processing in marser: wall: 11 sec\n",
      "mars - INFO   - 20191024.111217 -   Visiting marser: wall: 11 sec\n",
      "mars - INFO   - 20191024.111217 -   Writing to target file: 1.16 Mbyte(s) in < 1 sec [843.42 Mbyte/sec]\n",
      "mars - INFO   - 20191024.111217 - Memory used: 68.20 Mbyte(s)\n",
      "mars - INFO   - 20191024.111217 - No errors reported\n",
      "Process '['nice', 'mars', '/tmp/ac/a5/tmp-_mars7HgGy6.req']' finished\n",
      "Calling 'nice grib_to_netcdf /data/data04/scratch/c3/c4/_mars-atls02-a562cefde8a29a7288fa0b8b7f9413f7-x5LHss.grib -o /data/data01/scratch/dd/93/_grib2netcdf-atls00-95e2cf679cd58ee9b4db4dd119a05a8d-T1fhqQ.nc -utime'\n",
      "grib_to_netcdf: Version 2.13.0\n",
      "grib_to_netcdf: Processing input file '/data/data04/scratch/c3/c4/_mars-atls02-a562cefde8a29a7288fa0b8b7f9413f7-x5LHss.grib'.\n",
      "grib_to_netcdf: Found 1 GRIB field in 1 file.\n",
      "grib_to_netcdf: Ignoring key(s): method, type, stream, refdate, hdate\n",
      "grib_to_netcdf: Creating netCDF file '/data/data01/scratch/dd/93/_grib2netcdf-atls00-95e2cf679cd58ee9b4db4dd119a05a8d-T1fhqQ.nc'\n",
      "grib_to_netcdf: NetCDF library version: 4.4.1.1 of Mar 14 2018 13:48:26 $\n",
      "grib_to_netcdf: Creating large (64 bit) file format.\n",
      "grib_to_netcdf: Defining variable 'omaod550'.\n",
      "grib_to_netcdf: Done.\n",
      "Process '['nice', 'grib_to_netcdf', '/data/data04/scratch/c3/c4/_mars-atls02-a562cefde8a29a7288fa0b8b7f9413f7-x5LHss.grib', '-o', '/data/data01/scratch/dd/93/_grib2netcdf-atls00-95e2cf679cd58ee9b4db4dd119a05a8d-T1fhqQ.nc', '-utime']' finished\n",
      "2019-10-24 13:12:19 Request is complete\n",
      "2019-10-24 13:12:19 Transfering 799.07 Kbytes into test.nc\n",
      "2019-10-24 13:12:19 From https://stream.ecmwf.int/data/atls00/data/data01/scratch/dd/93/_grib2netcdf-atls00-95e2cf679cd58ee9b4db4dd119a05a8d-T1fhqQ.nc\n",
      "2019-10-24 13:12:20 Transfer rate 1.20448 Mbytes/s\n"
     ]
    }
   ],
   "source": [
    "#!/usr/bin/env python\n",
    "from ecmwfapi import ECMWFDataServer\n",
    "server = ECMWFDataServer(url=\"https://api.ecmwf.int/v1\", key=\"6fa88ae2cf8c30e6b688fd565a95b05c\", email=\"julia.wagemann@ecmwf.int\")\n",
    "\n",
    "# Retrieve data in NetCDF format\n",
    "\n",
    "\n",
    "server.retrieve({\n",
    "    \"class\": \"mc\",\n",
    "    \"dataset\": \"cams_nrealtime\",\n",
    "    \"date\": \"2019-06-03/to/2019-06-03\",\n",
    "    \"expver\": \"0001\",\n",
    "    \"levtype\": \"sfc\",\n",
    "    \"param\": \"210.210\",\n",
    "    \"step\": \"3\",\n",
    "    \"stream\": \"oper\",\n",
    "    \"time\": \"00:00:00\",\n",
    "    \"type\": \"fc\",\n",
    "    \"format\": \"netcdf\",\n",
    "    \"area\": \"90/-180/-90/180\",\n",
    "    \"grid\": \"0.4/0.4\",\n",
    "    \"target\": \"test.nc\"\n",
    "})"
   ]
  },
  {
   "cell_type": "markdown",
   "metadata": {},
   "source": [
    "#### CAMS data catalogue of data visualizations"
   ]
  },
  {
   "cell_type": "markdown",
   "metadata": {},
   "source": [
    "CAMS provides an extensive [catalogue of data visualizations](https://atmosphere.copernicus.eu/data) in the form of maps and charts. Maps and charts are updated daily and are available for selected parameters of `CAMS daily analyses and forecasts`."
   ]
  },
  {
   "cell_type": "markdown",
   "metadata": {},
   "source": [
    "<br>"
   ]
  },
  {
   "cell_type": "markdown",
   "metadata": {
    "Collapsed": "false"
   },
   "source": [
    "## Further information"
   ]
  },
  {
   "cell_type": "markdown",
   "metadata": {
    "Collapsed": "false"
   },
   "source": [
    "* [EUMETSAT AC SAF - The EUMETSAT Application Facility on Atmospheric Composition Monitoring](https://acsaf.org/index.html)\n",
    "* [AC SAF Data policy](https://acsaf.org/data_policy.html)\n",
    "* [AC SAF Algorithm Theoretical Basis Documents (atbds)](https://acsaf.org/atbds.html)\n",
    "\n",
    "\n",
    "* [DLR's ATMOS webserver](https://atmos.eoc.dlr.de/app/missions/gome2)\n",
    "* [TEMIS - Tropospheric Emission Monitoring Internet Service](http://temis.nl/index.php)\n",
    "\n",
    "\n",
    "* [Copernicus Open Access Hub](https://scihub.copernicus.eu/)\n",
    "* [EUMETSAT Earth Observation Portal](https://eoportal.eumetsat.int/userMgmt/login.faces)\n",
    "* [Senintel-5P Mission information](https://sentinels.copernicus.eu/web/sentinel/missions/sentinel-5p)\n",
    "\n",
    "\n",
    "* [Copernicus Atmosphere Monitoring Service](https://atmosphere.copernicus.eu/)\n",
    "* [ECMWF Web Interface](https://apps.ecmwf.int/datasets/)\n",
    "* [ECMWF Web API](https://confluence.ecmwf.int/display/WEBAPI/Access+ECMWF+Public+Datasets)\n",
    "* [CAMS catalogue of data visualizations](https://atmosphere.copernicus.eu/data)\n",
    "* [CAMS Service Product Portfolio](https://atmosphere.copernicus.eu/sites/default/files/2018-12/CAMS%20Service%20Product%20Portfolio%20-%20July%202018.pdf)"
   ]
  },
  {
   "cell_type": "markdown",
   "metadata": {},
   "source": [
    "<br>"
   ]
  },
  {
   "cell_type": "markdown",
   "metadata": {},
   "source": [
    "<a href=\"./index.ipynb\"><< Index</a><span style=\"float:right;\"><a href=\"./211_ltpy_v01_AC_SAF_L2_data.ipynb\">211 - AC SAF Near-real time (NRT) and Offline Level 2 products >></a></span>"
   ]
  },
  {
   "cell_type": "markdown",
   "metadata": {
    "Collapsed": "false"
   },
   "source": [
    "<hr>"
   ]
  },
  {
   "cell_type": "markdown",
   "metadata": {
    "Collapsed": "false"
   },
   "source": [
    "<p style=\"text-align:left;\">This project is licensed under the <a href=\"./LICENSE\">MIT License</a> <span style=\"float:right;\"><a href=\"https://gitlab.eumetsat.int/eo-lab/training-atmospheric-composition/\">View on GitLab</a> | <a href=\"https://training.eumetsat.int/\">EUMETSAT Training</a> | <a href=mailto:training@eumetsat.int>Contact</a></span></p>"
   ]
  }
 ],
 "metadata": {
  "kernelspec": {
   "display_name": "Python 3",
   "language": "python",
   "name": "python3"
  },
  "language_info": {
   "codemirror_mode": {
    "name": "ipython",
    "version": 3
   },
   "file_extension": ".py",
   "mimetype": "text/x-python",
   "name": "python",
   "nbconvert_exporter": "python",
   "pygments_lexer": "ipython3",
   "version": "3.7.0"
  },
  "toc": {
   "base_numbering": 1,
   "nav_menu": {},
   "number_sections": false,
   "sideBar": true,
   "skip_h1_title": false,
   "title_cell": "Table of Contents",
   "title_sidebar": "Contents",
   "toc_cell": false,
   "toc_position": {
    "height": "339px",
    "left": "1488px",
    "top": "141px",
    "width": "538px"
   },
   "toc_section_display": true,
   "toc_window_display": false
  },
  "toc-showcode": false,
  "toc-showtags": false
 },
 "nbformat": 4,
 "nbformat_minor": 4
}
