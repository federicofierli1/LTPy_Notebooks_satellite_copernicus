{
 "cells": [
  {
   "cell_type": "markdown",
   "metadata": {},
   "source": [
    "<img src='./img/EU-Copernicus-EUM_3Logos.png' alt='Logo EU Copernicus EUMETSAT' align='right' width='50%'></img>"
   ]
  },
  {
   "cell_type": "markdown",
   "metadata": {},
   "source": [
    "<br>"
   ]
  },
  {
   "cell_type": "markdown",
   "metadata": {},
   "source": [
    "<a href=\"./341_ltpy_Ozone_hole_case_study.ipynb\"><< 341 - 2019 Antarctic ozone hole case study </a><span style=\"float:right;\"><a href=\"./index_ltpy.ipynb\">Index >></a></span>"
   ]
  },
  {
   "cell_type": "markdown",
   "metadata": {},
   "source": [
    "# 3.4.2  Ozone hole case study - CAMS animation"
   ]
  },
  {
   "cell_type": "markdown",
   "metadata": {},
   "source": [
    "This notebook gives an example how `Copernicus Atmosphere Monitoring Service (CAMS)` Near-Realtime forecast data can be animated.\n",
    "\n",
    "The example makes use of matplotlib's function `animation` and Jupyter notebooks function `HTML` to display HTML and video content within the notebook."
   ]
  },
  {
   "cell_type": "markdown",
   "metadata": {},
   "source": [
    "#### Load required libraries"
   ]
  },
  {
   "cell_type": "code",
   "execution_count": null,
   "metadata": {},
   "outputs": [],
   "source": [
    "import xarray as xr\n",
    "import matplotlib.pyplot as plt\n",
    "from matplotlib import animation\n",
    "\n",
    "from IPython.display import HTML\n",
    "import cartopy\n",
    "import cartopy.crs as ccrs\n",
    "from cartopy.mpl.gridliner import LONGITUDE_FORMATTER, LATITUDE_FORMATTER\n",
    "\n",
    "from matplotlib.axes import Axes\n",
    "from cartopy.mpl.geoaxes import GeoAxes"
   ]
  },
  {
   "cell_type": "markdown",
   "metadata": {},
   "source": [
    "#### Load helper functions"
   ]
  },
  {
   "cell_type": "code",
   "execution_count": null,
   "metadata": {},
   "outputs": [],
   "source": [
    "from ipynb.fs.full.ltpy_functions import visualize_s5p_pcolormesh"
   ]
  },
  {
   "cell_type": "markdown",
   "metadata": {},
   "source": [
    "<hr>"
   ]
  },
  {
   "cell_type": "markdown",
   "metadata": {},
   "source": [
    "#### Load CAMS Near-real time for 10 September 2019"
   ]
  },
  {
   "cell_type": "markdown",
   "metadata": {},
   "source": [
    "You can load the `CAMS Near-Real Time forecast` data with xarray's function `xr.open_dataset`. The example data has three dimensions, `latitude`, `longitude` and `time`. You can also see that the forecast data has 6 time steps, the initial run and 5 forecast days respectively."
   ]
  },
  {
   "cell_type": "code",
   "execution_count": null,
   "metadata": {},
   "outputs": [],
   "source": [
    "cams_fc = './eodata/cams/nrt/o3/2019/09/10/20190910_o3_fc.nc'\n",
    "cams_fc_xr = xr.open_dataset(cams_fc)\n",
    "cams_fc_xr"
   ]
  },
  {
   "cell_type": "markdown",
   "metadata": {},
   "source": [
    "#### Load the ozone data variable as `DataArray`"
   ]
  },
  {
   "cell_type": "markdown",
   "metadata": {},
   "source": [
    "`gtco3` is the variable name you would like to load as `Data Array`. You see that the data is disseminated in `kg m**-2` as unit."
   ]
  },
  {
   "cell_type": "code",
   "execution_count": null,
   "metadata": {},
   "outputs": [],
   "source": [
    "cams_o3 = cams_fc_xr['gtco3']\n",
    "cams_o3"
   ]
  },
  {
   "cell_type": "markdown",
   "metadata": {},
   "source": [
    "#### Convert from `kg m**-2` to `Dobson Unit`"
   ]
  },
  {
   "cell_type": "markdown",
   "metadata": {},
   "source": [
    "Ozone data are often represented in `Dobson Unit`. Thus, with the factor `2.1415*1e-5`, you can easily convert from `kg m**-2` to `Dobson Unit`."
   ]
  },
  {
   "cell_type": "code",
   "execution_count": null,
   "metadata": {},
   "outputs": [],
   "source": [
    "cams_o3_du = cams_o3 / (2.1415*1e-5)\n",
    "cams_o3_du"
   ]
  },
  {
   "cell_type": "markdown",
   "metadata": {},
   "source": [
    "#### Animate the total column ozone over the 5 day forecast"
   ]
  },
  {
   "cell_type": "markdown",
   "metadata": {},
   "source": [
    "The animation function consists of 4 parts:\n",
    "- **Setting the initial state:**<br>\n",
    " Here, you define the general plot your animation shall use to initialise the animation. You can also define the number of frames (time steps) your animation shall have\n",
    " \n",
    " \n",
    "- **Functions to animate:**<br>\n",
    " An animation consists of three functions: `draw()`, `init()` and `animate()`. `draw()` is the function where individual frames are passed on and the figure is returned as image. In this example, the function redraws the plot for each time step. `init()` returns the figure you defined for the initial state. `animate()` returns the `draw()` function and animates the function over the given number of frames (time steps).\n",
    " \n",
    " \n",
    "- **Create a `animate.FuncAnimation` object:** <br>\n",
    " The functions defined before are now combined to build an `animate.FuncAnimation` object.\n",
    " \n",
    " \n",
    "- **Play the animation as video:**<br>\n",
    " As a final step, you can integrate the animation into the notebook with the `HTML` class. You take the generate animation object and convert it to a HTML5 video with the `to_html5_video` function"
   ]
  },
  {
   "cell_type": "code",
   "execution_count": null,
   "metadata": {},
   "outputs": [],
   "source": [
    "# Setting the initial state:\n",
    "# 1. Define figure for initial plot\n",
    "fig, ax = visualize_s5p_pcolormesh(cams_o3_du[0,:,:],cams_o3_du.longitude, cams_o3_du.latitude,ccrs.Orthographic(180,-90), \n",
    "                        'jet', 'DU',cams_o3.long_name + ' '+ str(cams_o3_du.time[0].data), 100,600, -180, 179.6, -90. , 90., log=False,set_global=True)\n",
    "\n",
    "frames = 6\n",
    "\n",
    "def draw(i):\n",
    "    img = plt.pcolormesh(cams_o3_du.longitude, cams_o3_du.latitude, cams_o3_du[i,:,:], \n",
    "                        cmap='jet', transform=ccrs.PlateCarree(),\n",
    "                        vmin=100,\n",
    "                        vmax=600)\n",
    "    ax.set_title(cams_o3.long_name + ' '+ str(cams_o3_du.time[i].data), fontsize=20, pad=20.0)\n",
    "    return img\n",
    "\n",
    "\n",
    "def init():\n",
    "    return fig\n",
    "\n",
    "\n",
    "def animate(i):\n",
    "    return draw(i)\n",
    "\n",
    "ani = animation.FuncAnimation(fig, animate, frames, interval=800, blit=False,\n",
    "                              init_func=init, repeat=True)\n",
    "\n",
    "HTML(ani.to_html5_video())\n",
    "plt.close(fig)\n"
   ]
  },
  {
   "cell_type": "markdown",
   "metadata": {},
   "source": [
    "#### Play the animation as HTML5 video"
   ]
  },
  {
   "cell_type": "code",
   "execution_count": null,
   "metadata": {},
   "outputs": [],
   "source": [
    "HTML(ani.to_html5_video())"
   ]
  },
  {
   "cell_type": "markdown",
   "metadata": {},
   "source": [
    "<br>"
   ]
  },
  {
   "cell_type": "markdown",
   "metadata": {},
   "source": [
    "<a href=\"./341_ltpy_Ozone_hole_case_study.ipynb\"><< 341 - 2019 Antarctic ozone hole case study </a><span style=\"float:right;\"><a href=\"./index_ltpy.ipynb\">Index >></a></span>"
   ]
  },
  {
   "cell_type": "markdown",
   "metadata": {},
   "source": [
    "<hr>"
   ]
  },
  {
   "cell_type": "markdown",
   "metadata": {},
   "source": [
    "<p style=\"text-align:left;\">This project is licensed under the <a href=\"./LICENSE\">MIT License</a> <span style=\"float:right;\"><a href=\"https://gitlab.eumetsat.int/eumetlab/atmosphere/atmosphere\">View on GitLab</a> | <a href=\"https://training.eumetsat.int/\">EUMETSAT Training</a> | <a href=mailto:training@eumetsat.int>Contact</a></span></p>"
   ]
  }
 ],
 "metadata": {
  "kernelspec": {
   "display_name": "Python 3",
   "language": "python",
   "name": "python3"
  },
  "language_info": {
   "codemirror_mode": {
    "name": "ipython",
    "version": 3
   },
   "file_extension": ".py",
   "mimetype": "text/x-python",
   "name": "python",
   "nbconvert_exporter": "python",
   "pygments_lexer": "ipython3",
   "version": "3.7.3"
  }
 },
 "nbformat": 4,
 "nbformat_minor": 2
}
