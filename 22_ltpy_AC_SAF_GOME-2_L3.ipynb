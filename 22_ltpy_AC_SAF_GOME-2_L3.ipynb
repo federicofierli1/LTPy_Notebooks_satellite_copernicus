{
 "cells": [
  {
   "cell_type": "markdown",
   "metadata": {
    "Collapsed": "false"
   },
   "source": [
    "<img src='./img/EU-Copernicus-EUM_3Logos.png' alt='Logo EU Copernicus EUMETSAT' align='right' width='50%'></img>"
   ]
  },
  {
   "cell_type": "markdown",
   "metadata": {
    "Collapsed": "false"
   },
   "source": [
    "<br>"
   ]
  },
  {
   "cell_type": "markdown",
   "metadata": {
    "Collapsed": "false"
   },
   "source": [
    "<a href=\"./213_ltpy_IASI_L2_load_browse.ipynb\"><< 213 - IASI - Level 2 - Load and browse </a><span style=\"float:right;\"><a href=\"./23_ltpy_Sentinel5p_L2_data.ipynb\">23 - Copernicus Sentinel-5 Precursor (Sentinel-5P) >></a></span>"
   ]
  },
  {
   "cell_type": "markdown",
   "metadata": {
    "Collapsed": "false"
   },
   "source": [
    "# 2.2 AC SAF - GOME-2 - Data records (Level 3 products)"
   ]
  },
  {
   "cell_type": "markdown",
   "metadata": {
    "Collapsed": "false"
   },
   "source": [
    "AC SAF GOME-2 data records are monthly aggregated products (Level 3), regridded onto a regular latitude longitude grid. Data records are disseminated in the data format `netCDF`. \n",
    "\n",
    "Data records are processed for three parameters:\n",
    "\n",
    "* `tropospheric ozone column`, \n",
    "* `total and tropospheric nitrogen dioxide column`, and \n",
    "* `total water vapour column`.\n",
    "\n",
    "This notebook guides you through how the data can be loaded and gives basic plotting examples."
   ]
  },
  {
   "cell_type": "markdown",
   "metadata": {
    "Collapsed": "false"
   },
   "source": [
    "#### Module outline:\n",
    "* [1 - Load and browse AC SAF GOME-2 data records](#load_l3)\n",
    "* [2 - Plotting example of AC SAF GOME-2 Level 3 data](#plotting)"
   ]
  },
  {
   "cell_type": "markdown",
   "metadata": {
    "Collapsed": "false"
   },
   "source": [
    "#### Load required libraries"
   ]
  },
  {
   "cell_type": "code",
   "execution_count": null,
   "metadata": {
    "Collapsed": "false"
   },
   "outputs": [],
   "source": [
    "import os\n",
    "from netCDF4 import Dataset\n",
    "import xarray as xr\n",
    "import numpy as np\n",
    "import pandas as pd\n",
    "import datetime\n",
    "\n",
    "# Python libraries for visualisation\n",
    "from matplotlib import pyplot as plt\n",
    "import cartopy.crs as ccrs\n",
    "from cartopy.mpl.gridliner import LONGITUDE_FORMATTER, LATITUDE_FORMATTER"
   ]
  },
  {
   "cell_type": "markdown",
   "metadata": {
    "Collapsed": "false"
   },
   "source": [
    "<hr>"
   ]
  },
  {
   "cell_type": "markdown",
   "metadata": {
    "Collapsed": "false"
   },
   "source": [
    "## <a id=\"load_l3\"></a>Load and browse AC SAF data records"
   ]
  },
  {
   "cell_type": "markdown",
   "metadata": {
    "Collapsed": "false"
   },
   "source": [
    "[NetCDF4](https://unidata.github.io/netcdf4-python/netCDF4/index.html) and [xarray](http://xarray.pydata.org/en/stable/) are two Python libraries to load and browse data who are disseminated in the `NetCDF` format."
   ]
  },
  {
   "cell_type": "markdown",
   "metadata": {
    "Collapsed": "false"
   },
   "source": [
    "### Open NetCDF files with the `NetCDF4` library"
   ]
  },
  {
   "cell_type": "markdown",
   "metadata": {
    "Collapsed": "false"
   },
   "source": [
    "#### Open one individual file with `NetCDF4`"
   ]
  },
  {
   "cell_type": "markdown",
   "metadata": {
    "Collapsed": "false"
   },
   "source": [
    "A NetCDF file can simply be loaded with the `Dataset` constructor of the NetCDF4 library."
   ]
  },
  {
   "cell_type": "code",
   "execution_count": null,
   "metadata": {
    "Collapsed": "false"
   },
   "outputs": [],
   "source": [
    "dataset = Dataset('./eodata/gome2/level3/o3tropo/GOME_O3tropo_Tropics_201801_METOPA_DLR_v1.1.nc', format='NETCDF4')\n",
    "dataset"
   ]
  },
  {
   "cell_type": "markdown",
   "metadata": {
    "Collapsed": "false"
   },
   "source": [
    "<br>"
   ]
  },
  {
   "cell_type": "markdown",
   "metadata": {
    "Collapsed": "false"
   },
   "source": [
    "The dataset object contains information about the general data structure of the dataset. We see that the variables of AC SAF data records are organised in `groups`, which is analogous to directories in a filesystem. \n",
    "\n",
    "In order to see which variables are available in the dataset, we have to select the `PRODUCT` group of our dataset object."
   ]
  },
  {
   "cell_type": "code",
   "execution_count": null,
   "metadata": {
    "Collapsed": "false"
   },
   "outputs": [],
   "source": [
    "dataset.groups['PRODUCT']"
   ]
  },
  {
   "cell_type": "markdown",
   "metadata": {
    "Collapsed": "false"
   },
   "source": [
    "<br>"
   ]
  },
  {
   "cell_type": "markdown",
   "metadata": {
    "Collapsed": "false"
   },
   "source": [
    "The file contains five variables: \n",
    "* (1) `tropospheric_O`<sub>`3`</sub>, \n",
    "* (2) `tropospheric_O`<sub>`3`</sub>`_std`, \n",
    "* (3) `tropospheric_O`<sub>`3`</sub>`_number`, \n",
    "* (4) `tropospheric_O`<sub>`3`</sub>`_mixingratio` and \n",
    "* (5) `tropospheric_O`<sub>`3`</sub>`_mixingratio_std`\n",
    "\n",
    "You can specify one variable of interest and get more detailed information about the variable. E.g. `tropospheric_O3` is the average column tropopshere mole content of ozone, has the unit DU, which stands for Dobson Unit and is a 2D variable on a latitude longitude grid."
   ]
  },
  {
   "cell_type": "code",
   "execution_count": null,
   "metadata": {
    "Collapsed": "false"
   },
   "outputs": [],
   "source": [
    "dataset.groups['PRODUCT']['tropospheric_O3']"
   ]
  },
  {
   "cell_type": "markdown",
   "metadata": {
    "Collapsed": "false"
   },
   "source": [
    "If you want to access the data values, you can retrieve it by indicating `[:]` - that means that you want to access the data array directly. You can do this for the variables, but also for the dimensions `latitude` and `longitude`.\n",
    "\n",
    "You see that the `latitude` coordinates range between 19.375 N and -19.375 S and the `longitude` coordinates range between -178.75 W to 178.75 E."
   ]
  },
  {
   "cell_type": "code",
   "execution_count": null,
   "metadata": {
    "Collapsed": "false"
   },
   "outputs": [],
   "source": [
    "o3 = dataset.groups['PRODUCT']['tropospheric_O3']\n",
    "lat = dataset['latitude'][:]\n",
    "lon = dataset['longitude'][:]\n",
    "\n",
    "o3, lat, lon"
   ]
  },
  {
   "cell_type": "markdown",
   "metadata": {
    "Collapsed": "false"
   },
   "source": [
    "<br>"
   ]
  },
  {
   "cell_type": "markdown",
   "metadata": {
    "Collapsed": "false"
   },
   "source": [
    "### Open NetCDF files with `xarray`"
   ]
  },
  {
   "cell_type": "markdown",
   "metadata": {
    "Collapsed": "false"
   },
   "source": [
    "#### Open one individual file with `xarray`"
   ]
  },
  {
   "cell_type": "markdown",
   "metadata": {
    "Collapsed": "false"
   },
   "source": [
    "By using xarray's `open_dataset()` function, a `netCDF` file can be loaded to create a new xarray `Dataset`. You can have a look at the resulting `Dataset` and the `latitude` and `longitude` coordinates."
   ]
  },
  {
   "cell_type": "code",
   "execution_count": null,
   "metadata": {
    "Collapsed": "false"
   },
   "outputs": [],
   "source": [
    "ds = xr.open_dataset('./eodata/gome2/level3/no2/GOME_NO2_Global_201701_METOPB_DLR_v1.nc')\n",
    "ds, ds.latitude, ds.longitude"
   ]
  },
  {
   "cell_type": "markdown",
   "metadata": {
    "Collapsed": "false"
   },
   "source": [
    "<br>"
   ]
  },
  {
   "cell_type": "markdown",
   "metadata": {
    "Collapsed": "false"
   },
   "source": [
    "You see that the `data variable` section is empty. This is due to the internal structure of the AC SAF GOME-2 Level 3 data. The data is organised in groups within the `netCDF` file. To load from a group, you have to pass the `group` keyword to the `open_dataset()` function. \n",
    "\n",
    "You can see that the `Dataset` contains six data variables:\n",
    "\n",
    "* (1) `NO2total`, \n",
    "* (2) `NO2total_err`, \n",
    "* (3) `NO2total_stddev`, \n",
    "* (4) `NO2trop`,\n",
    "* (5) `NO2trop_err`,\n",
    "* (6) `NO2trop_stddev`\n",
    "\n",
    "However, `latitude` and `longitude` do not contain any coordinates."
   ]
  },
  {
   "cell_type": "code",
   "execution_count": null,
   "metadata": {
    "Collapsed": "false"
   },
   "outputs": [],
   "source": [
    "no2 = xr.open_dataset('./eodata/gome2/level3/no2/GOME_NO2_Global_201701_METOPB_DLR_v1.nc', group='PRODUCT')\n",
    "no2, no2.latitude, no2.longitude"
   ]
  },
  {
   "cell_type": "markdown",
   "metadata": {
    "Collapsed": "false"
   },
   "source": [
    "<br>"
   ]
  },
  {
   "cell_type": "markdown",
   "metadata": {
    "Collapsed": "false"
   },
   "source": [
    "You can use the xarray function `assign_coords` to assign the coordinate values from your dataset to the dimensions of your group dataset."
   ]
  },
  {
   "cell_type": "code",
   "execution_count": null,
   "metadata": {
    "Collapsed": "false"
   },
   "outputs": [],
   "source": [
    "no2_assigned = no2.assign_coords(latitude=ds.latitude, longitude=ds.longitude)\n",
    "no2_assigned.NO2trop"
   ]
  },
  {
   "cell_type": "markdown",
   "metadata": {
    "Collapsed": "false"
   },
   "source": [
    "<br>"
   ]
  },
  {
   "cell_type": "markdown",
   "metadata": {
    "Collapsed": "false"
   },
   "source": [
    "#### Open multiple netCDF files with `xarray`"
   ]
  },
  {
   "cell_type": "markdown",
   "metadata": {
    "Collapsed": "false"
   },
   "source": [
    "xarray's `open_mfdataset` function is very useful to load multiple netCDF files simultaneously. This function automatically concatenates and merges multiple files into a single xarray dataset. The behaviour of `open_mfdataset` is the same as the one of `open_dataset`. In order to access the dataset variables, you have to specify the `group` parameter. \n",
    "\n",
    "Additionally, if the dimension one want to concatenate the individual files is not defined in the original dataset, a new dimension can be defined by specifying the `concat_dim` key."
   ]
  },
  {
   "cell_type": "code",
   "execution_count": null,
   "metadata": {
    "Collapsed": "false"
   },
   "outputs": [],
   "source": [
    "mf_dataset = xr.open_mfdataset('./eodata/gome2/level3/no2/*.nc', concat_dim='time', combine='nested',  group='PRODUCT')\n",
    "mf_dataset"
   ]
  },
  {
   "cell_type": "markdown",
   "metadata": {
    "Collapsed": "false"
   },
   "source": [
    "<br>"
   ]
  },
  {
   "cell_type": "markdown",
   "metadata": {
    "Collapsed": "false"
   },
   "source": [
    "The resulting `Dataset` has three dimensions (`latitude`, `longitude` and `time`). With `assign_coords` you can assign the right coordinate values to the dimensions. You can use again the `ds` Dataset you defined at the beginning. \n",
    "\n",
    "With the help of Python's [pandas](https://pandas.pydata.org/) library, you can create efficiently a list of monthly time values, which can be assigned to the time dimension."
   ]
  },
  {
   "cell_type": "code",
   "execution_count": null,
   "metadata": {
    "Collapsed": "false"
   },
   "outputs": [],
   "source": [
    "# Build list of time coordinates with pandas\n",
    "time_coords = pd.date_range('2007-02', '2017-11', freq='MS').strftime(\"%Y-%m\").tolist()\n",
    "\n",
    "# Assign values to Dataset dimension\n",
    "mf_dataset_assigned = mf_dataset.assign_coords(latitude=ds.latitude, longitude=ds.longitude, time=time_coords)\n",
    "mf_dataset_assigned"
   ]
  },
  {
   "cell_type": "markdown",
   "metadata": {
    "Collapsed": "false"
   },
   "source": [
    "<br>"
   ]
  },
  {
   "cell_type": "markdown",
   "metadata": {
    "Collapsed": "false"
   },
   "source": [
    "## <a id=\"plotting\"></a>Plotting example of AC SAF GOME-2 Level 3 data"
   ]
  },
  {
   "cell_type": "markdown",
   "metadata": {
    "Collapsed": "false"
   },
   "source": [
    "### Plot `Dataset NetCDF` library object with `matplotlib` and `cartopy`"
   ]
  },
  {
   "cell_type": "markdown",
   "metadata": {
    "Collapsed": "false"
   },
   "source": [
    "The retrieved `data array` from the `Dataset NetCDF` object is of type `numpy.MaskedArray`, which can be plotted with matplotlib's `imshow` function. The plot extent can be set with minimum and maximum values of the `latitude` and `longitude` information respectively.\n",
    "\n",
    "We create a function [visualize_imshow](./ltpy_functions.ipynb#visualize_imshow), where we can specify `projection`, `extent`, `conversion_factor`, `color_scale`, `vmin`, `vmax`. We might want to re-use the function, thus we also add options to set a global extent and a logarithmic scaling of the colorbar."
   ]
  },
  {
   "cell_type": "code",
   "execution_count": null,
   "metadata": {},
   "outputs": [],
   "source": [
    "def visualize_imshow(data_array, projection, extent, conversion_factor, color_scale, vmin, vmax, set_global=False, log_scale=False):\n",
    "    \"\"\" \n",
    "    Visualizes a numpy MaskedArray with matplotlib's 'imshow' function.\n",
    "    \n",
    "    Parameters:\n",
    "        data_array: any numpy MaskedArray, e.g. loaded with the NetCDF library and the Dataset function\n",
    "        projection: a projection provided by the cartopy library, e.g. ccrs.PlateCarree()\n",
    "        extent: list with the following order - [min(lon),max(lon),max(lat),min(lat)]\n",
    "        conversion_factor(float): any number to convert the DataArray values\n",
    "        color_scale(str): string taken from matplotlib's color ramp reference  \n",
    "        vmin(int): minimum number on visualisation legend\n",
    "        vmax(int): maximum number on visualisation legend\n",
    "        set_global: set True, if the plot shall have a global coverage\n",
    "        log_scale: set True, if the color_scale shall have a logarithmic scaling\n",
    "    \"\"\"\n",
    "    fig=plt.figure(figsize=(20, 12))\n",
    "\n",
    "    ax=plt.axes(projection=projection)\n",
    "    ax.coastlines()\n",
    "    ax.gridlines()\n",
    "    if(set_global):\n",
    "        ax.set_global()\n",
    "\n",
    "    ax.set_title(data_array.long_name, fontsize=20, pad=20.0)\n",
    "\n",
    "    gl = ax.gridlines(draw_labels=True, linestyle='--')\n",
    "    gl.xlabels_top=False\n",
    "    gl.ylabels_right=False\n",
    "    gl.xformatter=LONGITUDE_FORMATTER\n",
    "    gl.yformatter=LATITUDE_FORMATTER\n",
    "    \n",
    "    gl.xlabel_style={'size':14}\n",
    "    gl.ylabel_style={'size':14}\n",
    "    \n",
    "    if(log_scale):\n",
    "        img1 = plt.imshow(data_array[:]*conversion_factor,\n",
    "                          extent=extent,\n",
    "                          cmap=color_scale,\n",
    "                          aspect='auto',\n",
    "                          norm=matplotlib.colors.LogNorm(vmin=vmin, vmax=vmax))\n",
    "    else:\n",
    "        img1 = plt.imshow(data_array[:]*conversion_factor,\n",
    "                          extent=extent,\n",
    "                          cmap=color_scale,\n",
    "                          vmin=vmin,\n",
    "                          vmax=vmax,\n",
    "                          aspect='auto')\n",
    "\n",
    "    cbar = fig.colorbar(img1, ax=ax, orientation='horizontal', fraction=0.04, pad=0.1)\n",
    "    cbar.set_label(str(conversion_factor) + ' ' + data_array.units, fontsize=16)\n",
    "    cbar.ax.tick_params(labelsize=14)\n",
    "    \n",
    "    plt.show()"
   ]
  },
  {
   "cell_type": "code",
   "execution_count": null,
   "metadata": {
    "Collapsed": "false"
   },
   "outputs": [],
   "source": [
    "extent=[min(lon),max(lon),max(lat), min(lat)]\n",
    "\n",
    "visualize_imshow(data_array=o3, projection=ccrs.PlateCarree(), extent=extent, conversion_factor=1, color_scale='viridis', vmin=0, vmax=40, set_global=True, log_scale=False)"
   ]
  },
  {
   "cell_type": "markdown",
   "metadata": {
    "Collapsed": "false"
   },
   "source": [
    "<br>"
   ]
  },
  {
   "cell_type": "markdown",
   "metadata": {
    "Collapsed": "false"
   },
   "source": [
    "### Plot xarray `Dataset` object with `matplotlib` and `cartopy`"
   ]
  },
  {
   "cell_type": "markdown",
   "metadata": {
    "Collapsed": "false"
   },
   "source": [
    "You can use the function [visualize_imshow](./ltpy_functions.ipynb#visualize_imshow) which you defined above, also to visualize a xarray `Dataset`. You select the parameter of interest, e.g. `NO2total` and define the extent based on the `DataArray's` minimum and maximum latitude / longitude information.\n",
    "These information are then taken to plot the total column NO<sub>2</sub> content."
   ]
  },
  {
   "cell_type": "code",
   "execution_count": null,
   "metadata": {
    "Collapsed": "false"
   },
   "outputs": [],
   "source": [
    "no2_da = no2_assigned.NO2trop\n",
    "\n",
    "extent = [no2_da.longitude.min(),no2_da.longitude.max(),no2_da.latitude.max(),no2_da.latitude.min()]\n",
    "visualize_imshow(no2_da, ccrs.PlateCarree(), extent, 1e-15, 'viridis', 0, 20, set_global=True, log_scale=False)"
   ]
  },
  {
   "cell_type": "markdown",
   "metadata": {
    "Collapsed": "false"
   },
   "source": [
    "<br>"
   ]
  },
  {
   "cell_type": "markdown",
   "metadata": {
    "Collapsed": "false"
   },
   "source": [
    "<a href=\"./213_ltpy_IASI_L2_load_browse.ipynb\"><< 213 - IASI - Level 2 - Load and browse </a><span style=\"float:right;\"><a href=\"./23_ltpy_Sentinel5p_L2_data.ipynb\">23 - Copernicus Sentinel-5 Precursor (Sentinel-5P) >></a></span>"
   ]
  },
  {
   "cell_type": "markdown",
   "metadata": {
    "Collapsed": "false"
   },
   "source": [
    "<hr>"
   ]
  },
  {
   "cell_type": "markdown",
   "metadata": {
    "Collapsed": "false"
   },
   "source": [
    "<p style=\"text-align:left;\">This project is licensed under the <a href=\"./LICENSE\">MIT License</a> <span style=\"float:right;\"><a href=\"https://gitlab.eumetsat.int/eumetlab/atmosphere/atmosphere\">View on GitLab</a> | <a href=\"https://training.eumetsat.int/\">EUMETSAT Training</a> | <a href=mailto:training@eumetsat.int>Contact</a></span></p>"
   ]
  }
 ],
 "metadata": {
  "kernelspec": {
   "display_name": "Python 3",
   "language": "python",
   "name": "python3"
  },
  "language_info": {
   "codemirror_mode": {
    "name": "ipython",
    "version": 3
   },
   "file_extension": ".py",
   "mimetype": "text/x-python",
   "name": "python",
   "nbconvert_exporter": "python",
   "pygments_lexer": "ipython3",
   "version": "3.7.3"
  }
 },
 "nbformat": 4,
 "nbformat_minor": 4
}
