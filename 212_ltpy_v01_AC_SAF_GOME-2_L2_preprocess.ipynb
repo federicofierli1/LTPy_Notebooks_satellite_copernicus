{
 "cells": [
  {
   "cell_type": "markdown",
   "metadata": {
    "Collapsed": "false"
   },
   "source": [
    "<img src='./img/EU-Copernicus-EUM_3Logos.png' alt='Logo EU Copernicus EUMETSAT' align='right' width='50%'></img>"
   ]
  },
  {
   "cell_type": "markdown",
   "metadata": {
    "Collapsed": "false"
   },
   "source": [
    "<br>"
   ]
  },
  {
   "cell_type": "markdown",
   "metadata": {
    "Collapsed": "false"
   },
   "source": [
    "<a href=\"./211_ltpy_v01_AC_SAF_L2_gome.ipynb\"><< 211 - AC SAF - GOME-2 - Level 2 - Load and browse</a><span style=\"float:right;\"><a href=\"./213_ltpy_v01_IASI_L2_load_browse.ipynb\">213 - IASI - Level 2 - Load and browse >></a></span>"
   ]
  },
  {
   "cell_type": "markdown",
   "metadata": {
    "Collapsed": "false"
   },
   "source": [
    "# 2.1.2 AC SAF - GOME-2 - Level 2 - Pre-processing"
   ]
  },
  {
   "cell_type": "markdown",
   "metadata": {
    "Collapsed": "false"
   },
   "source": [
    "The previous module [2.1.1](./211_ltpy_v01_AC_SAF_GOME-2_L2_load_browse.ipynb) showed how AC SAF GOME-2 Level 2 data can be loaded and visualized. Unfiltered AC SAF GOME-2 Level 2 data may contain negative values and measurements can further be influenced by clouds. Thus, there are some pre-processing steps required to mask the data and filter invalid ground pixels. \n",
    "\n",
    "This module shows how AC SAF GOME-2 Level 2 data can be masked, how data from Metop-A and Metop-B can be combined and how a geographical subset can be selected.\n",
    "\n",
    "Find more information in the [GOME-2 NO2 (and other trace gases) Product User guides](https://acsaf.org/docs/pum/Product_User_Manual_NTO_OTO_DR_GDP48_Jun_2017.pdf)."
   ]
  },
  {
   "cell_type": "markdown",
   "metadata": {
    "Collapsed": "false"
   },
   "source": [
    "#### This module has the following outline:\n",
    "* [1 - Data masking](#masking)\n",
    "* [2 - Combine Metop-A and Metop-B data files](#metop_ab)\n",
    "* [3 - Select geographical subset](#subset)"
   ]
  },
  {
   "cell_type": "markdown",
   "metadata": {
    "Collapsed": "false"
   },
   "source": [
    "#### Load required libraries"
   ]
  },
  {
   "cell_type": "code",
   "execution_count": 2,
   "metadata": {
    "Collapsed": "false"
   },
   "outputs": [],
   "source": [
    "import os\n",
    "from netCDF4 import Dataset\n",
    "import xarray as xr\n",
    "import numpy as np\n",
    "\n",
    "# Python libraries for visualisation\n",
    "from matplotlib import pyplot as plt\n",
    "import cartopy.crs as ccrs\n",
    "from cartopy.mpl.gridliner import LONGITUDE_FORMATTER, LATITUDE_FORMATTER\n",
    "\n",
    "from IPython.display import display, clear_output"
   ]
  },
  {
   "cell_type": "markdown",
   "metadata": {
    "Collapsed": "false"
   },
   "source": [
    "#### Load helper functions"
   ]
  },
  {
   "cell_type": "code",
   "execution_count": 3,
   "metadata": {
    "Collapsed": "false"
   },
   "outputs": [],
   "source": [
    "from ipynb.fs.full.ltpy_functions import load_l2_data_xr, visualize_gome_mollweide, visualize_l2"
   ]
  },
  {
   "cell_type": "code",
   "execution_count": 4,
   "metadata": {},
   "outputs": [],
   "source": [
    "?load_l2_data_xr"
   ]
  },
  {
   "cell_type": "markdown",
   "metadata": {
    "Collapsed": "false"
   },
   "source": [
    "<hr>"
   ]
  },
  {
   "cell_type": "markdown",
   "metadata": {
    "Collapsed": "false"
   },
   "source": [
    "### Load multi-file `DataArray`"
   ]
  },
  {
   "cell_type": "code",
   "execution_count": null,
   "metadata": {
    "Collapsed": "false"
   },
   "outputs": [],
   "source": [
    "directory_2a = './eodata/gome2/offline/2a//2019/08/18/'\n",
    "no2_a_da_mf = load_l2_data_xr(directory_2a, 'TOTAL_COLUMNS', 'NO2Tropo', longname='Tropospheric column density of NO2', unit='mol/cm\\u00b2')\n",
    "no2_a_da_mf"
   ]
  },
  {
   "cell_type": "markdown",
   "metadata": {
    "Collapsed": "false"
   },
   "source": [
    "## <a id=\"masking\"></a>Data masking"
   ]
  },
  {
   "cell_type": "markdown",
   "metadata": {
    "Collapsed": "false"
   },
   "source": [
    "AC SAF GOME-2 Level 2 data provide valuable information on the quality and validity of the measured data. Different conditions can influence the measured values:\n",
    "* Negative values can occur, which are not valid\n",
    "* Cloud fractions influence the measured values and lead to errors, and\n",
    "* other conditions that might make the measured data invalid, e.g. an unsuccessful fitting of the slant column.\n",
    "\n",
    "Thus, you have to mask the ground pixels that are valid."
   ]
  },
  {
   "cell_type": "markdown",
   "metadata": {
    "Collapsed": "false"
   },
   "source": [
    "### Flag negative values"
   ]
  },
  {
   "cell_type": "markdown",
   "metadata": {
    "Collapsed": "false"
   },
   "source": [
    "Negative values can be flagged by casting the `DataArray` for only positive values."
   ]
  },
  {
   "cell_type": "code",
   "execution_count": null,
   "metadata": {
    "Collapsed": "false"
   },
   "outputs": [],
   "source": [
    "no2_a_da_mf_flagged = no2_a_da_mf[no2_a_da_mf > 0]\n",
    "\n",
    "print(no2_a_da_mf_flagged, no2_a_da_mf_flagged.min())"
   ]
  },
  {
   "cell_type": "markdown",
   "metadata": {
    "Collapsed": "false"
   },
   "source": [
    "<br>"
   ]
  },
  {
   "cell_type": "markdown",
   "metadata": {
    "Collapsed": "false"
   },
   "source": [
    "You see that the minimum of our `DataArray` is not negative anymore. Visualizing the `DataArray` shows a more detailed representation of the total column NO<sub>2</sub>. Filtering just the negative values is only one part. Another important part to filter invalid pixels is to mask all ground pixels that are disturbed by clouds."
   ]
  },
  {
   "cell_type": "code",
   "execution_count": null,
   "metadata": {
    "Collapsed": "false"
   },
   "outputs": [],
   "source": [
    "visualize_gome_mollweide(no2_a_da_mf_flagged, 1e-15, 'viridis', vmin=0, vmax=6)"
   ]
  },
  {
   "cell_type": "markdown",
   "metadata": {
    "Collapsed": "false"
   },
   "source": [
    "### Cloud masking"
   ]
  },
  {
   "cell_type": "markdown",
   "metadata": {
    "Collapsed": "false"
   },
   "source": [
    "AC SAF GOME-2 Level 2 data provide under the groupd `CLOUD_PROPERTIES` information on the `CloudFraction` for each ground pixel. The first step is to generate a cloud mask you can apply to your total column data array. To start, you should load the cloud fraction property with the `load_l2_data_xr` function."
   ]
  },
  {
   "cell_type": "code",
   "execution_count": null,
   "metadata": {
    "Collapsed": "false"
   },
   "outputs": [],
   "source": [
    "cloud_fraction_2a = load_l2_data_xr(directory_2a, 'CLOUD_PROPERTIES', 'CloudFraction', unit='-', longname='Cloud Fraction')\n",
    "cloud_fraction_2a"
   ]
  },
  {
   "cell_type": "markdown",
   "metadata": {
    "Collapsed": "false"
   },
   "source": [
    "<br>"
   ]
  },
  {
   "cell_type": "markdown",
   "metadata": {
    "Collapsed": "false"
   },
   "source": [
    "With xarray's function `where`, you can generate a cloud mask, by specifying e.g. each ground pixel with a `CloudFraction` higher than 50% to classify as unvalid (mask value = 0). The resulting mask has value 1 for ground pixels you want to keep and value 0 for ground pixels you want to drop. Xarray's `where` function further helps to apply the cloud mask to your `DataArray`. You want to keep the ground pixels where the cloud mask is 1 and we want to drop the rest.\n",
    "\n",
    "The function [generate_masked_array](./ltpy_functions.ipynb#generate_masked_array) combines all steps of `cloud masking`. The masked array, where negative values were filtered out, is returned. You see that the number of valid ground pixels decreased from over 200 000 to less than 51 000."
   ]
  },
  {
   "cell_type": "code",
   "execution_count": null,
   "metadata": {
    "Collapsed": "false"
   },
   "outputs": [],
   "source": [
    "def generate_masked_array(xarray, mask, threshold):\n",
    "    \"\"\" \n",
    "    Applies a cloud mask (e.g. cloud fraction values) onto a given data array, based on a given threshold.\n",
    "    \n",
    "    Parameters:\n",
    "        xarray: a three-dimensional xarray DataArray object\n",
    "        mask: 1-dimensional xarray DataArray, e.g. cloud fraction values\n",
    "        threshold (float): any number between 0 and 1, specifying the degree of cloudiness which is acceptable.\n",
    "        \n",
    "    Returns:\n",
    "        Masked xarray DataArray with flagged negative values\n",
    "    \"\"\"\n",
    "    cloud_mask = xr.where(mask < threshold, 1, 0) #Generate cloud mask with value 1 for the pixels you want to keep\n",
    "    xarray_masked = xr.where(cloud_mask ==1, xarray, 0) #Apply mask onto the DataArray\n",
    "    xarray_masked.attrs = xarray.attrs #Set DataArray attributes \n",
    "    return xarray_masked[xarray_masked > 0] #Return masked DataArray and flag negative values"
   ]
  },
  {
   "cell_type": "code",
   "execution_count": null,
   "metadata": {
    "Collapsed": "false"
   },
   "outputs": [],
   "source": [
    "no2_a_da_masked = generate_masked_array(no2_a_da_mf, cloud_fraction_2a, 0.5)\n",
    "no2_a_da_masked"
   ]
  },
  {
   "cell_type": "markdown",
   "metadata": {
    "Collapsed": "false"
   },
   "source": [
    "<br>"
   ]
  },
  {
   "cell_type": "code",
   "execution_count": null,
   "metadata": {
    "Collapsed": "false"
   },
   "outputs": [],
   "source": [
    "visualize_gome_mollweide(no2_a_da_masked, 1e-15, 'viridis', vmin=-2, vmax=6)"
   ]
  },
  {
   "cell_type": "markdown",
   "metadata": {
    "Collapsed": "false"
   },
   "source": [
    "<br>"
   ]
  },
  {
   "cell_type": "markdown",
   "metadata": {
    "Collapsed": "false"
   },
   "source": [
    "## <a id=\"metop_ab\"></a>Combine Metop-A and Metop-B data files"
   ]
  },
  {
   "cell_type": "markdown",
   "metadata": {
    "Collapsed": "false"
   },
   "source": [
    "The above examples show that Metop-A data have many parts on Earth unsensed. Metop-A data can be combined with Metop-B ground pixels for one specific day to increase the overall coverage. Metop-B has a wider nominal resolution than Metop-A.\n",
    "\n",
    "Since you already concatenated and filtered the ground pixel values for day 18 Aug 2019 for Metop-A GOME Level 2 data, you only have to repeat the same pre-processing steps for the Metop-B data files:\n",
    "\n",
    "1. Load total column of tropospheric NO<sub>2</sub> values with `load_l2_data_xr` function \n",
    "2. Load cloud fraction information with `load_l2_data_xr` function\n",
    "3. Filter unvalid ground pixels with `generate_masked_array`\n",
    "4. Visualize the masked array with `visualize_gome_mollweide`."
   ]
  },
  {
   "cell_type": "markdown",
   "metadata": {
    "Collapsed": "false"
   },
   "source": [
    "#### 1. Load total column NO<sub>2</sub> values from MetOp-B"
   ]
  },
  {
   "cell_type": "code",
   "execution_count": null,
   "metadata": {
    "Collapsed": "false"
   },
   "outputs": [],
   "source": [
    "directory_2b= './eodata/gome2/offline/2b/2019/08/18/'\n",
    "no2_b_da_mf = load_l2_data_xr(directory_2b, 'TOTAL_COLUMNS', 'NO2Tropo', longname='Tropospheric column density of NO2', unit='mol/cm\\u00b2')\n",
    "no2_b_da_mf"
   ]
  },
  {
   "cell_type": "markdown",
   "metadata": {
    "Collapsed": "false"
   },
   "source": [
    "<br>"
   ]
  },
  {
   "cell_type": "markdown",
   "metadata": {
    "Collapsed": "false"
   },
   "source": [
    "#### 2. Load cloud fraction information"
   ]
  },
  {
   "cell_type": "code",
   "execution_count": null,
   "metadata": {
    "Collapsed": "false"
   },
   "outputs": [],
   "source": [
    "cloud_fraction_2b = load_l2_data_xr(directory_2b,'CLOUD_PROPERTIES','CloudFraction',unit='-', longname='Cloud Fraction') \n",
    "cloud_fraction_2b"
   ]
  },
  {
   "cell_type": "markdown",
   "metadata": {
    "Collapsed": "false"
   },
   "source": [
    "<br>"
   ]
  },
  {
   "cell_type": "markdown",
   "metadata": {
    "Collapsed": "false"
   },
   "source": [
    "#### 3. Mask data array"
   ]
  },
  {
   "cell_type": "code",
   "execution_count": null,
   "metadata": {
    "Collapsed": "false"
   },
   "outputs": [],
   "source": [
    "no2_b_da_masked = generate_masked_array(no2_b_da_mf, cloud_fraction_2b, 0.5)\n",
    "no2_b_da_masked"
   ]
  },
  {
   "cell_type": "markdown",
   "metadata": {
    "Collapsed": "false"
   },
   "source": [
    "<br>"
   ]
  },
  {
   "cell_type": "markdown",
   "metadata": {
    "Collapsed": "false"
   },
   "source": [
    "#### 4. Visualization of masked MetOp-B Total column NO2 ground pixels"
   ]
  },
  {
   "cell_type": "code",
   "execution_count": null,
   "metadata": {
    "Collapsed": "false"
   },
   "outputs": [],
   "source": [
    "visualize_gome_mollweide(no2_b_da_masked, 1e-15, 'viridis', vmin=-2, vmax=6)"
   ]
  },
  {
   "cell_type": "markdown",
   "metadata": {
    "Collapsed": "false"
   },
   "source": [
    "<br>"
   ]
  },
  {
   "cell_type": "markdown",
   "metadata": {
    "Collapsed": "false"
   },
   "source": [
    "### Combine masked `DataArrays` with `xarray.concat`"
   ]
  },
  {
   "cell_type": "markdown",
   "metadata": {
    "Collapsed": "false"
   },
   "source": [
    "To combine data from Metop-A and Metop-B, you have to concatenate both `DataArrays` with `xarray.concat`. The resulting `DataArray` object has more than 95,000 ground pixel values. With the `visualize_gome_mollweide` function, you can visualize the combined `DataArray`."
   ]
  },
  {
   "cell_type": "code",
   "execution_count": null,
   "metadata": {
    "Collapsed": "false"
   },
   "outputs": [],
   "source": [
    "no2_ab_da_masked = xr.concat([no2_a_da_masked, no2_b_da_masked], dim='ground_pixel')\n",
    "no2_ab_da_masked"
   ]
  },
  {
   "cell_type": "markdown",
   "metadata": {
    "Collapsed": "false"
   },
   "source": [
    "<br>"
   ]
  },
  {
   "cell_type": "code",
   "execution_count": null,
   "metadata": {
    "Collapsed": "false"
   },
   "outputs": [],
   "source": [
    "visualize_gome_mollweide(no2_ab_da_masked, 1e-15, 'viridis', vmin=-2, vmax=6)"
   ]
  },
  {
   "cell_type": "markdown",
   "metadata": {
    "Collapsed": "false"
   },
   "source": [
    "<br>"
   ]
  },
  {
   "cell_type": "markdown",
   "metadata": {
    "Collapsed": "false"
   },
   "source": [
    "## <a id=\"subset\"></a>Select geographical subset"
   ]
  },
  {
   "cell_type": "markdown",
   "metadata": {
    "Collapsed": "false"
   },
   "source": [
    "You can generate a `geographical subset` of the `DataArray` to get a closer look at one specific region. The subset can easily be created with xarray's function `where`. We can assign for `latitude` and `longitude` a minimum and maximum threshold. By using the `drop` argument, we drop the data values for which the condition is False.\n",
    "\n",
    "There is one caveat: the `longitude` values of the AC SAF GOME-2 Level 2 data are stored as 0 to 360-degrees longitudes. Thus, if you want to select the geographical subset based on a geographical bounding box of -180 to 180 degrees, you have to convert the `longitude` values first. This is done by assigning the `longitude` values with the `assign_coords` function."
   ]
  },
  {
   "cell_type": "code",
   "execution_count": null,
   "metadata": {
    "Collapsed": "false"
   },
   "outputs": [],
   "source": [
    "no2_ab_da_masked = no2_ab_da_masked.assign_coords(longitude=(((no2_ab_da_masked.longitude + 180) % 360) - 180))"
   ]
  },
  {
   "cell_type": "markdown",
   "metadata": {
    "Collapsed": "false"
   },
   "source": [
    "#### Select the bounding box with xarray's `where` function"
   ]
  },
  {
   "cell_type": "markdown",
   "metadata": {
    "Collapsed": "false"
   },
   "source": [
    "Let's select a bounding box over South America and parts of Central and Southern Africa with the following latitude and longitude boundaries:\n",
    "* `latitude`: -60 deg to 15 deg\n",
    "* `longitude`: -80 deg to 40 deg"
   ]
  },
  {
   "cell_type": "code",
   "execution_count": null,
   "metadata": {
    "Collapsed": "false"
   },
   "outputs": [],
   "source": [
    "no2_ab_da_subset = no2_ab_da_masked.where((no2_ab_da_masked.latitude < 15) & (no2_ab_da_masked.latitude > -60) & (no2_ab_da_masked.longitude < 40) & (no2_ab_da_masked.longitude > -80),drop=True)\n",
    "no2_ab_da_subset"
   ]
  },
  {
   "cell_type": "markdown",
   "metadata": {
    "Collapsed": "false"
   },
   "source": [
    "<br>"
   ]
  },
  {
   "cell_type": "markdown",
   "metadata": {
    "Collapsed": "false"
   },
   "source": [
    "You can now visualize the geographic subset with the defined function `visualize_gome_l2`, which represents the subset in a `PlateCarree` projection."
   ]
  },
  {
   "cell_type": "code",
   "execution_count": null,
   "metadata": {
    "Collapsed": "false"
   },
   "outputs": [],
   "source": [
    "visualize_l2(no2_ab_da_subset, 1e-15, ccrs.PlateCarree(), vmin=-2,vmax=6, point_size=20,color_scale='viridis', set_global=False)"
   ]
  },
  {
   "cell_type": "markdown",
   "metadata": {
    "Collapsed": "false"
   },
   "source": [
    "<br>"
   ]
  },
  {
   "cell_type": "markdown",
   "metadata": {
    "Collapsed": "false"
   },
   "source": [
    "<a href=\"./211_ltpy_v01_AC_SAF_L2_gome.ipynb\"><< 211 - AC SAF - GOME-2 - Level 2 - Load and browse</a><span style=\"float:right;\"><a href=\"./213_ltpy_v01_IASI_L2_load_browse.ipynb\">213 - IASI - Level 2 - Load and browse >></a></span>"
   ]
  },
  {
   "cell_type": "markdown",
   "metadata": {
    "Collapsed": "false"
   },
   "source": [
    "<hr>"
   ]
  },
  {
   "cell_type": "markdown",
   "metadata": {
    "Collapsed": "false"
   },
   "source": [
    "<p style=\"text-align:left;\">This project is licensed under the <a href=\"./LICENSE\">MIT License</a> <span style=\"float:right;\"><a href=\"https://gitlab.eumetsat.int/eo-lab/training-atmospheric-composition/\">View on GitLab</a> | <a href=\"https://training.eumetsat.int/\">EUMETSAT Training</a> | <a href=mailto:training@eumetsat.int>Contact</a></span></p>"
   ]
  }
 ],
 "metadata": {
  "kernelspec": {
   "display_name": "Python 3",
   "language": "python",
   "name": "python3"
  },
  "language_info": {
   "codemirror_mode": {
    "name": "ipython",
    "version": 3
   },
   "file_extension": ".py",
   "mimetype": "text/x-python",
   "name": "python",
   "nbconvert_exporter": "python",
   "pygments_lexer": "ipython3",
   "version": "3.7.0"
  },
  "toc": {
   "base_numbering": 1,
   "nav_menu": {},
   "number_sections": false,
   "sideBar": true,
   "skip_h1_title": false,
   "title_cell": "Table of Contents",
   "title_sidebar": "Contents",
   "toc_cell": false,
   "toc_position": {},
   "toc_section_display": true,
   "toc_window_display": false
  }
 },
 "nbformat": 4,
 "nbformat_minor": 4
}
