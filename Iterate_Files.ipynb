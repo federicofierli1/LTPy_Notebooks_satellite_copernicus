{
 "cells": [
  {
   "cell_type": "code",
   "execution_count": 52,
   "metadata": {},
   "outputs": [
    {
     "name": "stdout",
     "output_type": "stream",
     "text": [
      "10\n",
      "11\n"
     ]
    }
   ],
   "source": [
    "import xarray as xr\n",
    "import cartopy.crs as ccrs\n",
    "from matplotlib import pyplot as plt\n",
    "import glob, os\n",
    "\n",
    "os.chdir(\"../AC-SAF_NO2\")\n",
    "year=\"2017\"\n",
    "\n",
    "# Loop over all datasets\n",
    "for file in glob.glob(\"*\"+year+\"*.nc\"): \n",
    "    for month in range(10,12):\n",
    "        if float(file[20:22]) == month:\n",
    "            print(month)\n",
    "# Loop over all datasets\n",
    "            data=xr.open_dataset(file)\n",
    "            prod=xr.open_dataset(file, group=\"PRODUCT\")\n",
    "            data[\"NO2total\"]=prod.NO2total\n",
    "            data.merge(data)"
   ]
  },
  {
   "cell_type": "code",
   "execution_count": 53,
   "metadata": {},
   "outputs": [
    {
     "data": {
      "text/plain": [
       "<xarray.Dataset>\n",
       "Dimensions:    (latitude: 720, longitude: 1440)\n",
       "Coordinates:\n",
       "  * latitude   (latitude) float64 -89.88 -89.62 -89.38 ... 89.38 89.62 89.88\n",
       "  * longitude  (longitude) float64 -179.9 -179.6 -179.4 ... 179.4 179.6 179.9\n",
       "Data variables:\n",
       "    NO2total   (latitude, longitude) float32 ...\n",
       "Attributes:\n",
       "    description:  Level 3 NO2 data\n",
       "    Conventions:  CF-1.6"
      ]
     },
     "execution_count": 53,
     "metadata": {},
     "output_type": "execute_result"
    }
   ],
   "source": [
    "data"
   ]
  },
  {
   "cell_type": "code",
   "execution_count": null,
   "metadata": {},
   "outputs": [],
   "source": []
  }
 ],
 "metadata": {
  "kernelspec": {
   "display_name": "Python 3",
   "language": "python",
   "name": "python3"
  },
  "language_info": {
   "codemirror_mode": {
    "name": "ipython",
    "version": 3
   },
   "file_extension": ".py",
   "mimetype": "text/x-python",
   "name": "python",
   "nbconvert_exporter": "python",
   "pygments_lexer": "ipython3",
   "version": "3.7.0"
  }
 },
 "nbformat": 4,
 "nbformat_minor": 2
}
