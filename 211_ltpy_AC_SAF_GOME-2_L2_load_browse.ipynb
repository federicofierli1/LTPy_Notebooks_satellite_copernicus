{
 "cells": [
  {
   "cell_type": "markdown",
   "metadata": {
    "Collapsed": "false"
   },
   "source": [
    "<img src='./img/EU-Copernicus-EUM_3Logos.png' alt='Logo EU Copernicus EUMETSAT' align='right' width='50%'></img>"
   ]
  },
  {
   "cell_type": "markdown",
   "metadata": {
    "Collapsed": "false"
   },
   "source": [
    "<br>"
   ]
  },
  {
   "cell_type": "markdown",
   "metadata": {
    "Collapsed": "false"
   },
   "source": [
    "<a href=\"./12_ltpy_WEkEO_harmonized_data_access_api.ipynb\"><< 12 - WEkEO Harmonized Data Access API </a><span style=float:right;><a href=\"./212_ltpy_AC_SAF_GOME-2_L2_preprocess.ipynb\">212 - AC SAF - GOME-2 - Level 2 - Pre-process >></a></span>"
   ]
  },
  {
   "cell_type": "markdown",
   "metadata": {
    "Collapsed": "false"
   },
   "source": [
    "# 2.1.1 AC SAF - GOME-2 -  Level 2 - Load and browse"
   ]
  },
  {
   "cell_type": "markdown",
   "metadata": {
    "Collapsed": "false"
   },
   "source": [
    "AC SAF GOME-2 Level 2 data products are available as `near-real time (NRT)` and `offline`. NRT data products are available within three hours from sensing for the past two months. Offline products are available within 15 days from sensing at latest, but typical is a delay of 2-3 days.  AC SAF GOME-2 Level 2 data are disseminated in `HDF5` data format.\n",
    "\n",
    "There are two modules on AC SAF GOME-2 Level 2 products. This module (2.1.1) shows how AC SAF GOME-2 Level 2 data can be loaded and explains the general structure. [Module 2.1.2](./212_ltpy_AC_SAF_GOME-2_L2_preprocess.ipynb) shows some pre-processing steps, such as `cloud masking`, that need to be applied to the data.\n",
    "\n",
    "Find more information in the [GOME-2 NO2 (and other trace gases) Product User guides](https://acsaf.org/docs/pum/Product_User_Manual_NTO_OTO_DR_GDP48_Jun_2017.pdf)."
   ]
  },
  {
   "cell_type": "markdown",
   "metadata": {
    "Collapsed": "false"
   },
   "source": [
    "#### This module has the following outline:\n",
    "* [1 - Load and browse AC SAF GOME-2 Level 2 products](#load)\n",
    "* [2 - Build a xarray DataArray object for a AC SAF GOME-2 Level 2 parameter](#build_xarray)\n",
    "* [3 - Combine multiple HDF5 files in a xarray DataArray object](#combine)"
   ]
  },
  {
   "cell_type": "markdown",
   "metadata": {
    "Collapsed": "false"
   },
   "source": [
    "#### Load required libraries"
   ]
  },
  {
   "cell_type": "code",
   "execution_count": null,
   "metadata": {
    "Collapsed": "false"
   },
   "outputs": [],
   "source": [
    "import os\n",
    "from netCDF4 import Dataset\n",
    "import xarray as xr\n",
    "import datetime\n",
    "\n",
    "# Python libraries for visualisation\n",
    "from matplotlib import pyplot as plt\n",
    "import cartopy.crs as ccrs\n",
    "from cartopy.mpl.gridliner import LONGITUDE_FORMATTER, LATITUDE_FORMATTER\n",
    "\n",
    "from IPython.display import display, clear_output"
   ]
  },
  {
   "cell_type": "markdown",
   "metadata": {
    "Collapsed": "false"
   },
   "source": [
    "<hr>"
   ]
  },
  {
   "cell_type": "markdown",
   "metadata": {
    "Collapsed": "false"
   },
   "source": [
    "## <a id=\"load\"></a>Load and browse GOME-2 AC SAF Level 2 products"
   ]
  },
  {
   "cell_type": "markdown",
   "metadata": {
    "Collapsed": "false"
   },
   "source": [
    "AC SAF Level 2 data are disseminated in the `HDF5` format. [xarray](http://xarray.pydata.org/en/stable/index.html) and [netCDF4](https://unidata.github.io/netcdf4-python/netCDF4/index.html) are two Python libraries you can use to access and manipulate datasets in `HDF5` format."
   ]
  },
  {
   "cell_type": "markdown",
   "metadata": {
    "Collapsed": "false"
   },
   "source": [
    "### Structure of AC SAF GOME-2 Level 2 product data files"
   ]
  },
  {
   "cell_type": "markdown",
   "metadata": {
    "Collapsed": "false"
   },
   "source": [
    "The data in a HDF5 file is organized in groups. AC SAF GOME-2 Level 2 data contain five groups:\n",
    "* `META_DATA`\n",
    " * Product Metadata\n",
    "* `GEOLOCATION`\n",
    " * Date & Time (all retrievals)\n",
    " * 4 Corner Coordinates & Centre of Ground Pixel\n",
    " * Solar, Line-of-Sight Zenith, and realtive Azimuth angles at TOA\n",
    " * Orbit information\n",
    "* `TOTAL_COLUMNS`\n",
    " * Total and tropospheric column amounts of the various trace gases with corresponding (relative) errors\n",
    "* `DETAILED_RESULTS`\n",
    " * Geophysical parameters (surface, cloud and aerosol values)\n",
    " * Vertical column, slant column, and AMF values with corresponding errors\n",
    " * Fittings diagnostics (chi-square, RMS, etc.)\n",
    " * Various subgroups for trace gas specific data (e.g. O<sub>3</sub>, NO<sub>2</sub>, SO<sub>2</sub>, etc.)\n",
    "* `CLOUD_PROPERTIES`\n",
    " * Retrieve cloud properties"
   ]
  },
  {
   "cell_type": "markdown",
   "metadata": {},
   "source": [
    "### Load HDF5 data with `netCDF4` and `xarray`"
   ]
  },
  {
   "cell_type": "markdown",
   "metadata": {},
   "source": [
    "The aim is to store the content of the HDF5 file in a `xarray` object. The most efficient way is to do it in two steps: \n",
    "- (1) load a HDF5 `HDF5` file using `netCDF4` in `diskless non-persistence` mode, and \n",
    "- (2) Open a specific group of the `netCDF4` object as `xarray Dataset` object."
   ]
  },
  {
   "cell_type": "markdown",
   "metadata": {},
   "source": [
    "#### 1) Load a `HDF5` file using `netCDF4`"
   ]
  },
  {
   "cell_type": "markdown",
   "metadata": {},
   "source": [
    "You can load a `HDF5` file with the `Dataset` constructor of the `netCDF4` library. Load the file in `diskless non-persistent` mode by setting the the `diskless` argument to `True` and the `persist` argument to `False`.\n",
    "\n",
    "The resulting object is a `netCDF4.Dataset` object, which acts like a Python dictionary. Thus, with the `keys` function you can list the different groups the file contains."
   ]
  },
  {
   "cell_type": "code",
   "execution_count": null,
   "metadata": {},
   "outputs": [],
   "source": [
    "file_name = './eodata/gome2/offline/2a/2019/08/18/GOME_O3-NO2-NO2Tropo-BrO-SO2-H2O-HCHO_L2_20190818000913_050_METOPA_66564_DLR_04.HDF5'\n",
    "file = Dataset(file_name, diskless=True, persist=False)\n",
    "\n",
    "groups = file.groups.keys()\n",
    "groups"
   ]
  },
  {
   "cell_type": "markdown",
   "metadata": {
    "Collapsed": "false"
   },
   "source": [
    "Each group contains multiple variables. You can print out the variables of each group nicely formatted. This gives you a helpful overview of available parameters. You will mostly be interested in parameters of the `GEOLOCATION` and `TOTAL_COLUMNS` groups.\n",
    "\n",
    "The overview shows you, that one AC SAF GOME-2 Level 2 data file contains trace gas total columns of six parameters:\n",
    "* `BrO` - Hypobromite\n",
    "* `H`<sub>`2`</sub>`O` - Water vapour\n",
    "* `HCHO` - Formaldehyde\n",
    "* `NO`<sub>`2`</sub> - Nitrogen Dioxide\n",
    "* `O`<sub>`3`</sub> - Ozone\n",
    "* `SO`<sub>`2`</sub> - Sulfur Dioxide\n",
    "\n",
    "Additionally, the data file contains the tropospheric vertical column of Nitrogen Dioxide:\n",
    "* `NO`<sub>`2`</sub> `Tropo` - Tropospheric Nitrogen Dioxide"
   ]
  },
  {
   "cell_type": "code",
   "execution_count": null,
   "metadata": {},
   "outputs": [],
   "source": [
    "for group in groups:\n",
    "    print('{}:'.format(group))\n",
    "    # variables in a group\n",
    "    variables = sorted(file[group].variables.keys())\n",
    "    # pretty print of variables in 3 columns\n",
    "    for v1, v2, v3 in zip(variables[::3], variables[1::3], variables[2::3]):\n",
    "        print('   - {:<30}- {:<30}- {:<}'.format(v1, v2, v3))\n",
    "    if (len(variables) % 3) == 1:\n",
    "        print('   - {:<30}'.format(variables[-1]))\n",
    "    elif (len(variables) % 3) == 2:\n",
    "        print('   - {:<30}- {:<}'.format(*variables[-2:]))\n",
    "    # white line between one line and another\n",
    "    print()"
   ]
  },
  {
   "cell_type": "markdown",
   "metadata": {},
   "source": [
    "#### 2) Open a `HDF5` group content as `xarray Dataset` object"
   ]
  },
  {
   "cell_type": "markdown",
   "metadata": {},
   "source": [
    "In a next step, you can make use of `xarray.backends.NetCDF4DataStore` to open the `HDF5` group you are interested in as a xarray `Dataset` object. It is important to know that you can only get hold of one `HDF5` group item at the time.\n",
    "\n",
    "As an example, you can load the `TOTAL_COLUMNS` group and open it as xarray `Dataset`."
   ]
  },
  {
   "cell_type": "code",
   "execution_count": null,
   "metadata": {},
   "outputs": [],
   "source": [
    "tc = file['TOTAL_COLUMNS']\n",
    "xr_tc = xr.open_dataset(xr.backends.NetCDF4DataStore(tc))\n",
    "xr_tc"
   ]
  },
  {
   "cell_type": "markdown",
   "metadata": {
    "Collapsed": "false"
   },
   "source": [
    "### Select and retrieve one specific parameter from a `xarray Dataset` object"
   ]
  },
  {
   "cell_type": "markdown",
   "metadata": {
    "Collapsed": "false"
   },
   "source": [
    "Let's say, you are interested in the Tropospheric vertical column density of Nitrogen-Dioxide (NO<sub>2</sub>). You can retrieve the parameter using square brackets `[]` and the name of the parameter of interest. \n",
    "\n",
    "The resulting object is a `xarray DataArrary`, which has a shape of a 1-dimensional vector.\n",
    "\n",
    "The `xarray DataArray` holds as well data attributes, which help to better understand the parameter, e.g. you get information about minimum and maximum values of the parameter and the unit of the data values."
   ]
  },
  {
   "cell_type": "code",
   "execution_count": null,
   "metadata": {
    "Collapsed": "false"
   },
   "outputs": [],
   "source": [
    "no2 = xr_tc['NO2Tropo']\n",
    "no2"
   ]
  },
  {
   "cell_type": "markdown",
   "metadata": {
    "Collapsed": "false"
   },
   "source": [
    "## <a id=\"build_xarray\"></a>Build a xarray `DataArray` object for a AC SAF GOME-2 Level 2 parameter"
   ]
  },
  {
   "cell_type": "markdown",
   "metadata": {
    "Collapsed": "false"
   },
   "source": [
    "For easier handling and plotting of the parameters, you can combine geolocation information and data values in a xarray `DataArray` structure, which can be created with the xarray `DataArray` constructor. \n",
    "\n",
    "The constructor takes:\n",
    "* `data`: an array of values (can be e.g. a numpy ndarray, but also a `Series`, `DataFrame` or `Panel`)\n",
    "* `dims`: a list of dimension names\n",
    "* `coords`: a list or dictionary of coordinates\n",
    "* `attrs`: a dictionary of attributes to add to the instance\n",
    "\n",
    "We take the centre of the ground pixel as coordinates of the `DataArray`. The values can be retrieved from the internal paths `GEOLOCATION/LatitudeCentre` and `GEOLOCATION/LongitudeCentre` respectively.\n",
    "\n",
    "The resulting object is a xarray `DataArray` instance with latitude and longitude information and the NO<sub>2</sub> values as data values. The `DataArray` object contains around 15 000 ground pixels."
   ]
  },
  {
   "cell_type": "code",
   "execution_count": null,
   "metadata": {
    "Collapsed": "false"
   },
   "outputs": [],
   "source": [
    "latitude = file['GEOLOCATION/LatitudeCentre']\n",
    "longitude = file['GEOLOCATION/LongitudeCentre']\n",
    "\n",
    "no2_da = xr.DataArray(\n",
    "    no2,\n",
    "    dims=('ground_pixel'),\n",
    "    coords={\n",
    "        'latitude': ('ground_pixel', latitude[:]),\n",
    "        'longitude': ('ground_pixel', longitude[:])\n",
    "    },\n",
    "    attrs={'long_name': no2.Title, 'units': no2.Unit},\n",
    "    name=no2.name\n",
    ")\n",
    "\n",
    "no2_da"
   ]
  },
  {
   "cell_type": "markdown",
   "metadata": {},
   "source": [
    "You might need to generate a `xarray DataArray` from a file structure with 1-dimensional data vectors again. Let's define a function `generate_xr_from_1d_vec`, which returns the `xarray DataArray`."
   ]
  },
  {
   "cell_type": "code",
   "execution_count": null,
   "metadata": {},
   "outputs": [],
   "source": [
    "def generate_xr_from_1D_vec(file, lat_path, lon_path, variable, parameter_name, longname, no_of_dims, unit):\n",
    "    \"\"\" \n",
    "    Takes a netCDF4.Dataset or xarray.DataArray object and returns a xarray DataArray object with latitude / longitude\n",
    "    information as coordinate information\n",
    "    \n",
    "    Parameters:\n",
    "        file (netCDF4 data file): AC SAF Level 2 data file, loaded a netCDF4.Dataset or xarray.DataArray\n",
    "        lat_path (str): internal path of the data file to the latitude information, e.g. 'GEOLOCATION/LatitudeCentre'\n",
    "        lon_path (str): internal path of the data file to the longitude information, e.g. 'GEOLOCATION/LongitudeCentre'\n",
    "        variable (array): extracted variable of interested\n",
    "        parameter_name (str): parameter name, preferably extracted from the data file\n",
    "        longname (str): Long name of the parameter, preferably extracted from the data file\n",
    "        no_of_dims (int): Define the number of dimensions of your input array\n",
    "        unit (str): Unit of the parameter, preferably extracted from the data file\n",
    "    \n",
    "    Returns:\n",
    "        1 or 2-dimensional (depending on the given number of dimensions) xarray DataArray  with latitude / longitude information as coordinate information\n",
    "    \"\"\"\n",
    "    latitude = file[lat_path]\n",
    "    longitude = file[lon_path]\n",
    "    param = variable \n",
    "    \n",
    "    if (no_of_dims==1):\n",
    "        param_da = xr.DataArray(\n",
    "            param[:],\n",
    "            dims=('ground_pixel'),\n",
    "            coords={\n",
    "                'latitude': ('ground_pixel', latitude[:]),\n",
    "                'longitude': ('ground_pixel', longitude[:])\n",
    "            },\n",
    "            attrs={'long_name': longname, 'units': unit},\n",
    "            name=parameter_name\n",
    "        )\n",
    "    else:\n",
    "        param_da = xr.DataArray(\n",
    "            param[:],\n",
    "            dims=[\"x\",\"y\"],\n",
    "            coords={\n",
    "                'latitude':(['x','y'],latitude[:]),\n",
    "                'longitude':(['x','y'],longitude[:])\n",
    "            },\n",
    "            attrs={'long_name': longname, 'units': unit},\n",
    "            name=parameter_name\n",
    "        )\n",
    "        \n",
    "    return param_da"
   ]
  },
  {
   "cell_type": "markdown",
   "metadata": {
    "Collapsed": "false"
   },
   "source": [
    "### Plotting example of AC SAF GOME-2 Level 2 products - Single file with `PlateCarree` projection"
   ]
  },
  {
   "cell_type": "markdown",
   "metadata": {
    "Collapsed": "false"
   },
   "source": [
    "You can continue to plot (visualize) the `DataArray` object. Python provides several plotting libraries. One extensive plotting library is [matplotlib](https://matplotlib.org/).\n",
    "\n",
    "[Cartopy](https://scitools.org.uk/cartopy/docs/latest/) is another useful Python package. Key features of `cartopy` are its object-oriented [projection definitions](https://scitools.org.uk/cartopy/docs/latest/crs/projections.html), and its ability to transform points, lines, vectors, polygons and images between those projections. Cartopy includes a programmatic interface built on top of Matplotlib for the creation of publication quality maps.\n",
    "\n",
    "As basemap, you can create a map in a `PlateCarree` projection. You can add coast- and gridlines. On top of the basemap, you plot the NO<sub>2</sub> values as a scatter plot, with the `scatter` function. As you might need to reuse the code for plotting, we define a plotting function called [visualize_l2](./ltpy_functions.ipynb#visualize_l2)."
   ]
  },
  {
   "cell_type": "code",
   "execution_count": null,
   "metadata": {
    "Collapsed": "false"
   },
   "outputs": [],
   "source": [
    "def visualize_l2(xr_dataarray, conversion_factor, projection, vmin, vmax, point_size, color_scale, unit, title, set_global=False):\n",
    "    \"\"\" \n",
    "    Visualizes a xarray DataArray in a given projection using matplotlib's scatter function.\n",
    "    \n",
    "    Parameters:\n",
    "        xr_dataarray(xarray DataArray): a one-dimensional xarray DataArray object with latitude and longitude information as coordinates\n",
    "        conversion_factor (float): any number to convert the DataArray values\n",
    "        projection (str): choose one of cartopy's projection, e.g. ccrs.PlateCarree()\n",
    "        vmin (int): minimum number on visualisation legend\n",
    "        vmax (int): maximum number on visualisation legend\n",
    "        point_size (int): size of marker, e.g. 5\n",
    "        color_scale (str): string taken from matplotlib's color ramp reference\n",
    "        unit (str): define the unit to be added to the color bar\n",
    "        title (str): define titl of the plot\n",
    "        set_global (logical): set True, if the plot shall have a global coverage\n",
    "    \"\"\"\n",
    "    fig, ax = plt.subplots(figsize=(40, 10))\n",
    "    ax = plt.axes(projection=projection)\n",
    "\n",
    "    ax.coastlines()\n",
    "    if set_global:\n",
    "        ax.set_global()\n",
    "    \n",
    "    if (projection==ccrs.PlateCarree()):\n",
    "        gl = ax.gridlines(draw_labels=True, linestyle='--')\n",
    "        gl.xlabels_top=False\n",
    "        gl.ylabels_right=False\n",
    "        gl.xformatter=LONGITUDE_FORMATTER\n",
    "        gl.yformatter=LATITUDE_FORMATTER\n",
    "        gl.xlabel_style={'size':14}\n",
    "        gl.ylabel_style={'size':14}\n",
    "\n",
    "    # plot pixel positions\n",
    "    img = ax.scatter(\n",
    "        xr_dataarray.longitude.data,\n",
    "        xr_dataarray.latitude.data,\n",
    "        c=xr_dataarray.data*conversion_factor,\n",
    "        cmap=plt.cm.get_cmap(color_scale),\n",
    "        marker='o',\n",
    "        s=point_size,\n",
    "        transform=ccrs.PlateCarree(),\n",
    "        vmin=vmin,\n",
    "        vmax=vmax\n",
    "    )\n",
    "\n",
    "    plt.xticks(fontsize=16)\n",
    "    plt.yticks(fontsize=16)\n",
    "    plt.xlabel(\"Longitude\", fontsize=16)\n",
    "    plt.ylabel(\"Latitude\", fontsize=16)\n",
    "    cbar = fig.colorbar(img, ax=ax, orientation='horizontal', fraction=0.04, pad=0.1)\n",
    "    cbar.set_label(str(conversion_factor) + ' ' + unit, fontsize=16)\n",
    "    cbar.ax.tick_params(labelsize=14)\n",
    "    ax.set_title(title, fontsize=20, pad=20.0)\n",
    "    plt.show()"
   ]
  },
  {
   "cell_type": "code",
   "execution_count": null,
   "metadata": {
    "Collapsed": "false"
   },
   "outputs": [],
   "source": [
    "visualize_l2(no2_da, 1e-15, ccrs.PlateCarree(),0,1,20,'viridis',no2_da.units, no2_da.long_name, set_global=True)"
   ]
  },
  {
   "cell_type": "markdown",
   "metadata": {
    "Collapsed": "false"
   },
   "source": [
    "The example above shows that one individual file contains the data for one ground track. If we want to see all the data that has been sensed on one individual day, we have to combine multiple HDF5 files."
   ]
  },
  {
   "cell_type": "markdown",
   "metadata": {
    "Collapsed": "false"
   },
   "source": [
    "## <a id=\"combine\"></a>Combine multiple HDF5 files in a xarray `DataArray` object"
   ]
  },
  {
   "cell_type": "markdown",
   "metadata": {
    "Collapsed": "false"
   },
   "source": [
    "AC SAF GOME-2 Level 2 data files for one individual day are stored in multiple files. In order to combine all sensed ground tracks for one individual day, you can combine the steps above in a for loop:\n",
    "\n",
    "* 1) Open the HDF5 file with `netCDF4.Dataset` <br>\n",
    "* 2) Retrieve information on `GEOLOCATION` and the `TOTAL_COLUMNS` parameter of interest\n",
    "* 3) Generate a xarray `DataArray` and store it in a list of DataArrays\n",
    "* 4) Concatenate the DataArrays into one `DataArray` with `xarray.concat`\n",
    "\n",
    "You can combine the steps above in a function and call it [load_l2_data_xr](./ltpy_functions.ipynb#load_l2_data_xr). At the same time, you can re-use the function [generate_xr_from_1D_vec](./ltpy_functions.ipynb#generate_xr_from_1D_vec), which was defined in the section before.\n",
    "\n",
    "The result is a 1-dimensional `DataArray` containing the ground pixels of all GOME-2A files for one specific day. You can see that the `DataArray` object contains now multiple 100 000 ground pixels."
   ]
  },
  {
   "cell_type": "code",
   "execution_count": null,
   "metadata": {
    "Collapsed": "false"
   },
   "outputs": [],
   "source": [
    "def load_l2_data_xr(directory, internal_filepath, parameter, latName, lonName, no_of_dims, unit, longname):\n",
    "    \"\"\" \n",
    "    Loads a Metop-A/B Level 2 dataset in HDF format and returns a xarray DataArray with all the ground pixels of all directory \n",
    "    files. Uses function 'generate_xr_from_1D_vec' to generate the xarray DataArray.\n",
    "    \n",
    "    Parameters:\n",
    "        directory (str): directory where the HDF files are stored\n",
    "        internal_filepath (str): internal path of the data file that is of interest, e.g. TOTAL_COLUMNS\n",
    "        parameter (str): paramter that is of interest, e.g. NO2\n",
    "        latName (str): name of latitude variable\n",
    "        lonName (str): name of longitude variable\n",
    "        no_of_dims (int): number of dimensions of input array\n",
    "        unit (str): unit of the parameter, preferably taken from the data file\n",
    "        longname (str): longname of the parameter, preferably taken from the data file\n",
    "    \n",
    "    Returns:\n",
    "        1 or 2-dimensional xarray DataArray with latitude / longitude information as coordinate information\n",
    "    \"\"\"\n",
    "    fileList = [os.path.join(directory, f) for f in os.listdir(directory)]\n",
    "    datasets = []\n",
    "\n",
    "    for i in fileList:\n",
    "        tmp=Dataset(i)\n",
    "        param=tmp[internal_filepath+'/'+parameter]\n",
    "        da_tmp= generate_xr_from_1D_vec(tmp,'GEOLOCATION/'+latName, 'GEOLOCATION/'+lonName,\n",
    "                                param, param.name, longname, no_of_dims, unit)\n",
    "        if(no_of_dims==1):\n",
    "            datasets.append(da_tmp)\n",
    "        else:\n",
    "            da_tmp_st = da_tmp.stack(ground_pixel=('x','y'))\n",
    "            datasets.append(da_tmp_st)\n",
    "\n",
    "    return xr.concat(datasets, dim='ground_pixel')"
   ]
  },
  {
   "cell_type": "code",
   "execution_count": null,
   "metadata": {
    "Collapsed": "false"
   },
   "outputs": [],
   "source": [
    "directory_2a = './eodata/gome2/offline/2a/2019/08/18/'\n",
    "no2_a_da_mf = load_l2_data_xr(directory_2a, 'TOTAL_COLUMNS', 'NO2Tropo', 'LatitudeCentre', 'LongitudeCentre', 1, 'mol/cm\\u00b2', 'Tropospheric vertical column density of NO2')\n",
    "no2_a_da_mf"
   ]
  },
  {
   "cell_type": "markdown",
   "metadata": {
    "Collapsed": "false"
   },
   "source": [
    "### Plotting example of AC SAF Level 2 products - Multiple files with `Mollweide` projection"
   ]
  },
  {
   "cell_type": "markdown",
   "metadata": {
    "Collapsed": "false"
   },
   "source": [
    "The plotting example above showed that the `PlateCarree` projection is not the best suited projection for representing the GOME-2 ground tracks. Let's try to visualize all ground tracks of one day in `Mollweide` projection. You can change the basemap to the `Mollweide` projection and add a transform argument to your scatter plot, in order to transform the coordinates to a `Mollweide` projection.\n",
    "\n",
    "We define the function [visualize_gome_mollweide](./ltpy_functions.ipynb#visualize_gome_mollweide) to visualize the data in a `Mollweide` projection, which is more appropriate to visualize the ground tracks."
   ]
  },
  {
   "cell_type": "code",
   "execution_count": null,
   "metadata": {
    "Collapsed": "false"
   },
   "outputs": [],
   "source": [
    "def visualize_gome_mollweide(xr_dataarray, conversion_factor, color_scale, marker_size, vmin, vmax):\n",
    "    \"\"\" \n",
    "    Visualizes a xarray dataarray in a mollweide projection using matplotlib's scatter function.\n",
    "    \n",
    "    Parameters:\n",
    "        xr_dataarray (xarray DataArray): a three-dimensional xarray DataArray object\n",
    "        conversion_factor (float): any number to convert the DataArray values\n",
    "        color_scale (str): string taken from matplotlib's color ramp reference \n",
    "        marker_size (str): size of the marker\n",
    "        vmin (int): minimum number on visualisation legend\n",
    "        vmax (int): maximum number on visualisation legend\n",
    "    \"\"\"\n",
    "    fig, ax = plt.subplots(figsize=(40, 10))\n",
    "    ax = plt.axes(projection=ccrs.Mollweide())\n",
    "\n",
    "    ax.coastlines()\n",
    "    ax.set_global()\n",
    "\n",
    "    ax.gridlines(linestyle='--')\n",
    "    # plot pixel positions\n",
    "    img = ax.scatter(\n",
    "        xr_dataarray.longitude.data,\n",
    "        xr_dataarray.latitude.data,\n",
    "        c=xr_dataarray.data*conversion_factor,\n",
    "        cmap=plt.cm.get_cmap(color_scale),\n",
    "        marker='o',\n",
    "        s=marker_size,\n",
    "        transform=ccrs.PlateCarree(),\n",
    "        vmin=vmin,\n",
    "        vmax=vmax\n",
    "    )\n",
    "\n",
    "    cbar = fig.colorbar(img, ax=ax, orientation='horizontal', fraction=0.04, pad=0.1)\n",
    "    cbar.set_label(str(conversion_factor) + ' ' + xr_dataarray.units, fontsize=16)\n",
    "    cbar.ax.tick_params(labelsize=14)\n",
    "    ax.set_title(xr_dataarray.long_name, fontsize=20, pad=20.0)\n",
    "    plt.show()"
   ]
  },
  {
   "cell_type": "markdown",
   "metadata": {},
   "source": [
    "<br>"
   ]
  },
  {
   "cell_type": "markdown",
   "metadata": {
    "Collapsed": "false"
   },
   "source": [
    "Let's visualize the ground tracks of all the measured values of MetOp-A for 18 August 2019. We see that the unfiltered data may contain negative values. Measurements can further be influenced by clouds. Thus, the next step is to mask the data and filter invalid ground pixels.\n",
    "\n",
    "Go to [module 2.1.2](./212_ltpy_AC_SAF_GOME-2_L2_preprocess.ipynb) to see further pre-processing steps for AC SAF Level 2 data."
   ]
  },
  {
   "cell_type": "code",
   "execution_count": null,
   "metadata": {
    "Collapsed": "false"
   },
   "outputs": [],
   "source": [
    "visualize_gome_mollweide(no2_a_da_mf, 1e-15, 'viridis', 5, no2_a_da_mf.data.min(), no2_a_da_mf.data.max())"
   ]
  },
  {
   "cell_type": "markdown",
   "metadata": {
    "Collapsed": "false"
   },
   "source": [
    "<br>"
   ]
  },
  {
   "cell_type": "markdown",
   "metadata": {
    "Collapsed": "false"
   },
   "source": [
    "<br>"
   ]
  },
  {
   "cell_type": "markdown",
   "metadata": {
    "Collapsed": "false"
   },
   "source": [
    "<a href=\"./12_ltpy_WEkEO_harmonized_data_access_api.ipynb\"><< 12 - WEkEO Harmonized Data Access API </a><span style=float:right;><a href=\"./212_ltpy_AC_SAF_GOME-2_L2_preprocess.ipynb\">212 - AC SAF - GOME-2 - Level 2 - Pre-process >></a></span>"
   ]
  },
  {
   "cell_type": "markdown",
   "metadata": {
    "Collapsed": "false"
   },
   "source": [
    "<hr>"
   ]
  },
  {
   "cell_type": "markdown",
   "metadata": {
    "Collapsed": "false"
   },
   "source": [
    "<p style=\"text-align:left;\">This project is licensed under the <a href=\"./LICENSE\">MIT License</a> <span style=\"float:right;\"><a href=\"https://gitlab.eumetsat.int/eumetlab/atmosphere/atmosphere\">View on GitLab</a> | <a href=\"https://training.eumetsat.int/\">EUMETSAT Training</a> | <a href=mailto:training@eumetsat.int>Contact</a></span></p>"
   ]
  }
 ],
 "metadata": {
  "kernelspec": {
   "display_name": "Python 3",
   "language": "python",
   "name": "python3"
  },
  "language_info": {
   "codemirror_mode": {
    "name": "ipython",
    "version": 3
   },
   "file_extension": ".py",
   "mimetype": "text/x-python",
   "name": "python",
   "nbconvert_exporter": "python",
   "pygments_lexer": "ipython3",
   "version": "3.7.3"
  },
  "toc": {
   "base_numbering": 1,
   "nav_menu": {},
   "number_sections": false,
   "sideBar": true,
   "skip_h1_title": false,
   "title_cell": "Table of Contents",
   "title_sidebar": "Contents",
   "toc_cell": false,
   "toc_position": {},
   "toc_section_display": true,
   "toc_window_display": false
  },
  "toc-showmarkdowntxt": false
 },
 "nbformat": 4,
 "nbformat_minor": 4
}
