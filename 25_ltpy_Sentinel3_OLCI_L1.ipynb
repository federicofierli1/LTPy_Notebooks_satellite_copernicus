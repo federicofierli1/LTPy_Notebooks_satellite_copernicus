{
 "cells": [
  {
   "cell_type": "markdown",
   "metadata": {},
   "source": [
    "<img src='./img/EU-Copernicus-EUM_3Logos.png' alt='Logo EU Copernicus EUMETSAT' align='right' width='50%'></img>"
   ]
  },
  {
   "cell_type": "markdown",
   "metadata": {},
   "source": [
    "<br>"
   ]
  },
  {
   "cell_type": "markdown",
   "metadata": {},
   "source": [
    "<a href=\"./24_ltpy_CAMS_data.ipynb\"><< 24 - Copernicus Atmosphere Monitoring Service (CAMS) data </a><span style=\"float:right;\"><a href=\"./31_ltpy_AC_SAF_GOME-2_L2_case_study.ipynb\">31 - AC SAF GOME-2 Level 2 case study >></a></span>"
   ]
  },
  {
   "cell_type": "markdown",
   "metadata": {},
   "source": [
    "# 2.5 Sentinel-3 OLCI Level-1 data"
   ]
  },
  {
   "cell_type": "markdown",
   "metadata": {},
   "source": [
    "Sentinel-3 OLCI Level-1 data products are available as Full (`OL_1_EFR`) and Reduced Resolution (`OL_1_ERR`) data files. The following notebook shows you how `OL_1_EFR` data are structured and how you can generate a RGB True- and False-Color image.\n",
    "\n",
    "Sentinel-3 OLCI data products are disseminated as `.zip archives`, containing data files in `NetCDF` format.\n",
    "\n",
    "Find more information on the OLCI data products in the [Sentinel-3 OLCI User Guide](https://sentinel.esa.int/web/sentinel/user-guides/sentinel-3-olci)."
   ]
  },
  {
   "cell_type": "markdown",
   "metadata": {},
   "source": [
    "#### This module has the following outline:\n",
    "* [1 - Load and browse Sentinel-3 OLCI Level-1 data](#load_browse)\n",
    "* [2 - Load OLCI channel information as xarray](#channel_info)\n",
    "* [3 - Load OLCI geographic coordinates as xarray](#load_geo_coords)\n",
    "* [4 - Select OLCI channels for a RGB image](#channel_select)\n",
    "* [5 - Advanced image processing - Normalization and histogram equalization](#image_processing)\n",
    "* [6 - Visualize a georeferenced RGB True Color image with pcolormesh](#visualize_tc)\n",
    "* [7 - Create a False Color RGB image and plot it as georeferenced image ](#false_color)"
   ]
  },
  {
   "cell_type": "markdown",
   "metadata": {},
   "source": [
    "#### Load required libraries"
   ]
  },
  {
   "cell_type": "code",
   "execution_count": null,
   "metadata": {},
   "outputs": [],
   "source": [
    "%matplotlib inline\n",
    "\n",
    "import xarray as xr\n",
    "import numpy as np\n",
    "import matplotlib.pyplot as plt\n",
    "\n",
    "import cartopy.crs as ccrs\n",
    "from cartopy.mpl.gridliner import LONGITUDE_FORMATTER, LATITUDE_FORMATTER\n",
    "import cartopy.feature as cfeature\n",
    "from skimage import exposure\n",
    "\n",
    "import glob\n",
    "\n",
    "import warnings\n",
    "warnings.filterwarnings('ignore')\n",
    "warnings.simplefilter(action = \"ignore\", category = RuntimeWarning)"
   ]
  },
  {
   "cell_type": "markdown",
   "metadata": {},
   "source": [
    "<hr>"
   ]
  },
  {
   "cell_type": "markdown",
   "metadata": {},
   "source": [
    "## <a id='load_browse'></a>Load and browse Sentinel-3 OLCI Level-1 data"
   ]
  },
  {
   "cell_type": "markdown",
   "metadata": {},
   "source": [
    "Sentinel-3 Level-1 data are dissiminated as `.zip archives` when downloaded. The unzipped folder contains 31 data files in `NetCDF` format. Data for each channel is stored in a single `NetCDF` file. Additionally, you get information on `qualityFlags`, `time_coordinates` or `geo_coordinates`.\n",
    "\n",
    "You can see the names of the 31 data files by looping through the data directory. You see that the channel information follow the same naming and all end with `_radiance.nc`."
   ]
  },
  {
   "cell_type": "code",
   "execution_count": null,
   "metadata": {},
   "outputs": [],
   "source": [
    "olci_dir = './eodata/sentinel3/olci/2019/07/25/S3A_OL_1_EFR____20190725T022702_20190725T023002_20190726T055327_0179_047_203_1800_LN1_O_NT_002.SEN3/'\n",
    "for i in glob.glob(olci_dir+'*.nc'):\n",
    "    tmp = i.split('/')\n",
    "    print(tmp[8])"
   ]
  },
  {
   "cell_type": "markdown",
   "metadata": {},
   "source": [
    "## <a id='channel_info'></a>Load OLCI channel information as `xarray`"
   ]
  },
  {
   "cell_type": "markdown",
   "metadata": {},
   "source": [
    "#### Load one single channel"
   ]
  },
  {
   "cell_type": "markdown",
   "metadata": {},
   "source": [
    "As a first step, you can load one channel with xarray's function `open_dataset`. This will help you to understand how the data is structured.\n",
    "You see that the data of each channel is a two dimensional data array, with `rows` and `columns` as dimensions. "
   ]
  },
  {
   "cell_type": "code",
   "execution_count": null,
   "metadata": {
    "scrolled": false
   },
   "outputs": [],
   "source": [
    "olci_xr = xr.open_dataset(olci_dir+'Oa01_radiance.nc')\n",
    "olci_xr"
   ]
  },
  {
   "cell_type": "markdown",
   "metadata": {},
   "source": [
    "#### Load all channel information into one xarray object"
   ]
  },
  {
   "cell_type": "markdown",
   "metadata": {},
   "source": [
    "The next step is to bring the individual data files together into one `xarray` data object. You can do this with xarray's function `open_mfdataset`. Since all channel files have the same data structure, you can combine all channels by coordinates using the keyword argument `by_coords`. The result is a `xarray` object with 21 data variables. Each channel is represented as a data variable."
   ]
  },
  {
   "cell_type": "code",
   "execution_count": null,
   "metadata": {
    "scrolled": false
   },
   "outputs": [],
   "source": [
    "olci_xr_mf = xr.open_mfdataset(olci_dir+'*_radiance.nc', combine='by_coords')\n",
    "olci_xr_mf"
   ]
  },
  {
   "cell_type": "markdown",
   "metadata": {},
   "source": [
    "#### Example to plot one channel"
   ]
  },
  {
   "cell_type": "markdown",
   "metadata": {},
   "source": [
    "To get an impression of the image, you can simply plot one channel of the xarray object with xarray's function  `.plot.imshow()`. Let's plot channel 8 `Oa08_radiance`. The example shows that you can easily visualize the image itself, but without geographic information."
   ]
  },
  {
   "cell_type": "code",
   "execution_count": null,
   "metadata": {},
   "outputs": [],
   "source": [
    "fig = plt.figure(figsize=(10,6))\n",
    "olci_xr_mf['Oa08_radiance'].plot.imshow()"
   ]
  },
  {
   "cell_type": "markdown",
   "metadata": {},
   "source": [
    "## <a id='load_geo_coords'></a>Load OLCI geographic coordinates as `xarray`"
   ]
  },
  {
   "cell_type": "markdown",
   "metadata": {},
   "source": [
    "If you want to georeference your image, you have to load the geographic coordinates file. You can load it as xarray with `open_dataset`. The file is called `geo_coordinates.nc`. You see that the file contains three variables: `latitude`, `longitude` and `altitude`.\n",
    "\n",
    "Let's store the latitude and longitude data as `lat` and `lon` variables respectively."
   ]
  },
  {
   "cell_type": "code",
   "execution_count": null,
   "metadata": {
    "scrolled": false
   },
   "outputs": [],
   "source": [
    "olci_geo_coords = xr.open_dataset(olci_dir+'geo_coordinates.nc')\n",
    "olci_geo_coords"
   ]
  },
  {
   "cell_type": "code",
   "execution_count": null,
   "metadata": {},
   "outputs": [],
   "source": [
    "lat = olci_geo_coords.latitude.data\n",
    "lon = olci_geo_coords.longitude.data"
   ]
  },
  {
   "cell_type": "markdown",
   "metadata": {},
   "source": [
    "## <a id='channel_select'></a>Select OLCI channels for a RGB image"
   ]
  },
  {
   "cell_type": "markdown",
   "metadata": {},
   "source": [
    "Depending on the combination of different OLCI channels, your RGB image might highlight specific phenomena. The channel combination for a True Color RGB image could be:\n",
    "- Red: `Oa08_radiance`\n",
    "- Green: `Oa06_radiance`\n",
    "- Blue: `Oa04_radiance`\n",
    "\n",
    "Let's define a function called [select_channels_for_rgb](./ltpy_functions.ipynb#rgb_channels), which makes the channel selection more flexible. The function returns the three bands individually."
   ]
  },
  {
   "cell_type": "code",
   "execution_count": null,
   "metadata": {},
   "outputs": [],
   "source": [
    "def select_channels_for_rgb(xarray, red_channel, green_channel, blue_channel):\n",
    "    \"\"\" \n",
    "    Selects the channels / bands of a multi-dimensional xarray for red, green and blue composites.\n",
    "    \n",
    "    Parameters:\n",
    "        xarray(xarray Dataset): xarray Dataset object that stores the different channels / bands.\n",
    "        red_channel(str): Name of red channel to be selected\n",
    "        green_channel(str): Name of green channel to be selected\n",
    "        blue_channel(str): Name of blue channel to be selected\n",
    "\n",
    "    Returns:\n",
    "        Three xarray DataArray objects with selected channels / bands\n",
    "    \"\"\"  \n",
    "    return xarray[red_channel], xarray[green_channel], xarray[blue_channel]"
   ]
  },
  {
   "cell_type": "code",
   "execution_count": null,
   "metadata": {
    "scrolled": true
   },
   "outputs": [],
   "source": [
    "red, green, blue = select_channels_for_rgb(olci_xr_mf, 'Oa08_radiance', 'Oa06_radiance', 'Oa04_radiance')\n",
    "red"
   ]
  },
  {
   "cell_type": "markdown",
   "metadata": {},
   "source": [
    "## <a id='image_processing'></a>Advanced image processing - Normalization and histogram equalization"
   ]
  },
  {
   "cell_type": "markdown",
   "metadata": {},
   "source": [
    "#### Normalization"
   ]
  },
  {
   "cell_type": "markdown",
   "metadata": {},
   "source": [
    "A common operation in image processing is the normalization of data values. Normalization changes the range of pixel intesity and can improve the constrast.\n",
    "Let's define a function called [normalize](./ltpy_functions.ipynb#normalize), which normalizes a numpy array into a scale between 0.0 and 1.0."
   ]
  },
  {
   "cell_type": "code",
   "execution_count": null,
   "metadata": {},
   "outputs": [],
   "source": [
    "def normalize(array):\n",
    "    \"\"\" \n",
    "    Normalizes a numpy array / xarray DataArray object value to values between 0 and 1.\n",
    "    \n",
    "    Parameters:\n",
    "        xarray(numpy array or xarray DataArray): xarray DataArray or numpy array object.\n",
    "\n",
    "    Returns:\n",
    "        Normalized array\n",
    "    \"\"\" \n",
    "    array_min, array_max = array.min(), array.max()\n",
    "    return ((array - array_min)/(array_max - array_min))"
   ]
  },
  {
   "cell_type": "markdown",
   "metadata": {},
   "source": [
    "You can now apply the function [normalize](./ltpy_functions.ipynb#normalize) to each RGB channel. At the end, you can bring the three channels together into one `rgb` array with `numpy.dstack`. By verifying the shape of the resulting array, you see that the `rgb` array has now three dimensions."
   ]
  },
  {
   "cell_type": "code",
   "execution_count": null,
   "metadata": {},
   "outputs": [],
   "source": [
    "redn = normalize(red)\n",
    "greenn = normalize(green)\n",
    "bluen = normalize(blue)"
   ]
  },
  {
   "cell_type": "code",
   "execution_count": null,
   "metadata": {},
   "outputs": [],
   "source": [
    "rgb = np.dstack((redn, greenn, bluen))\n",
    "rgb.shape"
   ]
  },
  {
   "cell_type": "markdown",
   "metadata": {},
   "source": [
    "You can now plot the rgb image to see if maybe further image processing methods could be applied. If you visualize the image with `plt.imshow()`, you see that the constrast is not very strong. A further step is to sharpen the contrast with the help of a **Histogram equalization**."
   ]
  },
  {
   "cell_type": "code",
   "execution_count": null,
   "metadata": {
    "scrolled": false
   },
   "outputs": [],
   "source": [
    "fig = plt.figure(figsize=(10,6))\n",
    "plt.imshow(rgb)"
   ]
  },
  {
   "cell_type": "markdown",
   "metadata": {},
   "source": [
    "#### Histogram equalization"
   ]
  },
  {
   "cell_type": "markdown",
   "metadata": {},
   "source": [
    "Histogram equalization is a method in image processing that adjusts the contrast using the image's histogram. Python's `skikit-learn` library has useful tools to make a histogram equalization quite straighforward. The `skimage` library provides a function `exposure.equalize_adaphtist()` which can be applied to the rgb data array."
   ]
  },
  {
   "cell_type": "code",
   "execution_count": null,
   "metadata": {},
   "outputs": [],
   "source": [
    "rgb = exposure.equalize_adapthist(rgb)"
   ]
  },
  {
   "cell_type": "markdown",
   "metadata": {},
   "source": [
    "You can again plot the rgb image with `plt.imshow()`. You can see that the histogram equalization improved the contrast of the image."
   ]
  },
  {
   "cell_type": "code",
   "execution_count": null,
   "metadata": {},
   "outputs": [],
   "source": [
    "fig = plt.figure(figsize=(10,6))\n",
    "plt.imshow(rgb)"
   ]
  },
  {
   "cell_type": "markdown",
   "metadata": {},
   "source": [
    "## <a id='visualize_tc'></a>Visualize a georeferenced RGB True Color image with `pcolormesh`"
   ]
  },
  {
   "cell_type": "markdown",
   "metadata": {},
   "source": [
    "The final step is to georeference the `RGB` image. Therefore, you need the extracted `lat` and `lon` information extracted above.\n",
    "\n",
    "Let's plot the image with matplotlib's `pcolormesh` function. To be able to visualize the array as RGB, you have to map first the rgb array to a colour array."
   ]
  },
  {
   "cell_type": "code",
   "execution_count": null,
   "metadata": {},
   "outputs": [],
   "source": [
    "mesh_rgb = rgb[:, :-1, :]\n",
    "colorTuple = mesh_rgb.reshape((mesh_rgb.shape[0] * mesh_rgb.shape[1]), 3)\n",
    "colorTuple = np.insert(colorTuple, 3, 1.0, axis=1)"
   ]
  },
  {
   "cell_type": "markdown",
   "metadata": {},
   "source": [
    "The last step is to visualize the color array and add additional information, e.g. gridlines and coastlines. As you want to reuse the plotting code again, you can define a function called [visualize_s3_pcolormesh](./ltpy_functions.ipynb#visualize_s3_pcolormesh)."
   ]
  },
  {
   "cell_type": "code",
   "execution_count": null,
   "metadata": {
    "scrolled": false
   },
   "outputs": [],
   "source": [
    "def visualize_s3_pcolormesh(color_array, array, latitude, longitude, title):\n",
    "    \"\"\" \n",
    "    Visualizes a numpy array (Sentinel-3 data) with matplotlib's 'pcolormesh' function as RGB image.\n",
    "    \n",
    "    Parameters:\n",
    "        color_array (numpy MaskedArray): any numpy MaskedArray, e.g. loaded with the NetCDF library and the Dataset function\n",
    "        longitude (numpy Array): array with longitude values\n",
    "        latitude (numpy Array) : array with latitude values\n",
    "        title (str): title of the resulting plot\n",
    "    \"\"\"\n",
    "    fig=plt.figure(figsize=(20, 12))\n",
    "\n",
    "    ax=plt.axes(projection=ccrs.Mercator())\n",
    "    ax.coastlines()\n",
    "\n",
    "    gl = ax.gridlines(draw_labels=True, linestyle='--')\n",
    "    gl.xlabels_top=False\n",
    "    gl.ylabels_right=False\n",
    "    gl.xformatter=LONGITUDE_FORMATTER\n",
    "    gl.yformatter=LATITUDE_FORMATTER\n",
    "    gl.xlabel_style={'size':14}\n",
    "    gl.ylabel_style={'size':14}\n",
    "\n",
    "    img1 = plt.pcolormesh(longitude, latitude, array*np.nan, color=colorTuple,\n",
    "                          clip_on = True,\n",
    "                          edgecolors=None,\n",
    "                          zorder=0,\n",
    "                          transform=ccrs.PlateCarree())\n",
    "    ax.set_title(title, fontsize=20, pad=20.0)\n",
    "    plt.show()"
   ]
  },
  {
   "cell_type": "code",
   "execution_count": null,
   "metadata": {},
   "outputs": [],
   "source": [
    "visualize_s3_pcolormesh(colorTuple,red, lat, lon, 'Sentinel-3 OLCI Level-1 True Color RGB - \"25 Jul 2019\"')"
   ]
  },
  {
   "cell_type": "markdown",
   "metadata": {},
   "source": [
    "<br>"
   ]
  },
  {
   "cell_type": "markdown",
   "metadata": {},
   "source": [
    "## <a id='false_color'></a>Create a False Color RGB image and plot it as georeferenced image "
   ]
  },
  {
   "cell_type": "markdown",
   "metadata": {},
   "source": [
    "A false color RGB image can be applied if specific phenomena should be highlighted. A channel combination for Sentinel-3 OLCI data could be:\n",
    "- Red: `Oa17_radiance`\n",
    "- Green: `Oa05_radiance`\n",
    "- Blue: `Oa02_radiance`\n",
    "\n",
    "This selection is advantageous to identify burnt areas and wildfires. The combination highlights healthy vegeation as red and burnt areas as black.\n",
    "\n",
    "Let's repeat the steps from above to visualize the image as False Color RGB composite."
   ]
  },
  {
   "cell_type": "markdown",
   "metadata": {},
   "source": [
    "#### Select RGB channels"
   ]
  },
  {
   "cell_type": "markdown",
   "metadata": {},
   "source": [
    "The first step is to select the channels `Oa17_radiance`, `Oa05_radiance` and `Oa02_radiance` as red, green and blue channels respectively."
   ]
  },
  {
   "cell_type": "code",
   "execution_count": null,
   "metadata": {},
   "outputs": [],
   "source": [
    "red_fc, green_fc, blue_fc = select_channels_for_rgb(olci_xr_mf, 'Oa17_radiance', 'Oa05_radiance', 'Oa02_radiance')"
   ]
  },
  {
   "cell_type": "markdown",
   "metadata": {},
   "source": [
    "#### Normalize"
   ]
  },
  {
   "cell_type": "markdown",
   "metadata": {},
   "source": [
    "You also want to normalize these channels and stack them afterwards into a three-dimensional array."
   ]
  },
  {
   "cell_type": "code",
   "execution_count": null,
   "metadata": {},
   "outputs": [],
   "source": [
    "redn_fc = normalize(red_fc)\n",
    "greenn_fc = normalize(green_fc)\n",
    "bluen_fc = normalize(blue_fc)"
   ]
  },
  {
   "cell_type": "code",
   "execution_count": null,
   "metadata": {},
   "outputs": [],
   "source": [
    "rgb_fc = np.dstack((redn_fc, greenn_fc, bluen_fc))"
   ]
  },
  {
   "cell_type": "markdown",
   "metadata": {},
   "source": [
    "#### Histogram equalization"
   ]
  },
  {
   "cell_type": "markdown",
   "metadata": {},
   "source": [
    "Apply histogram equalization."
   ]
  },
  {
   "cell_type": "code",
   "execution_count": null,
   "metadata": {},
   "outputs": [],
   "source": [
    "rgb_fc = exposure.equalize_adapthist(rgb_fc)"
   ]
  },
  {
   "cell_type": "markdown",
   "metadata": {},
   "source": [
    "Let's have a sneak-peak to the un-georefrenced image with `plt.imshow()`"
   ]
  },
  {
   "cell_type": "code",
   "execution_count": null,
   "metadata": {},
   "outputs": [],
   "source": [
    "fig = plt.figure(figsize=(10,6))\n",
    "plt.imshow(rgb_fc)"
   ]
  },
  {
   "cell_type": "markdown",
   "metadata": {},
   "source": [
    "#### Visualize with function `visualize_s3_pcolormesh`"
   ]
  },
  {
   "cell_type": "code",
   "execution_count": null,
   "metadata": {},
   "outputs": [],
   "source": [
    "mesh_rgb = rgb_fc[:, :-1, :]\n",
    "colorTuple = mesh_rgb.reshape((mesh_rgb.shape[0] * mesh_rgb.shape[1]), 3)\n",
    "colorTuple = np.insert(colorTuple, 3, 1.0, axis=1)"
   ]
  },
  {
   "cell_type": "code",
   "execution_count": null,
   "metadata": {},
   "outputs": [],
   "source": [
    "visualize_s3_pcolormesh(colorTuple, red_fc, lat, lon, 'Sentinel-3 OLCI Level-1 False Color RGB - \"25 Jul 2019\"')"
   ]
  },
  {
   "cell_type": "markdown",
   "metadata": {},
   "source": [
    "<br>"
   ]
  },
  {
   "cell_type": "markdown",
   "metadata": {},
   "source": [
    "<a href=\"./24_ltpy_CAMS_data.ipynb\"><< 24 - Copernicus Atmosphere Monitoring Service (CAMS) data </a><span style=\"float:right;\"><a href=\"./31_ltpy_AC_SAF_GOME-2_L2_case_study.ipynb\">31 - AC SAF GOME-2 Level 2 case study >></a></span>"
   ]
  },
  {
   "cell_type": "markdown",
   "metadata": {},
   "source": [
    "<hr>"
   ]
  },
  {
   "cell_type": "markdown",
   "metadata": {},
   "source": [
    "<p style=\"text-align:left;\">This project is licensed under the <a href=\"./LICENSE\">MIT License</a> <span style=\"float:right;\"><a href=\"https://gitlab.eumetsat.int/eumetlab/atmosphere/atmosphere\">View on GitLab</a> | <a href=\"https://training.eumetsat.int/\">EUMETSAT Training</a> | <a href=mailto:training@eumetsat.int>Contact</a></span></p>"
   ]
  }
 ],
 "metadata": {
  "kernelspec": {
   "display_name": "Python 3",
   "language": "python",
   "name": "python3"
  },
  "language_info": {
   "codemirror_mode": {
    "name": "ipython",
    "version": 3
   },
   "file_extension": ".py",
   "mimetype": "text/x-python",
   "name": "python",
   "nbconvert_exporter": "python",
   "pygments_lexer": "ipython3",
   "version": "3.7.3"
  }
 },
 "nbformat": 4,
 "nbformat_minor": 2
}
