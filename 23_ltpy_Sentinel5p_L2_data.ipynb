{
 "cells": [
  {
   "cell_type": "markdown",
   "metadata": {
    "Collapsed": "false"
   },
   "source": [
    "<img src='./img/EU-Copernicus-EUM_3Logos.png' alt='Logo EU Copernicus EUMETSAT' align='right' width='50%'></img>"
   ]
  },
  {
   "cell_type": "markdown",
   "metadata": {
    "Collapsed": "false"
   },
   "source": [
    "<br>"
   ]
  },
  {
   "cell_type": "markdown",
   "metadata": {
    "Collapsed": "false"
   },
   "source": [
    "<a href=\"./22_ltpy_AC_SAF_GOME-2_L3.ipynb\"><< 22 - AC SAF - GOME-2 - Level 3 </a><span style=\"float:right;\"><a href=\"./24_ltpy_CAMS_data.ipynb\">24 - Copernicus Atmosphere Monitoring Service (CAMS) data >></a></span>"
   ]
  },
  {
   "cell_type": "markdown",
   "metadata": {
    "Collapsed": "false"
   },
   "source": [
    "# 2.3 Copernicus Sentinel-5 Precursor (Sentinel-5P)"
   ]
  },
  {
   "cell_type": "markdown",
   "metadata": {
    "Collapsed": "false"
   },
   "source": [
    "A precursor satellite mission, Sentinel-5P aims to fill in the data gap and provide data continuity between the retirement of the Envisat satellite and NASA's Aura mission and the launch of Sentinel-5. The Copernicus Sentinel-5P mission is being used to closely monitor the changes in air quality and was launched in October 2017.\n",
    "\n",
    "Sentinel-5p Pre-Ops data are disseminated in the `netCDF` format and can be downloaded via the [Copernicus Open Access Hub](https://scihub.copernicus.eu/).\n",
    "\n",
    "Sentinel-5p carries the `TROPOMI` instrument, which is a spectrometer in the UV-VIS-NIR-SWIR spectral range. `TROPOMI` provides measurements on:\n",
    "* `Ozone`\n",
    "* `NO`<sub>`2`</sub>\n",
    "* `SO`<sub>`2`</sub>\n",
    "* `Formaldehyde`\n",
    "* `Aerosol`\n",
    "* `Carbonmonoxide`\n",
    "* `Methane`\n",
    "* `Clouds`"
   ]
  },
  {
   "cell_type": "markdown",
   "metadata": {
    "Collapsed": "false"
   },
   "source": [
    "#### Module outline:\n",
    "* [1 - Load and browse Sentinel-5P data](#load_s5p)\n",
    "* [2 - Plotting example - Sentinel-5P data](#plotting_s5p)\n",
    "* [3 - Retrieve and visualize Sentinel-5P data with a Web Coverage Service from the TOP platform](#wcs_s5p)"
   ]
  },
  {
   "cell_type": "markdown",
   "metadata": {
    "Collapsed": "false"
   },
   "source": [
    "#### Load required libraries"
   ]
  },
  {
   "cell_type": "code",
   "execution_count": null,
   "metadata": {
    "Collapsed": "false"
   },
   "outputs": [],
   "source": [
    "%matplotlib inline\n",
    "import os\n",
    "import xarray as xr\n",
    "import numpy as np\n",
    "import netCDF4 as nc\n",
    "\n",
    "import matplotlib.pyplot as plt\n",
    "from matplotlib.colors import LogNorm\n",
    "import cartopy.crs as ccrs\n",
    "from cartopy.mpl.gridliner import LONGITUDE_FORMATTER, LATITUDE_FORMATTER\n",
    "\n",
    "from matplotlib.axes import Axes\n",
    "from cartopy.mpl.geoaxes import GeoAxes\n",
    "GeoAxes._pcolormesh_patched = Axes.pcolormesh\n",
    "\n",
    "import geopandas as gpd\n",
    "\n",
    "import warnings\n",
    "warnings.simplefilter(action = \"ignore\", category = RuntimeWarning)"
   ]
  },
  {
   "cell_type": "markdown",
   "metadata": {
    "Collapsed": "false"
   },
   "source": [
    "<hr>"
   ]
  },
  {
   "cell_type": "markdown",
   "metadata": {
    "Collapsed": "false"
   },
   "source": [
    "## <a id=\"load_s5p\"></a>Load and browse Sentinel-5P data"
   ]
  },
  {
   "cell_type": "markdown",
   "metadata": {
    "Collapsed": "false"
   },
   "source": [
    "### Open one individual Sentinel-5P netCDF file with `NetCDF4`"
   ]
  },
  {
   "cell_type": "markdown",
   "metadata": {
    "Collapsed": "false"
   },
   "source": [
    "The dataset object contains information about the general data structure of the dataset. You can see that the variables of `Sentinel-5P` data are organised in groups, which is analogous to directories in a filesystem."
   ]
  },
  {
   "cell_type": "code",
   "execution_count": null,
   "metadata": {
    "Collapsed": "false"
   },
   "outputs": [],
   "source": [
    "s5p_file = nc.Dataset('./eodata/sentinel5p/co/2019/08/19/S5P_OFFL_L2__CO_____20190819T164807_20190819T182937_09581_01_010302_20190825T161022.nc', 'r')\n",
    "s5p_file.groups"
   ]
  },
  {
   "cell_type": "markdown",
   "metadata": {
    "Collapsed": "false"
   },
   "source": [
    "<br>"
   ]
  },
  {
   "cell_type": "markdown",
   "metadata": {
    "Collapsed": "false"
   },
   "source": [
    "If you select the `/PRODUCT` group, you get more information on what variables the dataset object contain."
   ]
  },
  {
   "cell_type": "code",
   "execution_count": null,
   "metadata": {
    "Collapsed": "false"
   },
   "outputs": [],
   "source": [
    "s5p_file.groups['PRODUCT']"
   ]
  },
  {
   "cell_type": "markdown",
   "metadata": {
    "Collapsed": "false"
   },
   "source": [
    "<br>"
   ]
  },
  {
   "cell_type": "markdown",
   "metadata": {
    "Collapsed": "false"
   },
   "source": [
    "You see that the object contains the following variables:\n",
    "* `scanline`\n",
    "* `ground_pixel`\n",
    "* `time`\n",
    "* `corner`\n",
    "* `delta_time`\n",
    "* `time_utc`\n",
    "* `ga_value`\n",
    "* `latitude`\n",
    "* `longitude`\n",
    "* `carbonmonoxide_total_column`\n",
    "* `carbonmonoxie_total_column_precision`"
   ]
  },
  {
   "cell_type": "markdown",
   "metadata": {
    "Collapsed": "false"
   },
   "source": [
    "You can specify one variable of interest and get more detailed information about the variable. E.g. `carbonmonoxide_total_column` is the atmosphere mole content of carbon monoxide, has the unit mol m<sup>-2</sup>, and is a 3D variable.\n",
    "\n",
    "You can do this for the available variables, but also for the dimensions latitude and longitude.\n",
    "You can see e.g. that the `latitude` coordinates range between -85.9 S and 61.9 S and the `longitude` coordinates range between -124.3 W to 101.9 E."
   ]
  },
  {
   "cell_type": "code",
   "execution_count": null,
   "metadata": {
    "Collapsed": "false",
    "scrolled": false
   },
   "outputs": [],
   "source": [
    "co = s5p_file.groups['PRODUCT'].variables['carbonmonoxide_total_column']\n",
    "lon = s5p_file.groups['PRODUCT'].variables['longitude'][:][0,:,:]\n",
    "lat = s5p_file.groups['PRODUCT'].variables['latitude'][:][0,:,:]\n",
    "\n",
    "co, lon, lat"
   ]
  },
  {
   "cell_type": "markdown",
   "metadata": {
    "Collapsed": "false"
   },
   "source": [
    "<br>"
   ]
  },
  {
   "cell_type": "markdown",
   "metadata": {
    "Collapsed": "false"
   },
   "source": [
    "You can retrieve the array values of the variable object by selecting the `time` dimension and `data`. You can have a look at the `minimum` and `maximum` data value to get an idea of the data range. You see that the data contain negative values. Let's mask the negative values and all values equal to the `_FillValue` and set it to `NaN`. `_FillValue` is used for not significant data. Thus, you want to mask those."
   ]
  },
  {
   "cell_type": "code",
   "execution_count": null,
   "metadata": {
    "Collapsed": "false"
   },
   "outputs": [],
   "source": [
    "co_data = co[0,:,:].data\n",
    "print(co_data.min(), co_data.max())"
   ]
  },
  {
   "cell_type": "code",
   "execution_count": null,
   "metadata": {
    "Collapsed": "false"
   },
   "outputs": [],
   "source": [
    "co_data[co_data <= 0.] = co._FillValue\n",
    "co_data[co_data == co._FillValue] = np.nan"
   ]
  },
  {
   "cell_type": "markdown",
   "metadata": {
    "Collapsed": "false"
   },
   "source": [
    "<br>"
   ]
  },
  {
   "cell_type": "markdown",
   "metadata": {
    "Collapsed": "false"
   },
   "source": [
    "## <a id=\"plotting_s5p\"></a>Plotting example - Sentinel-5P data"
   ]
  },
  {
   "cell_type": "markdown",
   "metadata": {
    "Collapsed": "false"
   },
   "source": [
    "### Plot `Dataset` NetCDF library object with `matplotlib` and `cartopy`"
   ]
  },
  {
   "cell_type": "markdown",
   "metadata": {
    "Collapsed": "false"
   },
   "source": [
    "The retrieved data array from the Dataset NetCDF object is of type `numpy array` and you can plot it with matplotlib's `pcolormesh` function. Due to the nature of the `CO` data values, we apply a logarithmic scale to the color bar with `LogNorm` from `matplotlib.colors`, which facilitates the visualisation of the data.\n",
    "\n",
    "Let's create a function [visualize_s5p_pcolormesh](./ltpy_functions.ipynb#visualize_s5p_pcolormesh), where we can specify projection, extent, conversion_factor, color_scale, unit, title and if the plot shall have a global extent."
   ]
  },
  {
   "cell_type": "code",
   "execution_count": null,
   "metadata": {},
   "outputs": [],
   "source": [
    "def visualize_s5p_pcolormesh(data_array, longitude, latitude, projection, color_scale, unit, long_name, vmin, vmax, lonmin, lonmax, latmin, latmax, log=True, set_global=True):\n",
    "    \"\"\" \n",
    "    Visualizes a numpy array with matplotlib's 'pcolormesh' function.\n",
    "    \n",
    "    Parameters:\n",
    "        data_array: any numpy MaskedArray, e.g. loaded with the NetCDF library and the Dataset function\n",
    "        longitude: numpy Array holding longitude information\n",
    "        latitude: numpy Array holding latitude information\n",
    "        projection: a projection provided by the cartopy library, e.g. ccrs.PlateCarree()\n",
    "        color_scale (str): string taken from matplotlib's color ramp reference\n",
    "        unit (str): the unit of the parameter, taken from the NetCDF file if possible\n",
    "        long_name (str): long name of the parameter, taken from the NetCDF file if possible\n",
    "        vmin (int): minimum number on visualisation legend\n",
    "        vmax (int): maximum number on visualisation legend\n",
    "        lonmin,lonmax,latmin,latmax: geographic extent of the plot\n",
    "        log (logical): set True, if the values shall be represented in a logarithmic scale\n",
    "        set_global (logical): set True, if the plot shall have a global coverage\n",
    "    \"\"\"\n",
    "    fig=plt.figure(figsize=(20, 10))\n",
    "\n",
    "    ax = plt.axes(projection=projection)\n",
    "\n",
    "    # define the coordinate system that the grid lons and grid lats are on\n",
    "    if(log):\n",
    "        img = plt.pcolormesh(longitude, latitude, np.squeeze(data_array), norm=LogNorm(), \n",
    "                             cmap=plt.get_cmap(color_scale), transform=ccrs.PlateCarree(),\n",
    "                            vmin=vmin,\n",
    "                            vmax=vmax)\n",
    "    else:\n",
    "        img = plt.pcolormesh(longitude, latitude, data_array, \n",
    "                        cmap=plt.get_cmap(color_scale), transform=ccrs.PlateCarree(),\n",
    "                        vmin=vmin,\n",
    "                        vmax=vmax)\n",
    "\n",
    "    ax.coastlines()\n",
    "\n",
    "    if (projection==ccrs.PlateCarree()):\n",
    "        ax.set_extent([lonmin, lonmax, latmin, latmax], projection)\n",
    "        gl = ax.gridlines(draw_labels=True, linestyle='--')\n",
    "        gl.xlabels_top=False\n",
    "        gl.ylabels_right=False\n",
    "        gl.xformatter=LONGITUDE_FORMATTER\n",
    "        gl.yformatter=LATITUDE_FORMATTER\n",
    "        gl.xlabel_style={'size':14}\n",
    "        gl.ylabel_style={'size':14}\n",
    "\n",
    "    if(set_global):\n",
    "        ax.set_global()\n",
    "        ax.gridlines()\n",
    "\n",
    "    cbar = fig.colorbar(img, ax=ax, orientation='horizontal', fraction=0.04, pad=0.1)\n",
    "    cbar.set_label(unit, fontsize=16)\n",
    "    cbar.ax.tick_params(labelsize=14)\n",
    "    ax.set_title(long_name, fontsize=20, pad=20.0)\n",
    "\n",
    "    return fig, ax"
   ]
  },
  {
   "cell_type": "markdown",
   "metadata": {},
   "source": [
    "You can retrieve unit and title information from the load `Dataset`, where the information is stored as attributes. You can now plot the data."
   ]
  },
  {
   "cell_type": "code",
   "execution_count": null,
   "metadata": {
    "Collapsed": "false"
   },
   "outputs": [],
   "source": [
    "unit = co.units\n",
    "long_name = co.long_name\n",
    "\n",
    "visualize_s5p_pcolormesh(co_data, lon, lat, ccrs.Mollweide(), 'viridis', unit, long_name, 0.01,1, lon.min(), lon.max(), lat.min(), lat.max(), log=True, set_global=True)"
   ]
  },
  {
   "cell_type": "markdown",
   "metadata": {
    "Collapsed": "false"
   },
   "source": [
    "<br>"
   ]
  },
  {
   "cell_type": "markdown",
   "metadata": {
    "Collapsed": "false"
   },
   "source": [
    "You can zoom into a region by specifying a `bounding box` of interest. Let's set the extent to South America, with: `[-100, 0, -80, 40]`. The above plotting function [visualize_s5p_pcolormesh](./ltpy_functions.ipynb#visualize_s5p_pcolormesh) allows for setting a specific bounding box. You simply have to set the `set_global` key to False. It is best to adjust the projection to `PlateCarree()`, as this will be more appropriate for a regional subset."
   ]
  },
  {
   "cell_type": "code",
   "execution_count": null,
   "metadata": {
    "Collapsed": "false"
   },
   "outputs": [],
   "source": [
    "lonmin=-100\n",
    "lonmax=0\n",
    "latmin=-80\n",
    "latmax=40\n",
    "\n",
    "visualize_s5p_pcolormesh(co_data, lon, lat, ccrs.PlateCarree(), 'viridis', unit, long_name, 0.01,1, lonmin, lonmax, latmin, latmax, log=True, set_global=False)"
   ]
  },
  {
   "cell_type": "markdown",
   "metadata": {
    "Collapsed": "false"
   },
   "source": [
    "<br>"
   ]
  },
  {
   "cell_type": "markdown",
   "metadata": {
    "Collapsed": "false"
   },
   "source": [
    "### Load multiple Sentinel-5p data files with `xarray` and `open_mfdataset`"
   ]
  },
  {
   "cell_type": "markdown",
   "metadata": {
    "Collapsed": "false"
   },
   "source": [
    "The plots above showed the extent of one Sentinel-5P ground track. You can load multiple ground tracks into a single `xarray` and the `DataArrays` will be concatenated at the `scanline` dimension. This allows you to have a larger region of interest (ROI)."
   ]
  },
  {
   "cell_type": "code",
   "execution_count": null,
   "metadata": {
    "Collapsed": "false"
   },
   "outputs": [],
   "source": [
    "s5p_mf_19 = xr.open_mfdataset('./eodata/sentinel5p/co/2019/08/19/*.nc', concat_dim='scanline', combine='nested', group='PRODUCT')\n",
    "s5p_mf_19"
   ]
  },
  {
   "cell_type": "markdown",
   "metadata": {
    "Collapsed": "false"
   },
   "source": [
    "<br>"
   ]
  },
  {
   "cell_type": "markdown",
   "metadata": {
    "Collapsed": "false"
   },
   "source": [
    "From the `Dataset` object `s5p_mf_19`, you can choose the data variable of interest, e.g. `carbonmonoxide_total_column`. It has three dimensions (`3D`), but the time dimension consisting only of one dimension entry. If you want to reduce it by the dimension time, you can simply select the first dimension and reduce it to a `2D` object. You can again use the function [visualize_s5p_pcolormesh](./ltpy_functions.ipynb#visualize_s5p_pcolormesh) to visualize the data."
   ]
  },
  {
   "cell_type": "code",
   "execution_count": null,
   "metadata": {
    "Collapsed": "false"
   },
   "outputs": [],
   "source": [
    "co_19 = s5p_mf_19.carbonmonoxide_total_column[0,:,:]\n",
    "lat_19 = co_19.latitude\n",
    "lon_19 = co_19.longitude\n",
    "\n",
    "unit = co_19.units\n",
    "long_name = co_19.long_name"
   ]
  },
  {
   "cell_type": "code",
   "execution_count": null,
   "metadata": {
    "Collapsed": "false"
   },
   "outputs": [],
   "source": [
    "visualize_s5p_pcolormesh(co_19, lon_19, lat_19, ccrs.PlateCarree(), 'viridis', unit, long_name, 0.01, 1.0, lonmin, lonmax, latmin, latmax, log=True, set_global=False)\n"
   ]
  },
  {
   "cell_type": "markdown",
   "metadata": {
    "Collapsed": "false"
   },
   "source": [
    "<br>"
   ]
  },
  {
   "cell_type": "markdown",
   "metadata": {},
   "source": [
    "<hr>"
   ]
  },
  {
   "cell_type": "markdown",
   "metadata": {
    "Collapsed": "false"
   },
   "source": [
    "## <a id=\"wcs_s5p\"></a>Retrieve and visualize Sentinel-5P data with a Web Coverage Service from the TOP platform"
   ]
  },
  {
   "cell_type": "markdown",
   "metadata": {
    "Collapsed": "false"
   },
   "source": [
    "A `Web Coverage Service (WCS)` defined by the `Open Geospatial Consortium (OGC)` allows for a standardised on-demand data access, without the need to download multiple GBs of data. The [Technology and atmospheric mission operations platform - (TOP platform)](https://top-platform.eu) offers a Web Coverage Service protocol to access global Sentinel-5p data."
   ]
  },
  {
   "cell_type": "code",
   "execution_count": null,
   "metadata": {
    "Collapsed": "false"
   },
   "outputs": [],
   "source": [
    "%run './adampy.py'"
   ]
  },
  {
   "cell_type": "code",
   "execution_count": null,
   "metadata": {
    "Collapsed": "false"
   },
   "outputs": [],
   "source": [
    "import adampy as adam"
   ]
  },
  {
   "cell_type": "markdown",
   "metadata": {
    "Collapsed": "false"
   },
   "source": [
    "<br>"
   ]
  },
  {
   "cell_type": "markdown",
   "metadata": {
    "Collapsed": "false"
   },
   "source": [
    "With two lines, you can specify the time range and the Sentinel-5P collection parameter you are interested in. With the `getImageSentinel5p` function, you can then retrieve the data without the need to download it. The data values are returned as a `numpy` array and a dictionary with additional metadata.\n"
   ]
  },
  {
   "cell_type": "code",
   "execution_count": null,
   "metadata": {
    "Collapsed": "false"
   },
   "outputs": [],
   "source": [
    "collection = 'vr_S5P_OFFLNRTI_L2__CO'\n",
    "time_t = '2019-08-18T00:00:00,2019-08-18T23:59:59'\n",
    "\n",
    "image, metadata = adam.getImageSentinel5p('wcs.top-platform.eu', collection, time_t, scale = 0.1).get_data()\n",
    "image, metadata"
   ]
  },
  {
   "cell_type": "markdown",
   "metadata": {
    "Collapsed": "false"
   },
   "source": [
    "<br>"
   ]
  },
  {
   "cell_type": "markdown",
   "metadata": {
    "Collapsed": "false"
   },
   "source": [
    "You can make use of the function `visualize_imshow`, which was defined in the module [22_ltpy_v01_AC_SAF_GOME-2_L3](./22_ltpy_v01_AC_SAF_GOME-2_L3.ipynb), but youhave to adjust it for Sentinel-5P Carbonmonoxide values. Instead of specifying a minimum and maximum of the color range, you can add `norm=LogNorm()`, to allow for a logarithmic scaling."
   ]
  },
  {
   "cell_type": "code",
   "execution_count": null,
   "metadata": {
    "Collapsed": "false"
   },
   "outputs": [],
   "source": [
    "def visualize_imshow(data_array, projection, extent, color_scale, unit, long_name, set_global=False):\n",
    "    fig=plt.figure(figsize=(20, 12))\n",
    "\n",
    "    ax=plt.axes(projection=projection)\n",
    "    ax.coastlines()\n",
    "    ax.gridlines()\n",
    "    if(set_global):\n",
    "        ax.set_global()\n",
    "\n",
    "    ax.set_title(long_name, fontsize=20, pad=20.0)\n",
    "\n",
    "    gl = ax.gridlines(draw_labels=True, linestyle='--')\n",
    "    gl.xlabels_top=False\n",
    "    gl.ylabels_right=False\n",
    "    gl.xformatter=LONGITUDE_FORMATTER\n",
    "    gl.yformatter=LATITUDE_FORMATTER\n",
    "    \n",
    "    gl.xlabel_style={'size':14}\n",
    "    gl.ylabel_style={'size':14}\n",
    "\n",
    "    img1 = plt.imshow(data_array[:],\n",
    "           extent=extent,\n",
    "           cmap=color_scale,\n",
    "           norm=LogNorm(),\n",
    "           transform=ccrs.PlateCarree())\n",
    "\n",
    "    cbar = fig.colorbar(img1, ax=ax, orientation='horizontal', fraction=0.04, pad=0.1)\n",
    "    cbar.set_label(unit, fontsize=16)\n",
    "    cbar.ax.tick_params(labelsize=14)\n",
    "    \n",
    "    plt.show()"
   ]
  },
  {
   "cell_type": "markdown",
   "metadata": {
    "Collapsed": "false"
   },
   "source": [
    "<br>"
   ]
  },
  {
   "cell_type": "markdown",
   "metadata": {
    "Collapsed": "false"
   },
   "source": [
    "From the `metadata` object, we can retrieve the `bounding box` information in order to set the extent of the plot."
   ]
  },
  {
   "cell_type": "code",
   "execution_count": null,
   "metadata": {
    "Collapsed": "false"
   },
   "outputs": [],
   "source": [
    "bbox = metadata['bbox']\n",
    "extent=[bbox[0],bbox[2],bbox[1],bbox[3]]\n",
    "unit = 'mol / m-2'\n",
    "long_name = 'Vertically integrated column of carbon monoxide'\n",
    "\n",
    "visualize_imshow(image, ccrs.PlateCarree(), extent, 'viridis', unit, long_name, set_global=False)"
   ]
  },
  {
   "cell_type": "markdown",
   "metadata": {
    "Collapsed": "false"
   },
   "source": [
    "<br>"
   ]
  },
  {
   "cell_type": "markdown",
   "metadata": {
    "Collapsed": "false"
   },
   "source": [
    "<a href=\"./22_ltpy_AC_SAF_GOME-2_L3.ipynb\"><< 22 - AC SAF - GOME-2 - Level 3 </a><span style=\"float:right;\"><a href=\"./24_ltpy_CAMS_data.ipynb\">24 - Copernicus Atmosphere Monitoring Service (CAMS) data >></a></span>"
   ]
  },
  {
   "cell_type": "markdown",
   "metadata": {
    "Collapsed": "false"
   },
   "source": [
    "<hr>"
   ]
  },
  {
   "cell_type": "markdown",
   "metadata": {
    "Collapsed": "false"
   },
   "source": [
    "<p style=\"text-align:left;\">This project is licensed under the <a href=\"./LICENSE\">MIT License</a> <span style=\"float:right;\"><a href=\"https://gitlab.eumetsat.int/eumetlab/atmosphere/atmosphere\">View on GitLab</a> | <a href=\"https://training.eumetsat.int/\">EUMETSAT Training</a> | <a href=mailto:training@eumetsat.int>Contact</a></span></p>"
   ]
  }
 ],
 "metadata": {
  "kernelspec": {
   "display_name": "Python 3",
   "language": "python",
   "name": "python3"
  },
  "language_info": {
   "codemirror_mode": {
    "name": "ipython",
    "version": 3
   },
   "file_extension": ".py",
   "mimetype": "text/x-python",
   "name": "python",
   "nbconvert_exporter": "python",
   "pygments_lexer": "ipython3",
   "version": "3.7.3"
  }
 },
 "nbformat": 4,
 "nbformat_minor": 4
}
